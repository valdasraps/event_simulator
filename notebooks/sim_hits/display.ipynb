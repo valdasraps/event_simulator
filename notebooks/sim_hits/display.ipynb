{
 "cells": [
  {
   "metadata": {},
   "cell_type": "code",
   "outputs": [],
   "execution_count": null,
   "source": [
    "import pandas as pd\n",
    "import numpy as np\n",
    "import matplotlib.pyplot as plt\n",
    "from mpl_toolkits.mplot3d import Axes3D"
   ],
   "id": "a34cd9298b7d4203"
  },
  {
   "metadata": {},
   "cell_type": "code",
   "outputs": [],
   "execution_count": null,
   "source": [
    "# Load the CSV file\n",
    "df = pd.read_csv('psimhits_all.csv')\n",
    "\n",
    "# Optionally filter specific subsystem or particle type\n",
    "df = df[df['subsystem'] == 'g4SimHitsMuonCSCHits']\n",
    "# df = df[df['particleType'] == -13]  # for example, muons\n",
    "\n",
    "df.shape"
   ],
   "id": "6eeda04f5c164340"
  },
  {
   "metadata": {},
   "cell_type": "code",
   "outputs": [],
   "execution_count": null,
   "source": "df",
   "id": "8cb7bf7b95537c22"
  },
  {
   "metadata": {},
   "cell_type": "code",
   "outputs": [],
   "execution_count": null,
   "source": [
    "df = df.head(5000)\n",
    "df.shape"
   ],
   "id": "f8fe3015a23f8193"
  },
  {
   "metadata": {},
   "cell_type": "code",
   "outputs": [],
   "execution_count": null,
   "source": [
    "# Create 3D figure\n",
    "fig = plt.figure(figsize=(14, 10))\n",
    "ax = fig.add_subplot(111, projection='3d')\n",
    "\n",
    "# ---- PLOT SIMHIT LINES ----\n",
    "for _, row in df.iterrows():\n",
    "    x = [row['entryX'], row['exitX']]\n",
    "    y = [row['entryY'], row['exitY']]\n",
    "    z = [row['entryZ'], row['exitZ']]\n",
    "    ax.plot(x, y, z, color='blue', alpha=0.3)\n",
    "\n",
    "# ---- DRAW CMS MUON DETECTOR CONTOURS ----\n",
    "\n",
    "def draw_cylinder(ax, radius, zmin, zmax, color='gray', alpha=0.1):\n",
    "    \"\"\"Draws a vertical cylinder aligned with the z-axis.\"\"\"\n",
    "    theta = np.linspace(0, 2 * np.pi, 100)\n",
    "    z = np.linspace(zmin, zmax, 2)\n",
    "    theta_grid, z_grid = np.meshgrid(theta, z)\n",
    "    x_grid = radius * np.cos(theta_grid)\n",
    "    y_grid = radius * np.sin(theta_grid)\n",
    "    ax.plot_surface(x_grid, y_grid, z_grid, color=color, alpha=alpha, linewidth=0)\n",
    "\n",
    "def draw_disk(ax, rmin, rmax, z_fixed, color='red', alpha=0.1):\n",
    "    \"\"\"Draws a flat disk perpendicular to z at z=z_fixed.\"\"\"\n",
    "    theta = np.linspace(0, 2 * np.pi, 100)\n",
    "    r = np.linspace(rmin, rmax, 2)\n",
    "    r_grid, theta_grid = np.meshgrid(r, theta)\n",
    "    x = r_grid * np.cos(theta_grid)\n",
    "    y = r_grid * np.sin(theta_grid)\n",
    "    z = np.full_like(x, z_fixed)\n",
    "    ax.plot_surface(x, y, z, color=color, alpha=alpha, linewidth=0)\n",
    "\n",
    "# Barrel: DT region cylinder\n",
    "draw_cylinder(ax, radius=300, zmin=-700, zmax=700, color='gray', alpha=0.1)\n",
    "draw_cylinder(ax, radius=600, zmin=-700, zmax=700, color='gray', alpha=0.1)\n",
    "\n",
    "# Endcap: CSC disks at z = ±600 to ±1100\n",
    "for z_pos in [600, 800, 1000, 1100]:\n",
    "    draw_disk(ax, rmin=120, rmax=800, z_fixed= z_pos, color='red', alpha=0.1)\n",
    "    draw_disk(ax, rmin=120, rmax=800, z_fixed=-z_pos, color='red', alpha=0.1)\n",
    "\n",
    "# Label and limits\n",
    "ax.set_xlabel(\"X [cm]\")\n",
    "ax.set_ylabel(\"Y [cm]\")\n",
    "ax.set_zlabel(\"Z [cm]\")\n",
    "ax.set_title(\"Simulated Hits with CMS Muon Detector Contour\")\n",
    "ax.set_xlim(-800, 800)\n",
    "ax.set_ylim(-800, 800)\n",
    "ax.set_zlim(-1200, 1200)\n",
    "plt.tight_layout()\n",
    "plt.show()"
   ],
   "id": "34f2c36a3669e1ab"
  },
  {
   "metadata": {},
   "cell_type": "code",
   "outputs": [],
   "execution_count": null,
   "source": "",
   "id": "9ef297238a27d931"
  }
 ],
 "metadata": {},
 "nbformat": 5,
 "nbformat_minor": 9
}
