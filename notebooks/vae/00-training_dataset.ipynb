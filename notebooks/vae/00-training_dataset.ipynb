{
 "cells": [
  {
   "cell_type": "code",
   "execution_count": 7,
   "id": "afd63094-bbae-49d3-a73c-a00dba5e81d7",
   "metadata": {},
   "outputs": [],
   "source": [
    "import numpy as np\n",
    "import pandas as pd\n",
    "import itertools\n",
    "\n",
    "import matplotlib.pyplot as plt"
   ]
  },
  {
   "cell_type": "markdown",
   "id": "5283909b-aee4-4b01-b5c6-dff3d391ffe0",
   "metadata": {},
   "source": [
    "# Training dataset"
   ]
  },
  {
   "cell_type": "code",
   "execution_count": 8,
   "id": "0cfc1d0c-978f-4725-a2bb-c99eaea31e29",
   "metadata": {},
   "outputs": [],
   "source": [
    "df = pd.read_csv('../../data/pp_4l_all.csv')\n",
    "cols_cont = [\n",
    "    'E1', 'p1x', 'p1y', 'p1z', \n",
    "    'E2', 'p2x', 'p2y', 'p2z',\n",
    "    'E3', 'p3x', 'p3y', 'p3z',\n",
    "    'E4', 'p4x', 'p4y', 'p4z', \n",
    "]\n",
    "cols_cat = ['pdg1', 'pdg2', 'pdg3', 'pdg4']\n",
    "\n",
    "df['schema'] = df[cols_cat].groupby(by=cols_cat).ngroup().values"
   ]
  },
  {
   "cell_type": "code",
   "execution_count": 9,
   "id": "a41a7ff4-6246-4a1d-bb6c-167bb22dffa7",
   "metadata": {},
   "outputs": [
    {
     "data": {
      "text/html": [
       "<div>\n",
       "<style scoped>\n",
       "    .dataframe tbody tr th:only-of-type {\n",
       "        vertical-align: middle;\n",
       "    }\n",
       "\n",
       "    .dataframe tbody tr th {\n",
       "        vertical-align: top;\n",
       "    }\n",
       "\n",
       "    .dataframe thead th {\n",
       "        text-align: right;\n",
       "    }\n",
       "</style>\n",
       "<table border=\"1\" class=\"dataframe\">\n",
       "  <thead>\n",
       "    <tr style=\"text-align: right;\">\n",
       "      <th></th>\n",
       "      <th>pdg1</th>\n",
       "      <th>E1</th>\n",
       "      <th>p1x</th>\n",
       "      <th>p1y</th>\n",
       "      <th>p1z</th>\n",
       "      <th>pdg2</th>\n",
       "      <th>E2</th>\n",
       "      <th>p2x</th>\n",
       "      <th>p2y</th>\n",
       "      <th>p2z</th>\n",
       "      <th>...</th>\n",
       "      <th>E3</th>\n",
       "      <th>p3x</th>\n",
       "      <th>p3y</th>\n",
       "      <th>p3z</th>\n",
       "      <th>pdg4</th>\n",
       "      <th>E4</th>\n",
       "      <th>p4x</th>\n",
       "      <th>p4y</th>\n",
       "      <th>p4z</th>\n",
       "      <th>schema</th>\n",
       "    </tr>\n",
       "  </thead>\n",
       "  <tbody>\n",
       "    <tr>\n",
       "      <th>0</th>\n",
       "      <td>11</td>\n",
       "      <td>20.274241</td>\n",
       "      <td>13.753708</td>\n",
       "      <td>1.397849</td>\n",
       "      <td>14.829915</td>\n",
       "      <td>-11</td>\n",
       "      <td>13.459523</td>\n",
       "      <td>-13.458053</td>\n",
       "      <td>-0.178631</td>\n",
       "      <td>0.087476</td>\n",
       "      <td>...</td>\n",
       "      <td>10.726935</td>\n",
       "      <td>1.457106</td>\n",
       "      <td>-9.715445</td>\n",
       "      <td>-4.306151</td>\n",
       "      <td>-13</td>\n",
       "      <td>19.941356</td>\n",
       "      <td>-1.752761</td>\n",
       "      <td>8.496227</td>\n",
       "      <td>17.955180</td>\n",
       "      <td>1</td>\n",
       "    </tr>\n",
       "    <tr>\n",
       "      <th>1</th>\n",
       "      <td>13</td>\n",
       "      <td>152.820099</td>\n",
       "      <td>63.584427</td>\n",
       "      <td>18.996694</td>\n",
       "      <td>-137.659427</td>\n",
       "      <td>-13</td>\n",
       "      <td>164.917905</td>\n",
       "      <td>4.471840</td>\n",
       "      <td>31.646155</td>\n",
       "      <td>-161.791309</td>\n",
       "      <td>...</td>\n",
       "      <td>137.529487</td>\n",
       "      <td>-39.586901</td>\n",
       "      <td>-44.338982</td>\n",
       "      <td>-124.021291</td>\n",
       "      <td>-13</td>\n",
       "      <td>39.559938</td>\n",
       "      <td>-28.469366</td>\n",
       "      <td>-6.303867</td>\n",
       "      <td>-26.734509</td>\n",
       "      <td>2</td>\n",
       "    </tr>\n",
       "    <tr>\n",
       "      <th>2</th>\n",
       "      <td>11</td>\n",
       "      <td>51.267102</td>\n",
       "      <td>27.995380</td>\n",
       "      <td>26.039697</td>\n",
       "      <td>34.154190</td>\n",
       "      <td>-11</td>\n",
       "      <td>43.013595</td>\n",
       "      <td>-7.827488</td>\n",
       "      <td>-17.337374</td>\n",
       "      <td>-38.578689</td>\n",
       "      <td>...</td>\n",
       "      <td>123.210062</td>\n",
       "      <td>0.378806</td>\n",
       "      <td>-41.833551</td>\n",
       "      <td>115.890116</td>\n",
       "      <td>-13</td>\n",
       "      <td>46.883635</td>\n",
       "      <td>-20.546697</td>\n",
       "      <td>33.131228</td>\n",
       "      <td>26.042638</td>\n",
       "      <td>1</td>\n",
       "    </tr>\n",
       "    <tr>\n",
       "      <th>3</th>\n",
       "      <td>13</td>\n",
       "      <td>64.805282</td>\n",
       "      <td>-3.653628</td>\n",
       "      <td>46.355274</td>\n",
       "      <td>45.139262</td>\n",
       "      <td>-13</td>\n",
       "      <td>38.158727</td>\n",
       "      <td>-29.094263</td>\n",
       "      <td>-15.298609</td>\n",
       "      <td>-19.379208</td>\n",
       "      <td>...</td>\n",
       "      <td>57.805237</td>\n",
       "      <td>34.629435</td>\n",
       "      <td>10.578369</td>\n",
       "      <td>45.059234</td>\n",
       "      <td>-13</td>\n",
       "      <td>42.993259</td>\n",
       "      <td>-1.881544</td>\n",
       "      <td>-41.635034</td>\n",
       "      <td>10.554281</td>\n",
       "      <td>2</td>\n",
       "    </tr>\n",
       "    <tr>\n",
       "      <th>4</th>\n",
       "      <td>13</td>\n",
       "      <td>25.501529</td>\n",
       "      <td>17.607195</td>\n",
       "      <td>-7.617831</td>\n",
       "      <td>-16.800957</td>\n",
       "      <td>-13</td>\n",
       "      <td>22.270427</td>\n",
       "      <td>3.366801</td>\n",
       "      <td>16.786119</td>\n",
       "      <td>-14.242599</td>\n",
       "      <td>...</td>\n",
       "      <td>36.269401</td>\n",
       "      <td>-21.935459</td>\n",
       "      <td>13.187325</td>\n",
       "      <td>-25.698023</td>\n",
       "      <td>-13</td>\n",
       "      <td>47.012227</td>\n",
       "      <td>0.961463</td>\n",
       "      <td>-22.355613</td>\n",
       "      <td>-41.345380</td>\n",
       "      <td>2</td>\n",
       "    </tr>\n",
       "  </tbody>\n",
       "</table>\n",
       "<p>5 rows × 21 columns</p>\n",
       "</div>"
      ],
      "text/plain": [
       "   pdg1          E1        p1x        p1y         p1z  pdg2          E2  \\\n",
       "0    11   20.274241  13.753708   1.397849   14.829915   -11   13.459523   \n",
       "1    13  152.820099  63.584427  18.996694 -137.659427   -13  164.917905   \n",
       "2    11   51.267102  27.995380  26.039697   34.154190   -11   43.013595   \n",
       "3    13   64.805282  -3.653628  46.355274   45.139262   -13   38.158727   \n",
       "4    13   25.501529  17.607195  -7.617831  -16.800957   -13   22.270427   \n",
       "\n",
       "         p2x        p2y         p2z  ...          E3        p3x        p3y  \\\n",
       "0 -13.458053  -0.178631    0.087476  ...   10.726935   1.457106  -9.715445   \n",
       "1   4.471840  31.646155 -161.791309  ...  137.529487 -39.586901 -44.338982   \n",
       "2  -7.827488 -17.337374  -38.578689  ...  123.210062   0.378806 -41.833551   \n",
       "3 -29.094263 -15.298609  -19.379208  ...   57.805237  34.629435  10.578369   \n",
       "4   3.366801  16.786119  -14.242599  ...   36.269401 -21.935459  13.187325   \n",
       "\n",
       "          p3z  pdg4         E4        p4x        p4y        p4z  schema  \n",
       "0   -4.306151   -13  19.941356  -1.752761   8.496227  17.955180       1  \n",
       "1 -124.021291   -13  39.559938 -28.469366  -6.303867 -26.734509       2  \n",
       "2  115.890116   -13  46.883635 -20.546697  33.131228  26.042638       1  \n",
       "3   45.059234   -13  42.993259  -1.881544 -41.635034  10.554281       2  \n",
       "4  -25.698023   -13  47.012227   0.961463 -22.355613 -41.345380       2  \n",
       "\n",
       "[5 rows x 21 columns]"
      ]
     },
     "execution_count": 9,
     "metadata": {},
     "output_type": "execute_result"
    }
   ],
   "source": [
    "df.head()"
   ]
  },
  {
   "cell_type": "code",
   "execution_count": 10,
   "id": "dcd5097f-2fe4-4d07-91f1-a263574bc1f1",
   "metadata": {},
   "outputs": [
    {
     "data": {
      "text/plain": [
       "Index(['pdg1', 'E1', 'p1x', 'p1y', 'p1z', 'pdg2', 'E2', 'p2x', 'p2y', 'p2z',\n",
       "       'pdg3', 'E3', 'p3x', 'p3y', 'p3z', 'pdg4', 'E4', 'p4x', 'p4y', 'p4z',\n",
       "       'schema'],\n",
       "      dtype='object')"
      ]
     },
     "execution_count": 10,
     "metadata": {},
     "output_type": "execute_result"
    }
   ],
   "source": [
    "df.columns"
   ]
  },
  {
   "cell_type": "code",
   "execution_count": 6,
   "id": "774bad4e-fb47-4f8d-ab08-3c96fe69d9b3",
   "metadata": {},
   "outputs": [
    {
     "data": {
      "text/plain": [
       "[['E1', 'p1x', 'p1y', 'p1z'],\n",
       " ['E2', 'p2x', 'p2y', 'p2z'],\n",
       " ['E3', 'p3x', 'p3y', 'p3z'],\n",
       " ['E4', 'p4x', 'p4y', 'p4z']]"
      ]
     },
     "execution_count": 6,
     "metadata": {},
     "output_type": "execute_result"
    }
   ],
   "source": [
    "schemas = [['E1', 'p1x', 'p1y', 'p1z'], \n",
    "           ['E2', 'p2x', 'p2y', 'p2z'],\n",
    "           ['E3', 'p3x', 'p3y', 'p3z'], \n",
    "           ['E4', 'p4x', 'p4y', 'p4z']]\n",
    "schemas"
   ]
  },
  {
   "cell_type": "code",
   "execution_count": 22,
   "id": "4c590b14-60ba-4484-9257-0388870155dd",
   "metadata": {},
   "outputs": [
    {
     "data": {
      "text/plain": [
       "(480000, 16)"
      ]
     },
     "execution_count": 22,
     "metadata": {},
     "output_type": "execute_result"
    }
   ],
   "source": [
    "data = None\n",
    "for c in itertools.permutations(schemas):\n",
    "    d = df[np.array(c).flatten().tolist()]\n",
    "    data = d if data is None else pd.concat([data, d], axis=0)\n",
    "data.shape"
   ]
  },
  {
   "cell_type": "code",
   "execution_count": 23,
   "id": "1bec3679-1cdf-4ff0-b214-ec0136fc8210",
   "metadata": {},
   "outputs": [],
   "source": [
    "e_sum_sq = np.power(data['E1'] + data['E2'] + data['E3'] + data['E4'], 2)\n",
    "x_sum_sq = np.power(data['p1x'] + data['p2x'] + data['p3x'] + data['p4x'], 2)\n",
    "y_sum_sq = np.power(data['p1y'] + data['p2y'] + data['p3y'] + data['p4y'], 2)\n",
    "z_sum_sq = np.power(data['p1z'] + data['p2z'] + data['p3z'] + data['p4z'], 2)\n",
    "m_values = np.sqrt(e_sum_sq - x_sum_sq - y_sum_sq - z_sum_sq)"
   ]
  },
  {
   "cell_type": "code",
   "execution_count": 24,
   "id": "5c8617c4-22e0-48e9-bd4a-4874937f033a",
   "metadata": {},
   "outputs": [
    {
     "data": {
      "image/png": "[encoded data removed]",
      "text/plain": [
       "<Figure size 1500x300 with 1 Axes>"
      ]
     },
     "metadata": {},
     "output_type": "display_data"
    }
   ],
   "source": [
    "plt.figure(figsize=(15, 3))\n",
    "plt.hist(m_values, bins=100, range=(0, 500), edgecolor='black')\n",
    "plt.show()"
   ]
  },
  {
   "cell_type": "code",
   "execution_count": 37,
   "id": "7facfff6-97fb-4561-9540-7d17c9712eaf",
   "metadata": {},
   "outputs": [],
   "source": [
    "data.to_csv('four_guys.csv', header=None, sep=\" \", index=None)"
   ]
  },
  {
   "cell_type": "markdown",
   "id": "e431d296-ecec-4819-a9c7-0b2481ebcf3f",
   "metadata": {},
   "source": [
    "# Generated dataset"
   ]
  },
  {
   "cell_type": "code",
   "execution_count": 47,
   "id": "bb38ffbc-08e4-46d4-b4cb-a8f9923f3a76",
   "metadata": {},
   "outputs": [],
   "source": [
    "gf = pd.read_csv('four_guys.csv.gen_events.csv', sep=\" \", header=None, names=np.array(schemas).flatten().tolist())"
   ]
  },
  {
   "cell_type": "code",
   "execution_count": 48,
   "id": "eeba7e41-6843-4932-b8e2-3f718e3ac81e",
   "metadata": {},
   "outputs": [
    {
     "data": {
      "text/html": [
       "<div>\n",
       "<style scoped>\n",
       "    .dataframe tbody tr th:only-of-type {\n",
       "        vertical-align: middle;\n",
       "    }\n",
       "\n",
       "    .dataframe tbody tr th {\n",
       "        vertical-align: top;\n",
       "    }\n",
       "\n",
       "    .dataframe thead th {\n",
       "        text-align: right;\n",
       "    }\n",
       "</style>\n",
       "<table border=\"1\" class=\"dataframe\">\n",
       "  <thead>\n",
       "    <tr style=\"text-align: right;\">\n",
       "      <th></th>\n",
       "      <th>E1</th>\n",
       "      <th>p1x</th>\n",
       "      <th>p1y</th>\n",
       "      <th>p1z</th>\n",
       "      <th>E2</th>\n",
       "      <th>p2x</th>\n",
       "      <th>p2y</th>\n",
       "      <th>p2z</th>\n",
       "      <th>E3</th>\n",
       "      <th>p3x</th>\n",
       "      <th>p3y</th>\n",
       "      <th>p3z</th>\n",
       "      <th>E4</th>\n",
       "      <th>p4x</th>\n",
       "      <th>p4y</th>\n",
       "      <th>p4z</th>\n",
       "    </tr>\n",
       "  </thead>\n",
       "  <tbody>\n",
       "    <tr>\n",
       "      <th>0</th>\n",
       "      <td>168.946640</td>\n",
       "      <td>-26.146681</td>\n",
       "      <td>-17.900572</td>\n",
       "      <td>-168.517288</td>\n",
       "      <td>44.520184</td>\n",
       "      <td>23.793734</td>\n",
       "      <td>35.511871</td>\n",
       "      <td>-14.870625</td>\n",
       "      <td>225.631470</td>\n",
       "      <td>-31.589621</td>\n",
       "      <td>12.933507</td>\n",
       "      <td>-226.074203</td>\n",
       "      <td>112.132919</td>\n",
       "      <td>34.576275</td>\n",
       "      <td>-31.116194</td>\n",
       "      <td>-102.719475</td>\n",
       "    </tr>\n",
       "    <tr>\n",
       "      <th>1</th>\n",
       "      <td>58.113720</td>\n",
       "      <td>55.715950</td>\n",
       "      <td>-13.128287</td>\n",
       "      <td>-5.856943</td>\n",
       "      <td>53.976471</td>\n",
       "      <td>32.400311</td>\n",
       "      <td>8.006641</td>\n",
       "      <td>-48.235184</td>\n",
       "      <td>162.543228</td>\n",
       "      <td>-100.347404</td>\n",
       "      <td>25.997063</td>\n",
       "      <td>126.968849</td>\n",
       "      <td>30.533628</td>\n",
       "      <td>11.842610</td>\n",
       "      <td>-21.213753</td>\n",
       "      <td>18.298880</td>\n",
       "    </tr>\n",
       "    <tr>\n",
       "      <th>2</th>\n",
       "      <td>34.589638</td>\n",
       "      <td>19.209719</td>\n",
       "      <td>15.598959</td>\n",
       "      <td>22.085968</td>\n",
       "      <td>22.384035</td>\n",
       "      <td>15.755951</td>\n",
       "      <td>-9.127460</td>\n",
       "      <td>19.136040</td>\n",
       "      <td>14.095910</td>\n",
       "      <td>-1.819308</td>\n",
       "      <td>-5.151577</td>\n",
       "      <td>10.917475</td>\n",
       "      <td>57.788555</td>\n",
       "      <td>-33.243950</td>\n",
       "      <td>-1.111477</td>\n",
       "      <td>52.965305</td>\n",
       "    </tr>\n",
       "    <tr>\n",
       "      <th>3</th>\n",
       "      <td>186.323288</td>\n",
       "      <td>63.858192</td>\n",
       "      <td>27.748949</td>\n",
       "      <td>-171.627167</td>\n",
       "      <td>23.266447</td>\n",
       "      <td>9.965894</td>\n",
       "      <td>-3.679247</td>\n",
       "      <td>17.674730</td>\n",
       "      <td>149.691193</td>\n",
       "      <td>-22.157137</td>\n",
       "      <td>-15.167491</td>\n",
       "      <td>-148.195831</td>\n",
       "      <td>53.256001</td>\n",
       "      <td>-51.302959</td>\n",
       "      <td>-9.048408</td>\n",
       "      <td>-11.826557</td>\n",
       "    </tr>\n",
       "    <tr>\n",
       "      <th>4</th>\n",
       "      <td>61.518017</td>\n",
       "      <td>-58.013409</td>\n",
       "      <td>-6.577831</td>\n",
       "      <td>25.543983</td>\n",
       "      <td>76.096725</td>\n",
       "      <td>-39.189770</td>\n",
       "      <td>33.112240</td>\n",
       "      <td>-57.370667</td>\n",
       "      <td>117.095024</td>\n",
       "      <td>13.256186</td>\n",
       "      <td>-44.352161</td>\n",
       "      <td>108.225327</td>\n",
       "      <td>184.796280</td>\n",
       "      <td>83.186867</td>\n",
       "      <td>17.677967</td>\n",
       "      <td>167.027298</td>\n",
       "    </tr>\n",
       "  </tbody>\n",
       "</table>\n",
       "</div>"
      ],
      "text/plain": [
       "           E1        p1x        p1y         p1z         E2        p2x  \\\n",
       "0  168.946640 -26.146681 -17.900572 -168.517288  44.520184  23.793734   \n",
       "1   58.113720  55.715950 -13.128287   -5.856943  53.976471  32.400311   \n",
       "2   34.589638  19.209719  15.598959   22.085968  22.384035  15.755951   \n",
       "3  186.323288  63.858192  27.748949 -171.627167  23.266447   9.965894   \n",
       "4   61.518017 -58.013409  -6.577831   25.543983  76.096725 -39.189770   \n",
       "\n",
       "         p2y        p2z          E3         p3x        p3y         p3z  \\\n",
       "0  35.511871 -14.870625  225.631470  -31.589621  12.933507 -226.074203   \n",
       "1   8.006641 -48.235184  162.543228 -100.347404  25.997063  126.968849   \n",
       "2  -9.127460  19.136040   14.095910   -1.819308  -5.151577   10.917475   \n",
       "3  -3.679247  17.674730  149.691193  -22.157137 -15.167491 -148.195831   \n",
       "4  33.112240 -57.370667  117.095024   13.256186 -44.352161  108.225327   \n",
       "\n",
       "           E4        p4x        p4y         p4z  \n",
       "0  112.132919  34.576275 -31.116194 -102.719475  \n",
       "1   30.533628  11.842610 -21.213753   18.298880  \n",
       "2   57.788555 -33.243950  -1.111477   52.965305  \n",
       "3   53.256001 -51.302959  -9.048408  -11.826557  \n",
       "4  184.796280  83.186867  17.677967  167.027298  "
      ]
     },
     "execution_count": 48,
     "metadata": {},
     "output_type": "execute_result"
    }
   ],
   "source": [
    "gf.head()"
   ]
  },
  {
   "cell_type": "code",
   "execution_count": 49,
   "id": "e17c4463-6abd-45c8-8388-dff850b28506",
   "metadata": {},
   "outputs": [
    {
     "name": "stderr",
     "output_type": "stream",
     "text": [
      "/home/valdo/.pyenv/versions/3.11.4/envs/event_simulator/lib/python3.11/site-packages/pandas/core/arraylike.py:396: RuntimeWarning: invalid value encountered in sqrt\n",
      "  result = getattr(ufunc, method)(*inputs, **kwargs)\n"
     ]
    }
   ],
   "source": [
    "e_sum_sq_g = np.power(gf['E1'] + gf['E2'] + gf['E3'] + gf['E4'], 2)\n",
    "x_sum_sq_g = np.power(gf['p1x'] + gf['p2x'] + gf['p3x'] + gf['p4x'], 2)\n",
    "y_sum_sq_g = np.power(gf['p1y'] + gf['p2y'] + gf['p3y'] + gf['p4y'], 2)\n",
    "z_sum_sq_g = np.power(gf['p1z'] + gf['p2z'] + gf['p3z'] + gf['p4z'], 2)\n",
    "m_values_g = np.sqrt(e_sum_sq_g - x_sum_sq_g - y_sum_sq_g - z_sum_sq_g)"
   ]
  },
  {
   "cell_type": "code",
   "execution_count": 53,
   "id": "280e21c1-e5a7-4b50-9bf0-363c93a77295",
   "metadata": {},
   "outputs": [
    {
     "data": {
      "image/png": "[encoded data removed]",
      "text/plain": [
       "<Figure size 1500x300 with 1 Axes>"
      ]
     },
     "metadata": {},
     "output_type": "display_data"
    }
   ],
   "source": [
    "plt.figure(figsize=(15, 3))\n",
    "plt.hist([m_values, m_values_g], bins=100, range=(0, 500), histtype='step', label=['training','generated'])\n",
    "plt.legend()\n",
    "plt.show()"
   ]
  },
  {
   "cell_type": "code",
   "execution_count": null,
   "id": "9c64fd57-418c-4a34-93e3-829fe29e669d",
   "metadata": {},
   "outputs": [],
   "source": []
  }
 ],
 "metadata": {
  "hide_input": false,
  "kernelspec": {
   "display_name": "Python 3 (ipykernel)",
   "language": "python",
   "name": "python3"
  },
  "language_info": {
   "codemirror_mode": {
    "name": "ipython",
    "version": 3
   },
   "file_extension": ".py",
   "mimetype": "text/x-python",
   "name": "python",
   "nbconvert_exporter": "python",
   "pygments_lexer": "ipython3",
   "version": "3.11.4"
  },
  "varInspector": {
   "cols": {
    "lenName": 16,
    "lenType": 16,
    "lenVar": 40
   },
   "kernels_config": {
    "python": {
     "delete_cmd_postfix": "",
     "delete_cmd_prefix": "del ",
     "library": "var_list.py",
     "varRefreshCmd": "print(var_dic_list())"
    },
    "r": {
     "delete_cmd_postfix": ") ",
     "delete_cmd_prefix": "rm(",
     "library": "var_list.r",
     "varRefreshCmd": "cat(var_dic_list()) "
    }
   },
   "types_to_exclude": [
    "module",
    "function",
    "builtin_function_or_method",
    "instance",
    "_Feature"
   ],
   "window_display": false
  },
  "vscode": {
   "interpreter": {
    "hash": "876db32bcdd17dd4862348d8c3433074a8a31c58638b33213fce1000d94889d4"
   }
  }
 },
 "nbformat": 4,
 "nbformat_minor": 5
}
