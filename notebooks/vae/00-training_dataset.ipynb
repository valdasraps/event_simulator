{
 "cells": [
  {
   "cell_type": "code",
   "execution_count": 7,
   "id": "afd63094-bbae-49d3-a73c-a00dba5e81d7",
   "metadata": {},
   "outputs": [],
   "source": [
    "import numpy as np\n",
    "import pandas as pd\n",
    "import itertools\n",
    "\n",
    "import matplotlib.pyplot as plt"
   ]
  },
  {
   "cell_type": "markdown",
   "id": "5283909b-aee4-4b01-b5c6-dff3d391ffe0",
   "metadata": {},
   "source": [
    "# Training dataset"
   ]
  },
  {
   "cell_type": "code",
   "execution_count": 8,
   "id": "0cfc1d0c-978f-4725-a2bb-c99eaea31e29",
   "metadata": {},
   "outputs": [],
   "source": [
    "df = pd.read_csv('../../data/pp_4l_all.csv')\n",
    "cols_cont = [\n",
    "    'E1', 'p1x', 'p1y', 'p1z', \n",
    "    'E2', 'p2x', 'p2y', 'p2z',\n",
    "    'E3', 'p3x', 'p3y', 'p3z',\n",
    "    'E4', 'p4x', 'p4y', 'p4z', \n",
    "]\n",
    "cols_cat = ['pdg1', 'pdg2', 'pdg3', 'pdg4']\n",
    "\n",
    "df['schema'] = df[cols_cat].groupby(by=cols_cat).ngroup().values"
   ]
  },
  {
   "cell_type": "code",
   "execution_count": 9,
   "id": "a41a7ff4-6246-4a1d-bb6c-167bb22dffa7",
   "metadata": {},
   "outputs": [
    {
     "data": {
      "text/html": [
       "<div>\n",
       "<style scoped>\n",
       "    .dataframe tbody tr th:only-of-type {\n",
       "        vertical-align: middle;\n",
       "    }\n",
       "\n",
       "    .dataframe tbody tr th {\n",
       "        vertical-align: top;\n",
       "    }\n",
       "\n",
       "    .dataframe thead th {\n",
       "        text-align: right;\n",
       "    }\n",
       "</style>\n",
       "<table border=\"1\" class=\"dataframe\">\n",
       "  <thead>\n",
       "    <tr style=\"text-align: right;\">\n",
       "      <th></th>\n",
       "      <th>pdg1</th>\n",
       "      <th>E1</th>\n",
       "      <th>p1x</th>\n",
       "      <th>p1y</th>\n",
       "      <th>p1z</th>\n",
       "      <th>pdg2</th>\n",
       "      <th>E2</th>\n",
       "      <th>p2x</th>\n",
       "      <th>p2y</th>\n",
       "      <th>p2z</th>\n",
       "      <th>...</th>\n",
       "      <th>E3</th>\n",
       "      <th>p3x</th>\n",
       "      <th>p3y</th>\n",
       "      <th>p3z</th>\n",
       "      <th>pdg4</th>\n",
       "      <th>E4</th>\n",
       "      <th>p4x</th>\n",
       "      <th>p4y</th>\n",
       "      <th>p4z</th>\n",
       "      <th>schema</th>\n",
       "    </tr>\n",
       "  </thead>\n",
       "  <tbody>\n",
       "    <tr>\n",
       "      <th>0</th>\n",
       "      <td>11</td>\n",
       "      <td>20.274241</td>\n",
       "      <td>13.753708</td>\n",
       "      <td>1.397849</td>\n",
       "      <td>14.829915</td>\n",
       "      <td>-11</td>\n",
       "      <td>13.459523</td>\n",
       "      <td>-13.458053</td>\n",
       "      <td>-0.178631</td>\n",
       "      <td>0.087476</td>\n",
       "      <td>...</td>\n",
       "      <td>10.726935</td>\n",
       "      <td>1.457106</td>\n",
       "      <td>-9.715445</td>\n",
       "      <td>-4.306151</td>\n",
       "      <td>-13</td>\n",
       "      <td>19.941356</td>\n",
       "      <td>-1.752761</td>\n",
       "      <td>8.496227</td>\n",
       "      <td>17.955180</td>\n",
       "      <td>1</td>\n",
       "    </tr>\n",
       "    <tr>\n",
       "      <th>1</th>\n",
       "      <td>13</td>\n",
       "      <td>152.820099</td>\n",
       "      <td>63.584427</td>\n",
       "      <td>18.996694</td>\n",
       "      <td>-137.659427</td>\n",
       "      <td>-13</td>\n",
       "      <td>164.917905</td>\n",
       "      <td>4.471840</td>\n",
       "      <td>31.646155</td>\n",
       "      <td>-161.791309</td>\n",
       "      <td>...</td>\n",
       "      <td>137.529487</td>\n",
       "      <td>-39.586901</td>\n",
       "      <td>-44.338982</td>\n",
       "      <td>-124.021291</td>\n",
       "      <td>-13</td>\n",
       "      <td>39.559938</td>\n",
       "      <td>-28.469366</td>\n",
       "      <td>-6.303867</td>\n",
       "      <td>-26.734509</td>\n",
       "      <td>2</td>\n",
       "    </tr>\n",
       "    <tr>\n",
       "      <th>2</th>\n",
       "      <td>11</td>\n",
       "      <td>51.267102</td>\n",
       "      <td>27.995380</td>\n",
       "      <td>26.039697</td>\n",
       "      <td>34.154190</td>\n",
       "      <td>-11</td>\n",
       "      <td>43.013595</td>\n",
       "      <td>-7.827488</td>\n",
       "      <td>-17.337374</td>\n",
       "      <td>-38.578689</td>\n",
       "      <td>...</td>\n",
       "      <td>123.210062</td>\n",
       "      <td>0.378806</td>\n",
       "      <td>-41.833551</td>\n",
       "      <td>115.890116</td>\n",
       "      <td>-13</td>\n",
       "      <td>46.883635</td>\n",
       "      <td>-20.546697</td>\n",
       "      <td>33.131228</td>\n",
       "      <td>26.042638</td>\n",
       "      <td>1</td>\n",
       "    </tr>\n",
       "    <tr>\n",
       "      <th>3</th>\n",
       "      <td>13</td>\n",
       "      <td>64.805282</td>\n",
       "      <td>-3.653628</td>\n",
       "      <td>46.355274</td>\n",
       "      <td>45.139262</td>\n",
       "      <td>-13</td>\n",
       "      <td>38.158727</td>\n",
       "      <td>-29.094263</td>\n",
       "      <td>-15.298609</td>\n",
       "      <td>-19.379208</td>\n",
       "      <td>...</td>\n",
       "      <td>57.805237</td>\n",
       "      <td>34.629435</td>\n",
       "      <td>10.578369</td>\n",
       "      <td>45.059234</td>\n",
       "      <td>-13</td>\n",
       "      <td>42.993259</td>\n",
       "      <td>-1.881544</td>\n",
       "      <td>-41.635034</td>\n",
       "      <td>10.554281</td>\n",
       "      <td>2</td>\n",
       "    </tr>\n",
       "    <tr>\n",
       "      <th>4</th>\n",
       "      <td>13</td>\n",
       "      <td>25.501529</td>\n",
       "      <td>17.607195</td>\n",
       "      <td>-7.617831</td>\n",
       "      <td>-16.800957</td>\n",
       "      <td>-13</td>\n",
       "      <td>22.270427</td>\n",
       "      <td>3.366801</td>\n",
       "      <td>16.786119</td>\n",
       "      <td>-14.242599</td>\n",
       "      <td>...</td>\n",
       "      <td>36.269401</td>\n",
       "      <td>-21.935459</td>\n",
       "      <td>13.187325</td>\n",
       "      <td>-25.698023</td>\n",
       "      <td>-13</td>\n",
       "      <td>47.012227</td>\n",
       "      <td>0.961463</td>\n",
       "      <td>-22.355613</td>\n",
       "      <td>-41.345380</td>\n",
       "      <td>2</td>\n",
       "    </tr>\n",
       "  </tbody>\n",
       "</table>\n",
       "<p>5 rows × 21 columns</p>\n",
       "</div>"
      ],
      "text/plain": [
       "   pdg1          E1        p1x        p1y         p1z  pdg2          E2  \\\n",
       "0    11   20.274241  13.753708   1.397849   14.829915   -11   13.459523   \n",
       "1    13  152.820099  63.584427  18.996694 -137.659427   -13  164.917905   \n",
       "2    11   51.267102  27.995380  26.039697   34.154190   -11   43.013595   \n",
       "3    13   64.805282  -3.653628  46.355274   45.139262   -13   38.158727   \n",
       "4    13   25.501529  17.607195  -7.617831  -16.800957   -13   22.270427   \n",
       "\n",
       "         p2x        p2y         p2z  ...          E3        p3x        p3y  \\\n",
       "0 -13.458053  -0.178631    0.087476  ...   10.726935   1.457106  -9.715445   \n",
       "1   4.471840  31.646155 -161.791309  ...  137.529487 -39.586901 -44.338982   \n",
       "2  -7.827488 -17.337374  -38.578689  ...  123.210062   0.378806 -41.833551   \n",
       "3 -29.094263 -15.298609  -19.379208  ...   57.805237  34.629435  10.578369   \n",
       "4   3.366801  16.786119  -14.242599  ...   36.269401 -21.935459  13.187325   \n",
       "\n",
       "          p3z  pdg4         E4        p4x        p4y        p4z  schema  \n",
       "0   -4.306151   -13  19.941356  -1.752761   8.496227  17.955180       1  \n",
       "1 -124.021291   -13  39.559938 -28.469366  -6.303867 -26.734509       2  \n",
       "2  115.890116   -13  46.883635 -20.546697  33.131228  26.042638       1  \n",
       "3   45.059234   -13  42.993259  -1.881544 -41.635034  10.554281       2  \n",
       "4  -25.698023   -13  47.012227   0.961463 -22.355613 -41.345380       2  \n",
       "\n",
       "[5 rows x 21 columns]"
      ]
     },
     "execution_count": 9,
     "metadata": {},
     "output_type": "execute_result"
    }
   ],
   "source": [
    "df.head()"
   ]
  },
  {
   "cell_type": "code",
   "execution_count": 10,
   "id": "dcd5097f-2fe4-4d07-91f1-a263574bc1f1",
   "metadata": {},
   "outputs": [
    {
     "data": {
      "text/plain": [
       "Index(['pdg1', 'E1', 'p1x', 'p1y', 'p1z', 'pdg2', 'E2', 'p2x', 'p2y', 'p2z',\n",
       "       'pdg3', 'E3', 'p3x', 'p3y', 'p3z', 'pdg4', 'E4', 'p4x', 'p4y', 'p4z',\n",
       "       'schema'],\n",
       "      dtype='object')"
      ]
     },
     "execution_count": 10,
     "metadata": {},
     "output_type": "execute_result"
    }
   ],
   "source": [
    "df.columns"
   ]
  },
  {
   "cell_type": "code",
   "execution_count": 6,
   "id": "774bad4e-fb47-4f8d-ab08-3c96fe69d9b3",
   "metadata": {},
   "outputs": [
    {
     "data": {
      "text/plain": [
       "[['E1', 'p1x', 'p1y', 'p1z'],\n",
       " ['E2', 'p2x', 'p2y', 'p2z'],\n",
       " ['E3', 'p3x', 'p3y', 'p3z'],\n",
       " ['E4', 'p4x', 'p4y', 'p4z']]"
      ]
     },
     "execution_count": 6,
     "metadata": {},
     "output_type": "execute_result"
    }
   ],
   "source": [
    "schemas = [['E1', 'p1x', 'p1y', 'p1z'], \n",
    "           ['E2', 'p2x', 'p2y', 'p2z'],\n",
    "           ['E3', 'p3x', 'p3y', 'p3z'], \n",
    "           ['E4', 'p4x', 'p4y', 'p4z']]\n",
    "schemas"
   ]
  },
  {
   "cell_type": "code",
   "execution_count": 22,
   "id": "4c590b14-60ba-4484-9257-0388870155dd",
   "metadata": {},
   "outputs": [
    {
     "data": {
      "text/plain": [
       "(480000, 16)"
      ]
     },
     "execution_count": 22,
     "metadata": {},
     "output_type": "execute_result"
    }
   ],
   "source": [
    "data = None\n",
    "for c in itertools.permutations(schemas):\n",
    "    d = df[np.array(c).flatten().tolist()]\n",
    "    data = d if data is None else pd.concat([data, d], axis=0)\n",
    "data.shape"
   ]
  },
  {
   "cell_type": "code",
   "execution_count": 23,
   "id": "1bec3679-1cdf-4ff0-b214-ec0136fc8210",
   "metadata": {},
   "outputs": [],
   "source": [
    "e_sum_sq = np.power(data['E1'] + data['E2'] + data['E3'] + data['E4'], 2)\n",
    "x_sum_sq = np.power(data['p1x'] + data['p2x'] + data['p3x'] + data['p4x'], 2)\n",
    "y_sum_sq = np.power(data['p1y'] + data['p2y'] + data['p3y'] + data['p4y'], 2)\n",
    "z_sum_sq = np.power(data['p1z'] + data['p2z'] + data['p3z'] + data['p4z'], 2)\n",
    "m_values = np.sqrt(e_sum_sq - x_sum_sq - y_sum_sq - z_sum_sq)"
   ]
  },
  {
   "cell_type": "code",
   "execution_count": 24,
   "id": "5c8617c4-22e0-48e9-bd4a-4874937f033a",
   "metadata": {},
   "outputs": [
    {
     "data": {
      "image/png": "[encoded data removed]",
      "text/plain": [
       "<Figure size 1500x300 with 1 Axes>"
      ]
     },
     "metadata": {},
     "output_type": "display_data"
    }
   ],
   "source": [
    "plt.figure(figsize=(15, 3))\n",
    "plt.hist(m_values, bins=100, range=(0, 500), edgecolor='black')\n",
    "plt.show()"
   ]
  },
  {
   "cell_type": "code",
   "execution_count": 37,
   "id": "7facfff6-97fb-4561-9540-7d17c9712eaf",
   "metadata": {},
   "outputs": [],
   "source": [
    "data.to_csv('four_guys.csv', header=None, sep=\" \", index=None)"
   ]
  },
  {
   "cell_type": "markdown",
   "id": "e431d296-ecec-4819-a9c7-0b2481ebcf3f",
   "metadata": {},
   "source": [
    "# Generated dataset"
   ]
  },
  {
   "cell_type": "code",
   "execution_count": 54,
   "id": "bb38ffbc-08e4-46d4-b4cb-a8f9923f3a76",
   "metadata": {},
   "outputs": [],
   "source": [
    "gf = pd.read_csv('four_guys.csv.gen_events.csv', sep=\" \", header=None, names=np.array(schemas).flatten().tolist())"
   ]
  },
  {
   "cell_type": "code",
   "execution_count": 55,
   "id": "eeba7e41-6843-4932-b8e2-3f718e3ac81e",
   "metadata": {},
   "outputs": [
    {
     "data": {
      "text/html": [
       "<div>\n",
       "<style scoped>\n",
       "    .dataframe tbody tr th:only-of-type {\n",
       "        vertical-align: middle;\n",
       "    }\n",
       "\n",
       "    .dataframe tbody tr th {\n",
       "        vertical-align: top;\n",
       "    }\n",
       "\n",
       "    .dataframe thead th {\n",
       "        text-align: right;\n",
       "    }\n",
       "</style>\n",
       "<table border=\"1\" class=\"dataframe\">\n",
       "  <thead>\n",
       "    <tr style=\"text-align: right;\">\n",
       "      <th></th>\n",
       "      <th>E1</th>\n",
       "      <th>p1x</th>\n",
       "      <th>p1y</th>\n",
       "      <th>p1z</th>\n",
       "      <th>E2</th>\n",
       "      <th>p2x</th>\n",
       "      <th>p2y</th>\n",
       "      <th>p2z</th>\n",
       "      <th>E3</th>\n",
       "      <th>p3x</th>\n",
       "      <th>p3y</th>\n",
       "      <th>p3z</th>\n",
       "      <th>E4</th>\n",
       "      <th>p4x</th>\n",
       "      <th>p4y</th>\n",
       "      <th>p4z</th>\n",
       "    </tr>\n",
       "  </thead>\n",
       "  <tbody>\n",
       "    <tr>\n",
       "      <th>0</th>\n",
       "      <td>179.495956</td>\n",
       "      <td>-18.521942</td>\n",
       "      <td>-23.997198</td>\n",
       "      <td>-176.994598</td>\n",
       "      <td>48.363411</td>\n",
       "      <td>19.933294</td>\n",
       "      <td>36.646183</td>\n",
       "      <td>-23.215714</td>\n",
       "      <td>211.815704</td>\n",
       "      <td>-36.112217</td>\n",
       "      <td>17.328115</td>\n",
       "      <td>-207.298782</td>\n",
       "      <td>95.642570</td>\n",
       "      <td>34.596771</td>\n",
       "      <td>-30.000475</td>\n",
       "      <td>-85.176132</td>\n",
       "    </tr>\n",
       "    <tr>\n",
       "      <th>1</th>\n",
       "      <td>61.077976</td>\n",
       "      <td>59.090332</td>\n",
       "      <td>-15.798945</td>\n",
       "      <td>-6.078624</td>\n",
       "      <td>69.669426</td>\n",
       "      <td>22.882805</td>\n",
       "      <td>16.358892</td>\n",
       "      <td>-64.807152</td>\n",
       "      <td>141.889069</td>\n",
       "      <td>-97.041817</td>\n",
       "      <td>22.243742</td>\n",
       "      <td>101.823509</td>\n",
       "      <td>36.546284</td>\n",
       "      <td>15.152143</td>\n",
       "      <td>-22.668518</td>\n",
       "      <td>22.621725</td>\n",
       "    </tr>\n",
       "    <tr>\n",
       "      <th>2</th>\n",
       "      <td>37.572128</td>\n",
       "      <td>19.653908</td>\n",
       "      <td>21.216400</td>\n",
       "      <td>26.027426</td>\n",
       "      <td>21.810888</td>\n",
       "      <td>14.726685</td>\n",
       "      <td>-15.750602</td>\n",
       "      <td>5.735526</td>\n",
       "      <td>14.676321</td>\n",
       "      <td>0.262690</td>\n",
       "      <td>-11.275318</td>\n",
       "      <td>8.082438</td>\n",
       "      <td>68.162788</td>\n",
       "      <td>-34.596687</td>\n",
       "      <td>5.889489</td>\n",
       "      <td>58.251522</td>\n",
       "    </tr>\n",
       "    <tr>\n",
       "      <th>3</th>\n",
       "      <td>207.746353</td>\n",
       "      <td>71.432770</td>\n",
       "      <td>32.071960</td>\n",
       "      <td>-191.632401</td>\n",
       "      <td>11.959070</td>\n",
       "      <td>8.244631</td>\n",
       "      <td>-6.615226</td>\n",
       "      <td>-0.463654</td>\n",
       "      <td>182.756668</td>\n",
       "      <td>-25.862972</td>\n",
       "      <td>-14.686530</td>\n",
       "      <td>-180.708710</td>\n",
       "      <td>59.737896</td>\n",
       "      <td>-53.901829</td>\n",
       "      <td>-10.667530</td>\n",
       "      <td>-22.387527</td>\n",
       "    </tr>\n",
       "    <tr>\n",
       "      <th>4</th>\n",
       "      <td>67.729950</td>\n",
       "      <td>-59.859524</td>\n",
       "      <td>-5.236154</td>\n",
       "      <td>26.841669</td>\n",
       "      <td>66.663437</td>\n",
       "      <td>-41.794239</td>\n",
       "      <td>30.873829</td>\n",
       "      <td>-41.074142</td>\n",
       "      <td>107.545982</td>\n",
       "      <td>16.944447</td>\n",
       "      <td>-45.487289</td>\n",
       "      <td>96.874336</td>\n",
       "      <td>193.145950</td>\n",
       "      <td>84.298401</td>\n",
       "      <td>19.746828</td>\n",
       "      <td>173.478500</td>\n",
       "    </tr>\n",
       "  </tbody>\n",
       "</table>\n",
       "</div>"
      ],
      "text/plain": [
       "           E1        p1x        p1y         p1z         E2        p2x  \\\n",
       "0  179.495956 -18.521942 -23.997198 -176.994598  48.363411  19.933294   \n",
       "1   61.077976  59.090332 -15.798945   -6.078624  69.669426  22.882805   \n",
       "2   37.572128  19.653908  21.216400   26.027426  21.810888  14.726685   \n",
       "3  207.746353  71.432770  32.071960 -191.632401  11.959070   8.244631   \n",
       "4   67.729950 -59.859524  -5.236154   26.841669  66.663437 -41.794239   \n",
       "\n",
       "         p2y        p2z          E3        p3x        p3y         p3z  \\\n",
       "0  36.646183 -23.215714  211.815704 -36.112217  17.328115 -207.298782   \n",
       "1  16.358892 -64.807152  141.889069 -97.041817  22.243742  101.823509   \n",
       "2 -15.750602   5.735526   14.676321   0.262690 -11.275318    8.082438   \n",
       "3  -6.615226  -0.463654  182.756668 -25.862972 -14.686530 -180.708710   \n",
       "4  30.873829 -41.074142  107.545982  16.944447 -45.487289   96.874336   \n",
       "\n",
       "           E4        p4x        p4y         p4z  \n",
       "0   95.642570  34.596771 -30.000475  -85.176132  \n",
       "1   36.546284  15.152143 -22.668518   22.621725  \n",
       "2   68.162788 -34.596687   5.889489   58.251522  \n",
       "3   59.737896 -53.901829 -10.667530  -22.387527  \n",
       "4  193.145950  84.298401  19.746828  173.478500  "
      ]
     },
     "execution_count": 55,
     "metadata": {},
     "output_type": "execute_result"
    }
   ],
   "source": [
    "gf.head()"
   ]
  },
  {
   "cell_type": "code",
   "execution_count": 56,
   "id": "e17c4463-6abd-45c8-8388-dff850b28506",
   "metadata": {},
   "outputs": [
    {
     "name": "stderr",
     "output_type": "stream",
     "text": [
      "/home/valdo/.pyenv/versions/3.11.4/envs/event_simulator/lib/python3.11/site-packages/pandas/core/arraylike.py:396: RuntimeWarning: invalid value encountered in sqrt\n",
      "  result = getattr(ufunc, method)(*inputs, **kwargs)\n"
     ]
    }
   ],
   "source": [
    "e_sum_sq_g = np.power(gf['E1'] + gf['E2'] + gf['E3'] + gf['E4'], 2)\n",
    "x_sum_sq_g = np.power(gf['p1x'] + gf['p2x'] + gf['p3x'] + gf['p4x'], 2)\n",
    "y_sum_sq_g = np.power(gf['p1y'] + gf['p2y'] + gf['p3y'] + gf['p4y'], 2)\n",
    "z_sum_sq_g = np.power(gf['p1z'] + gf['p2z'] + gf['p3z'] + gf['p4z'], 2)\n",
    "m_values_g = np.sqrt(e_sum_sq_g - x_sum_sq_g - y_sum_sq_g - z_sum_sq_g)"
   ]
  },
  {
   "cell_type": "code",
   "execution_count": 66,
   "id": "280e21c1-e5a7-4b50-9bf0-363c93a77295",
   "metadata": {},
   "outputs": [
    {
     "data": {
      "image/png": "[encoded data removed]",
      "text/plain": [
       "<Figure size 1500x300 with 1 Axes>"
      ]
     },
     "metadata": {},
     "output_type": "display_data"
    }
   ],
   "source": [
    "plt.figure(figsize=(15, 3))\n",
    "plt.hist([m_values, m_values_g], bins=200, range=(0, 500), histtype='step', label=['training','generated'])\n",
    "plt.legend()\n",
    "plt.show()"
   ]
  },
  {
   "cell_type": "code",
   "execution_count": null,
   "id": "9c64fd57-418c-4a34-93e3-829fe29e669d",
   "metadata": {},
   "outputs": [],
   "source": []
  }
 ],
 "metadata": {
  "hide_input": false,
  "kernelspec": {
   "display_name": "Python 3 (ipykernel)",
   "language": "python",
   "name": "python3"
  },
  "language_info": {
   "codemirror_mode": {
    "name": "ipython",
    "version": 3
   },
   "file_extension": ".py",
   "mimetype": "text/x-python",
   "name": "python",
   "nbconvert_exporter": "python",
   "pygments_lexer": "ipython3",
   "version": "3.11.4"
  },
  "varInspector": {
   "cols": {
    "lenName": 16,
    "lenType": 16,
    "lenVar": 40
   },
   "kernels_config": {
    "python": {
     "delete_cmd_postfix": "",
     "delete_cmd_prefix": "del ",
     "library": "var_list.py",
     "varRefreshCmd": "print(var_dic_list())"
    },
    "r": {
     "delete_cmd_postfix": ") ",
     "delete_cmd_prefix": "rm(",
     "library": "var_list.r",
     "varRefreshCmd": "cat(var_dic_list()) "
    }
   },
   "types_to_exclude": [
    "module",
    "function",
    "builtin_function_or_method",
    "instance",
    "_Feature"
   ],
   "window_display": false
  },
  "vscode": {
   "interpreter": {
    "hash": "876db32bcdd17dd4862348d8c3433074a8a31c58638b33213fce1000d94889d4"
   }
  }
 },
 "nbformat": 4,
 "nbformat_minor": 5
}
