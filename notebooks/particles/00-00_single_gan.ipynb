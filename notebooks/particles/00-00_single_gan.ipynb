{
 "cells": [
  {
   "cell_type": "code",
   "id": "initial_id",
   "metadata": {
    "collapsed": true,
    "ExecuteTime": {
     "end_time": "2025-05-07T09:05:38.999790Z",
     "start_time": "2025-05-07T09:05:37.026766Z"
    }
   },
   "source": [
    "import torch\n",
    "import torch.nn as nn\n",
    "import torch.optim as optim\n",
    "\n",
    "import pandas as pd\n",
    "from sklearn.preprocessing import LabelEncoder, StandardScaler\n",
    "from torch.utils.data import TensorDataset, DataLoader\n",
    "import torch.nn.functional as F\n",
    "import numpy as np\n",
    "import matplotlib.pyplot as plt"
   ],
   "outputs": [],
   "execution_count": 1
  },
  {
   "metadata": {
    "ExecuteTime": {
     "end_time": "2025-05-07T09:05:39.123604Z",
     "start_time": "2025-05-07T09:05:39.101110Z"
    }
   },
   "cell_type": "code",
   "source": [
    "# Device setup: use GPU if available\n",
    "device = torch.device(\"cuda\" if torch.cuda.is_available() else \"cpu\")\n",
    "print(\"Using device:\", device)"
   ],
   "id": "317e8efc39146927",
   "outputs": [
    {
     "name": "stdout",
     "output_type": "stream",
     "text": [
      "Using device: cuda\n"
     ]
    }
   ],
   "execution_count": 2
  },
  {
   "metadata": {
    "ExecuteTime": {
     "end_time": "2025-05-07T09:05:39.212851Z",
     "start_time": "2025-05-07T09:05:39.152820Z"
    }
   },
   "cell_type": "code",
   "source": [
    "class ParticleGenerator(nn.Module):\n",
    "    def __init__(self, latent_dim, num_classes):\n",
    "        super().__init__()\n",
    "        self.model = nn.Sequential(\n",
    "            nn.Linear(latent_dim, 64),\n",
    "            nn.LeakyReLU(0.2),\n",
    "            nn.Linear(64, 128),\n",
    "            nn.LeakyReLU(0.2),\n",
    "            nn.Linear(128, 4 + num_classes)  # [pt, eta, phi, energy, logits...]\n",
    "        )\n",
    "\n",
    "    def forward(self, z):\n",
    "        out = self.model(z)\n",
    "        features = out[:, :4]                          # pt, eta, phi, energy\n",
    "        label_logits = out[:, 4:]                      # raw logits\n",
    "        label_probs = torch.softmax(label_logits, dim=1)\n",
    "        return features, label_probs\n"
   ],
   "id": "ab89451c97db9a1a",
   "outputs": [],
   "execution_count": 3
  },
  {
   "metadata": {
    "ExecuteTime": {
     "end_time": "2025-05-07T09:05:39.325734Z",
     "start_time": "2025-05-07T09:05:39.225143Z"
    }
   },
   "cell_type": "code",
   "source": [
    "class ParticleDiscriminator(nn.Module):\n",
    "    def __init__(self, num_classes: int) -> None:\n",
    "        super().__init__()\n",
    "        input_dim = 4 + num_classes\n",
    "        self.model = nn.Sequential(\n",
    "            nn.Linear(input_dim, 64),\n",
    "            nn.LeakyReLU(0.2),\n",
    "            nn.Linear(64, 32),\n",
    "            nn.LeakyReLU(0.2),\n",
    "            nn.Linear(32, 1),\n",
    "            nn.Sigmoid()\n",
    "        )\n",
    "\n",
    "    def forward(self, features, label_probs):\n",
    "        x = torch.cat([features, label_probs], dim=1)\n",
    "        return self.model(x)"
   ],
   "id": "7c067e727c67c7ed",
   "outputs": [],
   "execution_count": 4
  },
  {
   "metadata": {
    "ExecuteTime": {
     "end_time": "2025-05-07T09:05:43.209340Z",
     "start_time": "2025-05-07T09:05:39.379036Z"
    }
   },
   "cell_type": "code",
   "source": [
    "# Load the CSV file\n",
    "df = pd.read_csv(\"gen_particles_10k_sample.csv\")\n",
    "df.shape"
   ],
   "id": "b6c2bab4925417fc",
   "outputs": [
    {
     "data": {
      "text/plain": [
       "(5058758, 11)"
      ]
     },
     "execution_count": 5,
     "metadata": {},
     "output_type": "execute_result"
    }
   ],
   "execution_count": 5
  },
  {
   "metadata": {
    "ExecuteTime": {
     "end_time": "2025-05-07T09:05:43.316367Z",
     "start_time": "2025-05-07T09:05:43.234180Z"
    }
   },
   "cell_type": "code",
   "source": [
    "df = df[df.status == 1]\n",
    "df = df[df['pdg_id'].isin([-12, -11, 11, 12])]\n",
    "df.shape"
   ],
   "id": "1179e8534867c31b",
   "outputs": [
    {
     "data": {
      "text/plain": [
       "(10818, 11)"
      ]
     },
     "execution_count": 6,
     "metadata": {},
     "output_type": "execute_result"
    }
   ],
   "execution_count": 6
  },
  {
   "metadata": {
    "ExecuteTime": {
     "end_time": "2025-05-07T09:05:43.399062Z",
     "start_time": "2025-05-07T09:05:43.338095Z"
    }
   },
   "cell_type": "code",
   "source": [
    "# Select relevant columns\n",
    "features = ['pt', 'eta', 'phi', 'energy']\n",
    "target = 'pdg_id'"
   ],
   "id": "248d7588391a37c6",
   "outputs": [],
   "execution_count": 7
  },
  {
   "metadata": {
    "ExecuteTime": {
     "end_time": "2025-05-07T09:05:43.518328Z",
     "start_time": "2025-05-07T09:05:43.442478Z"
    }
   },
   "cell_type": "code",
   "source": [
    "label_encoder = LabelEncoder()\n",
    "df['pdg_label'] = label_encoder.fit_transform(df[target])"
   ],
   "id": "4a5c5d3964793b65",
   "outputs": [],
   "execution_count": 8
  },
  {
   "metadata": {
    "ExecuteTime": {
     "end_time": "2025-05-07T09:05:43.647613Z",
     "start_time": "2025-05-07T09:05:43.556835Z"
    }
   },
   "cell_type": "code",
   "source": [
    "# Normalize feature columns\n",
    "scaler = StandardScaler()\n",
    "X_scaled = scaler.fit_transform(df[features])\n",
    "X_tensor = torch.tensor(X_scaled, dtype=torch.float32)"
   ],
   "id": "af47b2904f10a517",
   "outputs": [],
   "execution_count": 9
  },
  {
   "metadata": {
    "ExecuteTime": {
     "end_time": "2025-05-07T09:05:43.785677Z",
     "start_time": "2025-05-07T09:05:43.688780Z"
    }
   },
   "cell_type": "code",
   "source": [
    "# Convert encoded labels to tensor\n",
    "y_tensor = torch.tensor(df['pdg_label'].values, dtype=torch.long)"
   ],
   "id": "e4d3e38ae3470d76",
   "outputs": [],
   "execution_count": 10
  },
  {
   "metadata": {
    "ExecuteTime": {
     "end_time": "2025-05-07T09:05:43.872163Z",
     "start_time": "2025-05-07T09:05:43.822534Z"
    }
   },
   "cell_type": "code",
   "source": [
    "# Create dataset and dataloader\n",
    "dataset = TensorDataset(X_tensor, y_tensor)\n",
    "dataloader = DataLoader(dataset, batch_size=64, shuffle=True)"
   ],
   "id": "f49cf11787057475",
   "outputs": [],
   "execution_count": 11
  },
  {
   "metadata": {
    "ExecuteTime": {
     "end_time": "2025-05-07T09:05:43.992430Z",
     "start_time": "2025-05-07T09:05:43.917821Z"
    }
   },
   "cell_type": "code",
   "source": [
    "# Ready for training\n",
    "print(\"Number of particles:\", len(dataset))\n",
    "print(\"PDG label classes:\", label_encoder.classes_)"
   ],
   "id": "aeead6a62c2b562e",
   "outputs": [
    {
     "name": "stdout",
     "output_type": "stream",
     "text": [
      "Number of particles: 10818\n",
      "PDG label classes: [-12 -11  11  12]\n"
     ]
    }
   ],
   "execution_count": 12
  },
  {
   "metadata": {
    "ExecuteTime": {
     "end_time": "2025-05-07T09:05:44.240531Z",
     "start_time": "2025-05-07T09:05:44.057887Z"
    }
   },
   "cell_type": "code",
   "source": [
    "# Hyperparameters\n",
    "latent_dim = 32\n",
    "num_classes = len(label_encoder.classes_)\n",
    "num_epochs = 2000\n",
    "report_each = 100\n",
    "batch_size = 64\n",
    "\n",
    "# Models to device\n",
    "generator = ParticleGenerator(latent_dim=latent_dim, num_classes=num_classes).to(device)\n",
    "discriminator = ParticleDiscriminator(num_classes=num_classes).to(device)"
   ],
   "id": "165ed929d5745e1",
   "outputs": [],
   "execution_count": 13
  },
  {
   "metadata": {
    "ExecuteTime": {
     "end_time": "2025-05-07T09:05:44.825233Z",
     "start_time": "2025-05-07T09:05:44.256456Z"
    }
   },
   "cell_type": "code",
   "source": [
    "# Loss and optimizers\n",
    "adversarial_loss = nn.BCELoss().to(device)\n",
    "optimizer_G = optim.Adam(generator.parameters(), lr=0.0002)\n",
    "optimizer_D = optim.Adam(discriminator.parameters(), lr=0.0002)"
   ],
   "id": "7c52e9c2ec346bcd",
   "outputs": [],
   "execution_count": 14
  },
  {
   "metadata": {
    "jupyter": {
     "is_executing": true
    },
    "ExecuteTime": {
     "start_time": "2025-05-07T09:05:44.843440Z"
    }
   },
   "cell_type": "code",
   "source": [
    "for epoch in range(1, num_epochs + 1):\n",
    "    for real_features, real_labels in dataloader:\n",
    "        real_features = real_features.to(device)\n",
    "        real_labels = real_labels.to(device)\n",
    "\n",
    "        # valid = torch.ones(real_features.size(0), 1, device=device)\n",
    "        valid = torch.full((real_features.size(0), 1), 0.9, device=device)\n",
    "        # fake = torch.zeros(real_features.size(0), 1, device=device)\n",
    "        fake = torch.rand(real_features.size(0), 1, device=device) * 0.1\n",
    "\n",
    "        # === Generator output ===\n",
    "        z = torch.randn(real_features.size(0), latent_dim, device=device)\n",
    "        gen_features, gen_label_probs = generator(z)\n",
    "\n",
    "        # === Real data ===\n",
    "        real_onehot = F.one_hot(real_labels, num_classes=num_classes).float()\n",
    "\n",
    "        # === Train Discriminator ===\n",
    "        optimizer_D.zero_grad()\n",
    "        real_loss = adversarial_loss(discriminator(real_features, real_onehot), valid)\n",
    "        fake_loss = adversarial_loss(discriminator(gen_features.detach(), gen_label_probs.detach()), fake)\n",
    "        d_loss = real_loss + fake_loss\n",
    "        d_loss.backward()\n",
    "        optimizer_D.step()\n",
    "\n",
    "        # === Train Generator ===\n",
    "        optimizer_G.zero_grad()\n",
    "        gen_validity = discriminator(gen_features, gen_label_probs)\n",
    "        g_loss = adversarial_loss(gen_validity, valid)\n",
    "        g_loss.backward()\n",
    "        optimizer_G.step()\n",
    "\n",
    "    if epoch % report_each == 0 or epoch in (1, num_epochs):\n",
    "        print(f\"Epoch {epoch} | D Loss: {d_loss.item():.4f} | G Loss: {g_loss.item():.4f}\")\n"
   ],
   "id": "def5d15d29c2baee",
   "outputs": [
    {
     "name": "stdout",
     "output_type": "stream",
     "text": [
      "Epoch 1 | D Loss: 1.1864 | G Loss: 0.8791\n"
     ]
    }
   ],
   "execution_count": null
  },
  {
   "metadata": {},
   "cell_type": "code",
   "source": [
    "with torch.no_grad():\n",
    "    z = torch.randn(df.shape[0], latent_dim, device=device)\n",
    "    f, l = generator(z)\n",
    "    f = f.cpu().numpy()\n",
    "    gen_labels = torch.argmax(l, dim=1).cpu().numpy()\n",
    "\n",
    "for i, fn in enumerate(features):\n",
    "    plt.hist([X_tensor[:, i], f[:, i]], bins=100, label=[\"Real\",\"Fake\"], density=True, histtype='step')\n",
    "    plt.legend()\n",
    "    plt.title(f\"Generated {fn}\")\n",
    "    plt.show()"
   ],
   "id": "2bf2103923837a68",
   "outputs": [],
   "execution_count": null
  },
  {
   "metadata": {},
   "cell_type": "code",
   "source": [
    "gen_part_types = label_encoder.inverse_transform(gen_labels)\n",
    "np.unique(gen_part_types, return_counts=True)"
   ],
   "id": "ebd9a8e5f1de074f",
   "outputs": [],
   "execution_count": null
  },
  {
   "metadata": {},
   "cell_type": "code",
   "source": [
    "real_counts = np.array([(df['pdg_id'].values == pid).sum() for pid in label_encoder.classes_])\n",
    "gen_counts = np.array([(gen_part_types == pid).sum() for pid in label_encoder.classes_])"
   ],
   "id": "822be4dd91b5a20a",
   "outputs": [],
   "execution_count": null
  },
  {
   "metadata": {},
   "cell_type": "code",
   "source": [
    "x = np.arange(len(label_encoder.classes_))\n",
    "width = 0.35\n",
    "\n",
    "plt.figure(figsize=(10, 6))\n",
    "plt.bar(x - width/2, real_counts, width, label='Training')\n",
    "plt.bar(x + width/2, gen_counts, width, label='Generated')\n",
    "\n",
    "plt.xlabel('PDG ID')\n",
    "plt.ylabel('Count')\n",
    "plt.title('PDG ID Distribution: Training vs Generated')\n",
    "plt.xticks(ticks=x, labels=label_encoder.classes_.astype(str), rotation=45)\n",
    "plt.legend()\n",
    "plt.tight_layout()\n",
    "plt.show()"
   ],
   "id": "6fa9c8753d2c8546",
   "outputs": [],
   "execution_count": null
  },
  {
   "metadata": {},
   "cell_type": "code",
   "source": [
    "import torch\n",
    "torch.randn(1).to(\"cuda\")"
   ],
   "id": "9f72956153dbc03",
   "outputs": [],
   "execution_count": null
  },
  {
   "metadata": {},
   "cell_type": "code",
   "source": "",
   "id": "9b4d984103f5d7b",
   "outputs": [],
   "execution_count": null
  }
 ],
 "metadata": {
  "kernelspec": {
   "display_name": "Python 3",
   "language": "python",
   "name": "python3"
  },
  "language_info": {
   "codemirror_mode": {
    "name": "ipython",
    "version": 2
   },
   "file_extension": ".py",
   "mimetype": "text/x-python",
   "name": "python",
   "nbconvert_exporter": "python",
   "pygments_lexer": "ipython2",
   "version": "2.7.6"
  }
 },
 "nbformat": 4,
 "nbformat_minor": 5
}
