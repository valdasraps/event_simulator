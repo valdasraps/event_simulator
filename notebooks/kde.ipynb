{
 "cells": [
  {
   "cell_type": "code",
   "execution_count": 11,
   "id": "2896fbc6-c7e6-4090-8402-4e6eb7907aa7",
   "metadata": {},
   "outputs": [],
   "source": [
    "import numpy as np\n",
    "import pandas as pd\n",
    "import matplotlib.pyplot as plt\n",
    "from utils import get_m_values, get_m_values_numpy, dist_w, dist_f\n",
    "from scipy.stats import wasserstein_distance\n"
   ]
  },
  {
   "cell_type": "markdown",
   "id": "4fcf6866-945a-4eec-a1ae-ba35173724e4",
   "metadata": {},
   "source": [
    "# Preparation"
   ]
  },
  {
   "cell_type": "code",
   "execution_count": 13,
   "id": "f3d3aa71-f5ad-4597-838b-cb85a3aeb7b8",
   "metadata": {},
   "outputs": [],
   "source": [
    "df = pd.read_csv('../data/pp_4l_all.csv')\n",
    "cols_cont = [\n",
    "    'E1', 'p1x', 'p1y', 'p1z', \n",
    "    'E2', 'p2x', 'p2y', 'p2z',\n",
    "    'E3', 'p3x', 'p3y', 'p3z',\n",
    "    'E4', 'p4x', 'p4y', 'p4z', \n",
    "]\n",
    "cols_cat = ['pdg1', 'pdg2', 'pdg3', 'pdg4']\n",
    "m_values = get_m_values(df)"
   ]
  },
  {
   "cell_type": "code",
   "execution_count": 5,
   "id": "d8804e49-a0e6-4b06-b7bb-400292c1ca32",
   "metadata": {},
   "outputs": [],
   "source": [
    "from sklearn.model_selection import train_test_split\n",
    "\n",
    "idx_train, idx_test = train_test_split(range(len(df)), train_size=0.5, random_state=321)\n",
    "X_train, X_test = df[cols_cont].values[idx_train], df[cols_cont].values[idx_test]\n",
    "m_train, m_test = m_values[idx_train], m_values[idx_test]\n"
   ]
  },
  {
   "cell_type": "markdown",
   "id": "3bdb32fa-1588-4c69-9c18-7755f6337e50",
   "metadata": {},
   "source": [
    "# KDE"
   ]
  },
  {
   "cell_type": "code",
   "execution_count": 46,
   "id": "95e58291-941f-44c1-a7e5-4770bcc04ee8",
   "metadata": {},
   "outputs": [
    {
     "name": "stderr",
     "output_type": "stream",
     "text": [
      "/Users/tomasraila/.pyenv/versions/3.10.6/lib/python3.10/site-packages/pandas/core/arraylike.py:405: RuntimeWarning: invalid value encountered in sqrt\n",
      "  result = getattr(ufunc, method)(*inputs, **kwargs)\n",
      "/Users/tomasraila/.pyenv/versions/3.10.6/lib/python3.10/site-packages/pandas/core/arraylike.py:405: RuntimeWarning: invalid value encountered in sqrt\n",
      "  result = getattr(ufunc, method)(*inputs, **kwargs)\n"
     ]
    }
   ],
   "source": [
    "from sklearn.preprocessing import StandardScaler\n",
    "from sklearn.neighbors import KernelDensity\n",
    "\n",
    "rows = []\n",
    "for pow in [-2, -1, 0, 1]:\n",
    "    kde = KernelDensity(kernel='gaussian', bandwidth=10 ** pow)\n",
    "    kde.fit(X_train)\n",
    "\n",
    "    X_sampled = kde.sample(len(X_test), random_state=321)\n",
    "    df_sampled = pd.DataFrame(X_sampled, columns=cols_cont)\n",
    "    m_sampled = get_m_values(df_sampled)\n",
    "    m_sampled = m_sampled[~np.isnan(m_sampled)]\n",
    "    \n",
    "    rows.append({\n",
    "        'b': '10^{' + str(pow) + '}',\n",
    "        'w_m': wasserstein_distance(m_test, m_sampled),\n",
    "        'w_avg': dist_w(X_test, X_sampled),\n",
    "        'f': dist_f(X_test, X_sampled),\n",
    "    })\n",
    "df_res = pd.DataFrame.from_records(rows)"
   ]
  },
  {
   "cell_type": "code",
   "execution_count": 43,
   "id": "17435923",
   "metadata": {},
   "outputs": [
    {
     "name": "stdout",
     "output_type": "stream",
     "text": [
      "5.6421830491654115\n",
      "2.214485839037571\n",
      "0.5601341368414785\n"
     ]
    }
   ],
   "source": [
    "print(wasserstein_distance(m_test, m_sampled))\n",
    "print(dist_w(X_test, X_sampled))\n",
    "print(dist_f(X_test, X_sampled))"
   ]
  },
  {
   "cell_type": "code",
   "execution_count": 62,
   "id": "358e4211",
   "metadata": {},
   "outputs": [
    {
     "name": "stdout",
     "output_type": "stream",
     "text": [
      "\\begin{tabular}{lrrr}\n",
      "\\toprule\n",
      "      b &    w\\_m &  w\\_avg &     f \\\\\n",
      "\\midrule\n",
      "10\\textasciicircum \\{-2\\} &  5.643 &  2.214 & 0.560 \\\\\n",
      "10\\textasciicircum \\{-1\\} &  5.655 &  2.214 & 0.560 \\\\\n",
      " 10\\textasciicircum \\{0\\} &  5.879 &  2.210 & 0.560 \\\\\n",
      " 10\\textasciicircum \\{1\\} & 13.653 &  2.740 & 0.553 \\\\\n",
      "\\bottomrule\n",
      "\\end{tabular}\n",
      "\n"
     ]
    },
    {
     "name": "stderr",
     "output_type": "stream",
     "text": [
      "/var/folders/df/z290lq712tgg_xpn112v8bz80000gn/T/ipykernel_3741/2563426173.py:1: FutureWarning: In future versions `DataFrame.to_latex` is expected to utilise the base implementation of `Styler.to_latex` for formatting and rendering. The arguments signature may therefore change. It is recommended instead to use `DataFrame.style.to_latex` which also contains additional functionality.\n",
      "  print(df_res.to_latex(float_format='%.3f', index=False))\n"
     ]
    }
   ],
   "source": [
    "print(df_res.to_latex(float_format='%.3f', index=False))"
   ]
  },
  {
   "cell_type": "code",
   "execution_count": 65,
   "id": "dffc6bb5-58b7-41b1-adff-986c1dc6d782",
   "metadata": {},
   "outputs": [
    {
     "data": {
      "image/png": "[encoded data removed]",
      "text/plain": [
       "<Figure size 800x200 with 1 Axes>"
      ]
     },
     "metadata": {},
     "output_type": "display_data"
    }
   ],
   "source": [
    "kde = KernelDensity(kernel='gaussian', bandwidth=0.1)\n",
    "kde.fit(X_train)\n",
    "\n",
    "X_sampled = kde.sample(len(X_test), random_state=321)\n",
    "df_sampled = pd.DataFrame(X_sampled, columns=cols_cont)\n",
    "m_sampled = get_m_values(df_sampled)\n",
    "m_sampled = m_sampled[~np.isnan(m_sampled)]\n",
    "\n",
    "plt.figure(figsize=(8, 2), dpi=100)\n",
    "plt.hist([m_test, m_sampled], bins=40, range=(0, 500), density=True, edgecolor='black', label=['Test', 'Sampled'])\n",
    "plt.grid(linestyle='--')\n",
    "plt.legend()\n",
    "plt.ylabel('Density')\n",
    "plt.xlabel('m')\n",
    "# plt.show()\n",
    "plt.savefig('./images/kde_test_vs_sampled.png', bbox_inches='tight')"
   ]
  },
  {
   "cell_type": "code",
   "execution_count": null,
   "id": "c86fd208",
   "metadata": {},
   "outputs": [],
   "source": []
  }
 ],
 "metadata": {
  "hide_input": false,
  "kernelspec": {
   "display_name": "Python 3 (ipykernel)",
   "language": "python",
   "name": "python3"
  },
  "language_info": {
   "codemirror_mode": {
    "name": "ipython",
    "version": 3
   },
   "file_extension": ".py",
   "mimetype": "text/x-python",
   "name": "python",
   "nbconvert_exporter": "python",
   "pygments_lexer": "ipython3",
   "version": "3.8.10"
  },
  "varInspector": {
   "cols": {
    "lenName": 16,
    "lenType": 16,
    "lenVar": 40
   },
   "kernels_config": {
    "python": {
     "delete_cmd_postfix": "",
     "delete_cmd_prefix": "del ",
     "library": "var_list.py",
     "varRefreshCmd": "print(var_dic_list())"
    },
    "r": {
     "delete_cmd_postfix": ") ",
     "delete_cmd_prefix": "rm(",
     "library": "var_list.r",
     "varRefreshCmd": "cat(var_dic_list()) "
    }
   },
   "types_to_exclude": [
    "module",
    "function",
    "builtin_function_or_method",
    "instance",
    "_Feature"
   ],
   "window_display": false
  },
  "vscode": {
   "interpreter": {
    "hash": "876db32bcdd17dd4862348d8c3433074a8a31c58638b33213fce1000d94889d4"
   }
  }
 },
 "nbformat": 4,
 "nbformat_minor": 5
}
