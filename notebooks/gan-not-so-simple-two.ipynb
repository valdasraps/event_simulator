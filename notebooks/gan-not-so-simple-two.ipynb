{
 "cells": [
  {
   "cell_type": "code",
   "execution_count": 922,
   "id": "f18a541e",
   "metadata": {},
   "outputs": [],
   "source": [
    "import os\n",
    "os.environ['TF_CPP_MIN_LOG_LEVEL'] = '3'\n",
    "\n",
    "import itertools\n",
    "import numpy as np\n",
    "import pandas as pd\n",
    "from tqdm.notebook import tqdm\n",
    "\n",
    "import matplotlib.pyplot as plt\n",
    "%matplotlib inline\n",
    "\n",
    "import keras\n",
    "import tensorflow as tf\n",
    "import keras.backend as K\n",
    "from keras.layers import Dense, Dropout, Input, Concatenate\n",
    "from keras.models import Model, Sequential\n",
    "from sklearn.preprocessing import MinMaxScaler, OneHotEncoder\n",
    "from keras.layers.advanced_activations import LeakyReLU\n",
    "from tensorflow_model_remediation.min_diff.losses import MMDLoss\n",
    "from tensorflow_model_remediation.min_diff.keras.models.min_diff_model import MinDiffModel"
   ]
  },
  {
   "cell_type": "code",
   "execution_count": 4,
   "id": "eb8708fb",
   "metadata": {},
   "outputs": [],
   "source": [
    "gpus = tf.config.experimental.list_physical_devices('GPU')\n",
    "if gpus:\n",
    "    try:\n",
    "        tf.config.experimental.set_virtual_device_configuration(\n",
    "            gpus[0],[tf.config.experimental.VirtualDeviceConfiguration(memory_limit=5120)])\n",
    "    except RuntimeError as e:\n",
    "        print(e)"
   ]
  },
  {
   "cell_type": "code",
   "execution_count": 401,
   "id": "071f244c",
   "metadata": {},
   "outputs": [],
   "source": [
    "def get_m_values(df):\n",
    "    e_sum_sq = np.power(df['E1'] + df['E2'] + df['E3'] + df['E4'], 2)\n",
    "    x_sum_sq = np.power(df['p1x'] + df['p2x'] + df['p3x'] + df['p4x'], 2)\n",
    "    y_sum_sq = np.power(df['p1y'] + df['p2y'] + df['p3y'] + df['p4y'], 2)\n",
    "    z_sum_sq = np.power(df['p1z'] + df['p2z'] + df['p3z'] + df['p4z'], 2)\n",
    "    m_values = np.sqrt(e_sum_sq - x_sum_sq - y_sum_sq - z_sum_sq)\n",
    "    return m_values"
   ]
  },
  {
   "cell_type": "markdown",
   "id": "2d195d84",
   "metadata": {},
   "source": [
    "# Data prep"
   ]
  },
  {
   "cell_type": "code",
   "execution_count": 6,
   "id": "16c63ae9",
   "metadata": {},
   "outputs": [
    {
     "data": {
      "text/html": [
       "<div>\n",
       "<style scoped>\n",
       "    .dataframe tbody tr th:only-of-type {\n",
       "        vertical-align: middle;\n",
       "    }\n",
       "\n",
       "    .dataframe tbody tr th {\n",
       "        vertical-align: top;\n",
       "    }\n",
       "\n",
       "    .dataframe thead th {\n",
       "        text-align: right;\n",
       "    }\n",
       "</style>\n",
       "<table border=\"1\" class=\"dataframe\">\n",
       "  <thead>\n",
       "    <tr style=\"text-align: right;\">\n",
       "      <th></th>\n",
       "      <th>pdg1</th>\n",
       "      <th>E1</th>\n",
       "      <th>p1x</th>\n",
       "      <th>p1y</th>\n",
       "      <th>p1z</th>\n",
       "      <th>pdg2</th>\n",
       "      <th>E2</th>\n",
       "      <th>p2x</th>\n",
       "      <th>p2y</th>\n",
       "      <th>p2z</th>\n",
       "      <th>pdg3</th>\n",
       "      <th>E3</th>\n",
       "      <th>p3x</th>\n",
       "      <th>p3y</th>\n",
       "      <th>p3z</th>\n",
       "      <th>pdg4</th>\n",
       "      <th>E4</th>\n",
       "      <th>p4x</th>\n",
       "      <th>p4y</th>\n",
       "      <th>p4z</th>\n",
       "    </tr>\n",
       "  </thead>\n",
       "  <tbody>\n",
       "    <tr>\n",
       "      <th>0</th>\n",
       "      <td>11</td>\n",
       "      <td>20.274241</td>\n",
       "      <td>13.753708</td>\n",
       "      <td>1.397849</td>\n",
       "      <td>14.829915</td>\n",
       "      <td>-11</td>\n",
       "      <td>13.459523</td>\n",
       "      <td>-13.458053</td>\n",
       "      <td>-0.178631</td>\n",
       "      <td>0.087476</td>\n",
       "      <td>13</td>\n",
       "      <td>10.726935</td>\n",
       "      <td>1.457106</td>\n",
       "      <td>-9.715445</td>\n",
       "      <td>-4.306151</td>\n",
       "      <td>-13</td>\n",
       "      <td>19.941356</td>\n",
       "      <td>-1.752761</td>\n",
       "      <td>8.496227</td>\n",
       "      <td>17.955180</td>\n",
       "    </tr>\n",
       "    <tr>\n",
       "      <th>1</th>\n",
       "      <td>13</td>\n",
       "      <td>152.820099</td>\n",
       "      <td>63.584427</td>\n",
       "      <td>18.996694</td>\n",
       "      <td>-137.659427</td>\n",
       "      <td>-13</td>\n",
       "      <td>164.917905</td>\n",
       "      <td>4.471840</td>\n",
       "      <td>31.646155</td>\n",
       "      <td>-161.791309</td>\n",
       "      <td>13</td>\n",
       "      <td>137.529487</td>\n",
       "      <td>-39.586901</td>\n",
       "      <td>-44.338982</td>\n",
       "      <td>-124.021291</td>\n",
       "      <td>-13</td>\n",
       "      <td>39.559938</td>\n",
       "      <td>-28.469366</td>\n",
       "      <td>-6.303867</td>\n",
       "      <td>-26.734509</td>\n",
       "    </tr>\n",
       "    <tr>\n",
       "      <th>2</th>\n",
       "      <td>11</td>\n",
       "      <td>51.267102</td>\n",
       "      <td>27.995380</td>\n",
       "      <td>26.039697</td>\n",
       "      <td>34.154190</td>\n",
       "      <td>-11</td>\n",
       "      <td>43.013595</td>\n",
       "      <td>-7.827488</td>\n",
       "      <td>-17.337374</td>\n",
       "      <td>-38.578689</td>\n",
       "      <td>13</td>\n",
       "      <td>123.210062</td>\n",
       "      <td>0.378806</td>\n",
       "      <td>-41.833551</td>\n",
       "      <td>115.890116</td>\n",
       "      <td>-13</td>\n",
       "      <td>46.883635</td>\n",
       "      <td>-20.546697</td>\n",
       "      <td>33.131228</td>\n",
       "      <td>26.042638</td>\n",
       "    </tr>\n",
       "    <tr>\n",
       "      <th>3</th>\n",
       "      <td>13</td>\n",
       "      <td>64.805282</td>\n",
       "      <td>-3.653628</td>\n",
       "      <td>46.355274</td>\n",
       "      <td>45.139262</td>\n",
       "      <td>-13</td>\n",
       "      <td>38.158727</td>\n",
       "      <td>-29.094263</td>\n",
       "      <td>-15.298609</td>\n",
       "      <td>-19.379208</td>\n",
       "      <td>13</td>\n",
       "      <td>57.805237</td>\n",
       "      <td>34.629435</td>\n",
       "      <td>10.578369</td>\n",
       "      <td>45.059234</td>\n",
       "      <td>-13</td>\n",
       "      <td>42.993259</td>\n",
       "      <td>-1.881544</td>\n",
       "      <td>-41.635034</td>\n",
       "      <td>10.554281</td>\n",
       "    </tr>\n",
       "    <tr>\n",
       "      <th>4</th>\n",
       "      <td>13</td>\n",
       "      <td>25.501529</td>\n",
       "      <td>17.607195</td>\n",
       "      <td>-7.617831</td>\n",
       "      <td>-16.800957</td>\n",
       "      <td>-13</td>\n",
       "      <td>22.270427</td>\n",
       "      <td>3.366801</td>\n",
       "      <td>16.786119</td>\n",
       "      <td>-14.242599</td>\n",
       "      <td>13</td>\n",
       "      <td>36.269401</td>\n",
       "      <td>-21.935459</td>\n",
       "      <td>13.187325</td>\n",
       "      <td>-25.698023</td>\n",
       "      <td>-13</td>\n",
       "      <td>47.012227</td>\n",
       "      <td>0.961463</td>\n",
       "      <td>-22.355613</td>\n",
       "      <td>-41.345380</td>\n",
       "    </tr>\n",
       "    <tr>\n",
       "      <th>...</th>\n",
       "      <td>...</td>\n",
       "      <td>...</td>\n",
       "      <td>...</td>\n",
       "      <td>...</td>\n",
       "      <td>...</td>\n",
       "      <td>...</td>\n",
       "      <td>...</td>\n",
       "      <td>...</td>\n",
       "      <td>...</td>\n",
       "      <td>...</td>\n",
       "      <td>...</td>\n",
       "      <td>...</td>\n",
       "      <td>...</td>\n",
       "      <td>...</td>\n",
       "      <td>...</td>\n",
       "      <td>...</td>\n",
       "      <td>...</td>\n",
       "      <td>...</td>\n",
       "      <td>...</td>\n",
       "      <td>...</td>\n",
       "    </tr>\n",
       "    <tr>\n",
       "      <th>19995</th>\n",
       "      <td>13</td>\n",
       "      <td>104.780662</td>\n",
       "      <td>42.444194</td>\n",
       "      <td>-70.801849</td>\n",
       "      <td>64.533437</td>\n",
       "      <td>-13</td>\n",
       "      <td>40.669899</td>\n",
       "      <td>15.498023</td>\n",
       "      <td>29.488293</td>\n",
       "      <td>23.329839</td>\n",
       "      <td>13</td>\n",
       "      <td>70.717828</td>\n",
       "      <td>-10.422217</td>\n",
       "      <td>-15.453176</td>\n",
       "      <td>68.217130</td>\n",
       "      <td>-13</td>\n",
       "      <td>76.806457</td>\n",
       "      <td>-47.520000</td>\n",
       "      <td>56.766732</td>\n",
       "      <td>20.459923</td>\n",
       "    </tr>\n",
       "    <tr>\n",
       "      <th>19996</th>\n",
       "      <td>11</td>\n",
       "      <td>41.767784</td>\n",
       "      <td>24.968553</td>\n",
       "      <td>-8.233132</td>\n",
       "      <td>32.455118</td>\n",
       "      <td>-11</td>\n",
       "      <td>70.293006</td>\n",
       "      <td>-59.382010</td>\n",
       "      <td>26.894480</td>\n",
       "      <td>26.297730</td>\n",
       "      <td>13</td>\n",
       "      <td>13.512633</td>\n",
       "      <td>5.146302</td>\n",
       "      <td>-11.949588</td>\n",
       "      <td>-3.647330</td>\n",
       "      <td>-13</td>\n",
       "      <td>35.067493</td>\n",
       "      <td>29.267155</td>\n",
       "      <td>-6.711760</td>\n",
       "      <td>18.113636</td>\n",
       "    </tr>\n",
       "    <tr>\n",
       "      <th>19997</th>\n",
       "      <td>13</td>\n",
       "      <td>165.372773</td>\n",
       "      <td>42.569775</td>\n",
       "      <td>-26.508450</td>\n",
       "      <td>-157.585720</td>\n",
       "      <td>-13</td>\n",
       "      <td>129.240829</td>\n",
       "      <td>-42.380560</td>\n",
       "      <td>7.956206</td>\n",
       "      <td>-121.835002</td>\n",
       "      <td>13</td>\n",
       "      <td>110.152618</td>\n",
       "      <td>-40.177549</td>\n",
       "      <td>23.109741</td>\n",
       "      <td>99.926436</td>\n",
       "      <td>-13</td>\n",
       "      <td>49.993973</td>\n",
       "      <td>39.988334</td>\n",
       "      <td>-4.557497</td>\n",
       "      <td>29.657184</td>\n",
       "    </tr>\n",
       "    <tr>\n",
       "      <th>19998</th>\n",
       "      <td>11</td>\n",
       "      <td>30.643742</td>\n",
       "      <td>9.530088</td>\n",
       "      <td>-16.555072</td>\n",
       "      <td>-23.961342</td>\n",
       "      <td>-11</td>\n",
       "      <td>32.651847</td>\n",
       "      <td>8.507474</td>\n",
       "      <td>-6.286373</td>\n",
       "      <td>-30.890897</td>\n",
       "      <td>13</td>\n",
       "      <td>123.211921</td>\n",
       "      <td>-19.275757</td>\n",
       "      <td>37.041656</td>\n",
       "      <td>-115.920349</td>\n",
       "      <td>-13</td>\n",
       "      <td>36.569459</td>\n",
       "      <td>1.238196</td>\n",
       "      <td>-14.200210</td>\n",
       "      <td>-33.676921</td>\n",
       "    </tr>\n",
       "    <tr>\n",
       "      <th>19999</th>\n",
       "      <td>13</td>\n",
       "      <td>20.448927</td>\n",
       "      <td>-2.483780</td>\n",
       "      <td>16.007953</td>\n",
       "      <td>12.478932</td>\n",
       "      <td>-13</td>\n",
       "      <td>121.154128</td>\n",
       "      <td>-38.547925</td>\n",
       "      <td>-13.199683</td>\n",
       "      <td>-114.097053</td>\n",
       "      <td>13</td>\n",
       "      <td>91.635037</td>\n",
       "      <td>39.677190</td>\n",
       "      <td>35.427284</td>\n",
       "      <td>-74.616332</td>\n",
       "      <td>-13</td>\n",
       "      <td>135.987185</td>\n",
       "      <td>1.354514</td>\n",
       "      <td>-38.235554</td>\n",
       "      <td>-130.494103</td>\n",
       "    </tr>\n",
       "  </tbody>\n",
       "</table>\n",
       "<p>20000 rows × 20 columns</p>\n",
       "</div>"
      ],
      "text/plain": [
       "       pdg1          E1        p1x        p1y         p1z  pdg2          E2  \\\n",
       "0        11   20.274241  13.753708   1.397849   14.829915   -11   13.459523   \n",
       "1        13  152.820099  63.584427  18.996694 -137.659427   -13  164.917905   \n",
       "2        11   51.267102  27.995380  26.039697   34.154190   -11   43.013595   \n",
       "3        13   64.805282  -3.653628  46.355274   45.139262   -13   38.158727   \n",
       "4        13   25.501529  17.607195  -7.617831  -16.800957   -13   22.270427   \n",
       "...     ...         ...        ...        ...         ...   ...         ...   \n",
       "19995    13  104.780662  42.444194 -70.801849   64.533437   -13   40.669899   \n",
       "19996    11   41.767784  24.968553  -8.233132   32.455118   -11   70.293006   \n",
       "19997    13  165.372773  42.569775 -26.508450 -157.585720   -13  129.240829   \n",
       "19998    11   30.643742   9.530088 -16.555072  -23.961342   -11   32.651847   \n",
       "19999    13   20.448927  -2.483780  16.007953   12.478932   -13  121.154128   \n",
       "\n",
       "             p2x        p2y         p2z  pdg3          E3        p3x  \\\n",
       "0     -13.458053  -0.178631    0.087476    13   10.726935   1.457106   \n",
       "1       4.471840  31.646155 -161.791309    13  137.529487 -39.586901   \n",
       "2      -7.827488 -17.337374  -38.578689    13  123.210062   0.378806   \n",
       "3     -29.094263 -15.298609  -19.379208    13   57.805237  34.629435   \n",
       "4       3.366801  16.786119  -14.242599    13   36.269401 -21.935459   \n",
       "...          ...        ...         ...   ...         ...        ...   \n",
       "19995  15.498023  29.488293   23.329839    13   70.717828 -10.422217   \n",
       "19996 -59.382010  26.894480   26.297730    13   13.512633   5.146302   \n",
       "19997 -42.380560   7.956206 -121.835002    13  110.152618 -40.177549   \n",
       "19998   8.507474  -6.286373  -30.890897    13  123.211921 -19.275757   \n",
       "19999 -38.547925 -13.199683 -114.097053    13   91.635037  39.677190   \n",
       "\n",
       "             p3y         p3z  pdg4          E4        p4x        p4y  \\\n",
       "0      -9.715445   -4.306151   -13   19.941356  -1.752761   8.496227   \n",
       "1     -44.338982 -124.021291   -13   39.559938 -28.469366  -6.303867   \n",
       "2     -41.833551  115.890116   -13   46.883635 -20.546697  33.131228   \n",
       "3      10.578369   45.059234   -13   42.993259  -1.881544 -41.635034   \n",
       "4      13.187325  -25.698023   -13   47.012227   0.961463 -22.355613   \n",
       "...          ...         ...   ...         ...        ...        ...   \n",
       "19995 -15.453176   68.217130   -13   76.806457 -47.520000  56.766732   \n",
       "19996 -11.949588   -3.647330   -13   35.067493  29.267155  -6.711760   \n",
       "19997  23.109741   99.926436   -13   49.993973  39.988334  -4.557497   \n",
       "19998  37.041656 -115.920349   -13   36.569459   1.238196 -14.200210   \n",
       "19999  35.427284  -74.616332   -13  135.987185   1.354514 -38.235554   \n",
       "\n",
       "              p4z  \n",
       "0       17.955180  \n",
       "1      -26.734509  \n",
       "2       26.042638  \n",
       "3       10.554281  \n",
       "4      -41.345380  \n",
       "...           ...  \n",
       "19995   20.459923  \n",
       "19996   18.113636  \n",
       "19997   29.657184  \n",
       "19998  -33.676921  \n",
       "19999 -130.494103  \n",
       "\n",
       "[20000 rows x 20 columns]"
      ]
     },
     "execution_count": 6,
     "metadata": {},
     "output_type": "execute_result"
    }
   ],
   "source": [
    "data_raw = pd.read_csv('../data/pp_4l_all.csv')\n",
    "data_raw"
   ]
  },
  {
   "cell_type": "code",
   "execution_count": 7,
   "id": "dbf39968",
   "metadata": {},
   "outputs": [],
   "source": [
    "particles = (\n",
    "    ['pdg1', 'E1', 'p1x', 'p1y', 'p1z'],\n",
    "    ['pdg2', 'E2', 'p2x', 'p2y', 'p2z'],\n",
    "    ['pdg3', 'E3', 'p3x', 'p3y', 'p3z'], \n",
    "    ['pdg4', 'E4', 'p4x', 'p4y', 'p4z']\n",
    ")\n",
    "particle_types = {\n",
    "    11: 'e-', -11: 'e+',\n",
    "    13: 'm-', -13: 'm+'\n",
    "}"
   ]
  },
  {
   "cell_type": "code",
   "execution_count": 8,
   "id": "f50cd8d7",
   "metadata": {},
   "outputs": [
    {
     "data": {
      "text/plain": [
       "(80000, 5)"
      ]
     },
     "execution_count": 8,
     "metadata": {},
     "output_type": "execute_result"
    }
   ],
   "source": [
    "data_stack = None\n",
    "for i in range(4):\n",
    "    d = data_raw.values[:, 5*i:5*i+5]\n",
    "    data_stack = d if data_stack is None else np.append(data_stack, d, axis = 0)\n",
    "data_stack.shape"
   ]
  },
  {
   "cell_type": "code",
   "execution_count": 9,
   "id": "e05a3042",
   "metadata": {},
   "outputs": [],
   "source": [
    "scaler = MinMaxScaler().fit(data_stack[:, 1:])\n",
    "data_stack[:, 1:] = scaler.transform(data_stack[:, 1:])"
   ]
  },
  {
   "cell_type": "code",
   "execution_count": 10,
   "id": "6bd73107",
   "metadata": {},
   "outputs": [
    {
     "data": {
      "text/plain": [
       "(20000, 20)"
      ]
     },
     "execution_count": 10,
     "metadata": {},
     "output_type": "execute_result"
    }
   ],
   "source": [
    "i = data_stack.shape[0] // 4\n",
    "data = data_stack[0:i]\n",
    "data = np.append(data, data_stack[i:i*2], axis=1)\n",
    "data = np.append(data, data_stack[i*2:i*3], axis=1)\n",
    "data = np.append(data, data_stack[i*3:i*4], axis=1)\n",
    "data.shape"
   ]
  },
  {
   "cell_type": "code",
   "execution_count": 11,
   "id": "6a72d29e",
   "metadata": {},
   "outputs": [
    {
     "data": {
      "text/plain": [
       "[[0, 1, 2, 3, 4], [5, 6, 7, 8, 9], [10, 11, 12, 13, 14], [15, 16, 17, 18, 19]]"
      ]
     },
     "execution_count": 11,
     "metadata": {},
     "output_type": "execute_result"
    }
   ],
   "source": [
    "pcols = [(np.array([0,1,2,3,4]) + 5 * i).tolist() for i in range(4)]\n",
    "pcols"
   ]
  },
  {
   "cell_type": "code",
   "execution_count": 12,
   "id": "159e4729",
   "metadata": {},
   "outputs": [
    {
     "data": {
      "text/plain": [
       "(40000, 20)"
      ]
     },
     "execution_count": 12,
     "metadata": {},
     "output_type": "execute_result"
    }
   ],
   "source": [
    "data0 = None\n",
    "for p in itertools.permutations(range(len(pcols)), len(pcols)):\n",
    "    c = np.array([ [] + pcols[i] for i in p ]).flatten().tolist()\n",
    "    d = data[:,c]\n",
    "    data0 = d if data is None else np.append(data, d, axis = 0)\n",
    "data0.shape"
   ]
  },
  {
   "cell_type": "code",
   "execution_count": 13,
   "id": "c7fd2f3e",
   "metadata": {},
   "outputs": [
    {
     "data": {
      "text/plain": [
       "array([[-13.,  13., -13.,  13.],\n",
       "       [-13.,  13., -11.,  11.],\n",
       "       [-11.,  11., -11.,  11.],\n",
       "       [ 11., -11.,  11., -11.],\n",
       "       [ 11., -11.,  13., -13.],\n",
       "       [ 13., -13.,  13., -13.]])"
      ]
     },
     "execution_count": 13,
     "metadata": {},
     "output_type": "execute_result"
    }
   ],
   "source": [
    "particle_type_cols = [0,5,10,15]\n",
    "particle_prop_cols = [i for i in range(data0.shape[1]) if i not in particle_type_cols]\n",
    "event_types, event_codes = np.unique(data0[:,particle_type_cols], axis=0, return_inverse=True)\n",
    "event_types"
   ]
  },
  {
   "cell_type": "code",
   "execution_count": 14,
   "id": "675d2e79",
   "metadata": {},
   "outputs": [],
   "source": [
    "enc = OneHotEncoder(handle_unknown='ignore')\n",
    "enc = enc.fit(event_codes[:,np.newaxis])"
   ]
  },
  {
   "cell_type": "code",
   "execution_count": 15,
   "id": "cf459125",
   "metadata": {},
   "outputs": [
    {
     "data": {
      "text/plain": [
       "((40000, 6), (40000, 16))"
      ]
     },
     "execution_count": 15,
     "metadata": {},
     "output_type": "execute_result"
    }
   ],
   "source": [
    "X_codes = enc.transform(event_codes[:,np.newaxis]).toarray()\n",
    "X_props = data0[:, particle_prop_cols]\n",
    "\n",
    "X_codes.shape, X_props.shape"
   ]
  },
  {
   "cell_type": "code",
   "execution_count": 102,
   "id": "315c79f9",
   "metadata": {},
   "outputs": [],
   "source": [
    "def plot_histos(codes, props, log = False, normal_scale = False):\n",
    "\n",
    "    fig, ax = plt.subplots(1, figsize=(16,4))\n",
    "\n",
    "    cds = np.argmax(codes, axis=1)\n",
    "    ax.hist(cds, bins=50)\n",
    "    ax.set_title('type')\n",
    "    plt.show()\n",
    "\n",
    "    fig, axs = plt.subplots(2, 2, figsize=(16,10))\n",
    "    \n",
    "    for t in np.unique(event_types):\n",
    "        \n",
    "        a = np.where(event_types == t)\n",
    "        d = None\n",
    "        \n",
    "        for i, j in zip(a[0].tolist(), a[1].tolist()):\n",
    "            \n",
    "            d_ = props[cds == i, 4*j:4*j+4]\n",
    "            d = d_ if d is None else np.append(d, d_, axis=0)\n",
    "\n",
    "        for e in range(d.shape[1]):\n",
    "\n",
    "            ax = axs[0 if e < 2 else 1, e % 2]\n",
    "            ax.hist(d[:, e], bins=50, histtype='step', linewidth=2, fill=False, label=f\"{t}\")\n",
    "            ax.set_title(['E', 'px', 'py', 'pz'][e])\n",
    "            if normal_scale:\n",
    "                ax.set_xlim((0,1))\n",
    "            if log:\n",
    "                ax.set_yscale('log')\n",
    "                    \n",
    "    plt.legend()\n",
    "    plt.show()"
   ]
  },
  {
   "cell_type": "code",
   "execution_count": 103,
   "id": "a5f46abe",
   "metadata": {
    "scrolled": false
   },
   "outputs": [
    {
     "data": {
      "image/png": "[encoded data removed]",
      "text/plain": [
       "<Figure size 1152x288 with 1 Axes>"
      ]
     },
     "metadata": {
      "needs_background": "light"
     },
     "output_type": "display_data"
    },
    {
     "data": {
      "image/png": "[encoded data removed]",
      "text/plain": [
       "<Figure size 1152x720 with 4 Axes>"
      ]
     },
     "metadata": {
      "needs_background": "light"
     },
     "output_type": "display_data"
    }
   ],
   "source": [
    "plot_histos(X_codes, X_props, normal_scale=True)"
   ]
  },
  {
   "cell_type": "code",
   "execution_count": 655,
   "id": "ac5cadc3",
   "metadata": {},
   "outputs": [],
   "source": [
    "m_real = get_m_values(data_raw)"
   ]
  },
  {
   "cell_type": "code",
   "execution_count": 656,
   "id": "2645c593",
   "metadata": {},
   "outputs": [],
   "source": [
    "x = data_raw.values[:,particle_prop_cols]"
   ]
  },
  {
   "cell_type": "code",
   "execution_count": 657,
   "id": "920a2779",
   "metadata": {},
   "outputs": [],
   "source": [
    "p = []\n",
    "for i in range(4):\n",
    "    p.append(np.power(x[:,i] + x[:,4 + i] + x[:,8 + i] + x[:,12 + i], 2))\n",
    "p = np.array(p)\n",
    "m_real = np.sqrt(p[0,:] - p[1,:] - p[2,:] - p[3,:])"
   ]
  },
  {
   "cell_type": "code",
   "execution_count": 658,
   "id": "ac8ea4c0",
   "metadata": {},
   "outputs": [
    {
     "data": {
      "image/png": "[encoded data removed]",
      "text/plain": [
       "<Figure size 1224x576 with 1 Axes>"
      ]
     },
     "metadata": {
      "needs_background": "light"
     },
     "output_type": "display_data"
    }
   ],
   "source": [
    "plt.figure(figsize=(17, 8))\n",
    "plt.hist(m_real, bins=100, histtype='step', linewidth=2, fill=False, label=\"True\")\n",
    "plt.legend()\n",
    "plt.show()"
   ]
  },
  {
   "cell_type": "code",
   "execution_count": 904,
   "id": "ec881dd3",
   "metadata": {},
   "outputs": [],
   "source": [
    "scaler_range = scaler.data_range_[[0,1,2,3,0,1,2,3,0,1,2,3,0,1,2,3]].tolist()\n",
    "scaler_min = scaler.data_min_[[0,1,2,3,0,1,2,3,0,1,2,3,0,1,2,3]].tolist()"
   ]
  },
  {
   "cell_type": "code",
   "execution_count": 905,
   "id": "a8d91edb",
   "metadata": {},
   "outputs": [],
   "source": [
    "@tf.function\n",
    "def m_calc(y):\n",
    "    \n",
    "    e_sum = K.pow(y[:,0] + y[:,4] + y[:,8] + y[:,12], 2)\n",
    "    x_sum = K.pow(y[:,1] + y[:,5] + y[:,9] + y[:,13], 2)\n",
    "    y_sum = K.pow(y[:,2] + y[:,6] + y[:,10] + y[:,14], 2)\n",
    "    z_sum = K.pow(y[:,3] + y[:,7] + y[:,11] + y[:,15], 2)\n",
    "    \n",
    "    d = e_sum - x_sum - y_sum - z_sum\n",
    "    return d\n",
    "    \n",
    "\n",
    "@tf.function\n",
    "def descale(y):\n",
    "    return y * scaler_range + scaler_min\n",
    "\n",
    "def m_loss(y_true, y_pred):\n",
    "    \n",
    "    m_true = m_calc(descale(y_true))\n",
    "    m_pred = m_calc(descale(y_pred))\n",
    "\n",
    "    loss = K.pow(m_pred - m_true, 2)\n",
    "    #loss = K.sum(loss, axis=1)\n",
    "    return loss"
   ]
  },
  {
   "cell_type": "code",
   "execution_count": 906,
   "id": "eeeb2bfe",
   "metadata": {},
   "outputs": [
    {
     "data": {
      "text/plain": [
       "<tf.Tensor: shape=(2,), dtype=float64, numpy=array([1.50828731e+09, 7.77402120e+07])>"
      ]
     },
     "execution_count": 906,
     "metadata": {},
     "output_type": "execute_result"
    }
   ],
   "source": [
    "m_loss(X_props[0:2], X_props[1:3])"
   ]
  },
  {
   "cell_type": "code",
   "execution_count": 907,
   "id": "126b5f2d",
   "metadata": {},
   "outputs": [
    {
     "name": "stdout",
     "output_type": "stream",
     "text": [
      "Model: \"model_103\"\n",
      "_________________________________________________________________\n",
      " Layer (type)                Output Shape              Param #   \n",
      "=================================================================\n",
      " input_106 (InputLayer)      [(None, 128)]             0         \n",
      "                                                                 \n",
      " dense_316 (Dense)           (None, 128)               16512     \n",
      "                                                                 \n",
      " dense_317 (Dense)           (None, 256)               33024     \n",
      "                                                                 \n",
      " dense_318 (Dense)           (None, 512)               131584    \n",
      "                                                                 \n",
      " dense_319 (Dense)           (None, 16)                8208      \n",
      "                                                                 \n",
      "=================================================================\n",
      "Total params: 189,328\n",
      "Trainable params: 189,328\n",
      "Non-trainable params: 0\n",
      "_________________________________________________________________\n"
     ]
    }
   ],
   "source": [
    "def create_simple_generator():\n",
    "    \n",
    "    inp = Input(shape=(128,))\n",
    "    \n",
    "    x = Dense(128, activation='leaky_relu', kernel_initializer='he_normal')(inp)\n",
    "    x = Dense(256, activation='leaky_relu', kernel_initializer='he_normal')(x)\n",
    "    x = Dense(512, activation='leaky_relu', kernel_initializer='he_normal')(x)\n",
    "    \n",
    "    prop = Dense(activation='linear', units=16)(x)\n",
    "    \n",
    "    generator = Model(inputs=inp, outputs=prop)\n",
    "    generator.compile(loss=m_loss, optimizer='adam')\n",
    "    \n",
    "    return generator\n",
    "\n",
    "generator0 = create_simple_generator()\n",
    "generator0.summary()"
   ]
  },
  {
   "cell_type": "code",
   "execution_count": 908,
   "id": "4504951b",
   "metadata": {},
   "outputs": [
    {
     "data": {
      "text/plain": [
       "((40000, 128), (40000, 16))"
      ]
     },
     "execution_count": 908,
     "metadata": {},
     "output_type": "execute_result"
    }
   ],
   "source": [
    "X = np.random.normal(0, 1, [len(X_props), 128])\n",
    "Y = X_props\n",
    "X.shape, Y.shape"
   ]
  },
  {
   "cell_type": "code",
   "execution_count": 909,
   "id": "d6e2f5f5",
   "metadata": {
    "scrolled": false
   },
   "outputs": [
    {
     "data": {
      "application/vnd.jupyter.widget-view+json": {
       "model_id": "3628a02ee4eb49d082c0d4159738546b",
       "version_major": 2,
       "version_minor": 0
      },
      "text/plain": [
       "  0%|          | 0/1000 [00:00<?, ?it/s]"
      ]
     },
     "metadata": {},
     "output_type": "display_data"
    }
   ],
   "source": [
    "batch_size = 32\n",
    "epochs = 1000\n",
    "losses = []\n",
    "\n",
    "for _ in tqdm(range(epochs)):\n",
    "    \n",
    "    idx1 = np.random.randint(low = 0, high = X.shape[0], size = batch_size)\n",
    "    idx2 = np.random.randint(low = 0, high = X.shape[0], size = batch_size)\n",
    "    losses.append(generator0.train_on_batch(X[idx1], Y[idx2]))\n",
    "    "
   ]
  },
  {
   "cell_type": "code",
   "execution_count": 910,
   "id": "d844978d",
   "metadata": {},
   "outputs": [
    {
     "data": {
      "image/png": "[encoded data removed]",
      "text/plain": [
       "<Figure size 1080x576 with 1 Axes>"
      ]
     },
     "metadata": {
      "needs_background": "light"
     },
     "output_type": "display_data"
    }
   ],
   "source": [
    "plt.figure(figsize=(15, 8))\n",
    "\n",
    "plt.plot(losses, label='generator')\n",
    "\n",
    "plt.ylabel('loss')\n",
    "plt.xlabel('epoch * batch')\n",
    "#plt.xscale('log')\n",
    "plt.legend()\n",
    "plt.show()"
   ]
  },
  {
   "cell_type": "code",
   "execution_count": 911,
   "id": "12d29d9e",
   "metadata": {},
   "outputs": [],
   "source": [
    "def gaussian_kernel(x1, x2, beta = 1.0):\n",
    "    r = tf.transpose(x1)\n",
    "    r = tf.expand_dims(r, 2)\n",
    "    return tf.reduce_sum(K.exp( -beta * K.square(r - x2)), axis=-1)\n",
    "  \n",
    "def MMD(x1, x2, beta = 1.0):\n",
    "    \"\"\"\n",
    "    maximum mean discrepancy (MMD) based on Gaussian kernel\n",
    "    function for keras models (theano or tensorflow backend)\n",
    "    \n",
    "    - Gretton, Arthur, et al. \"A kernel method for the two-sample-problem.\"\n",
    "    Advances in neural information processing systems. 2007.\n",
    "    \"\"\"\n",
    "\n",
    "#     x1 = m_calc(descale(x1))\n",
    "#     x2 = m_calc(descale(x2))\n",
    "    \n",
    "    #print(x1, x2)\n",
    "    \n",
    "#     x1 = tf.expand_dims(x1, axis=0)\n",
    "#     x2 = tf.expand_dims(x2, axis=0)\n",
    "    \n",
    "    #print(x1, x2)\n",
    "    \n",
    "    x1x1 = gaussian_kernel(x1, x1, beta)\n",
    "    x1x2 = gaussian_kernel(x1, x2, beta)\n",
    "    x2x2 = gaussian_kernel(x2, x2, beta)\n",
    "    \n",
    "    #print(x1x1, x1x2)\n",
    "    \n",
    "    diff = tf.reduce_mean(x1x1) - 2 * tf.reduce_mean(x1x2) + tf.reduce_mean(x2x2)\n",
    "    return diff"
   ]
  },
  {
   "cell_type": "code",
   "execution_count": 913,
   "id": "52a15134",
   "metadata": {},
   "outputs": [
    {
     "data": {
      "text/plain": [
       "<tf.Tensor: shape=(), dtype=float64, numpy=0.0016204159255561734>"
      ]
     },
     "execution_count": 913,
     "metadata": {},
     "output_type": "execute_result"
    }
   ],
   "source": [
    "MMD(X_props[0:2] , X_props[1:3])"
   ]
  },
  {
   "cell_type": "code",
   "execution_count": 923,
   "id": "68024b1a",
   "metadata": {},
   "outputs": [
    {
     "name": "stdout",
     "output_type": "stream",
     "text": [
      "Model: \"min_diff_model\"\n",
      "_________________________________________________________________\n",
      " Layer (type)                Output Shape              Param #   \n",
      "=================================================================\n",
      " model_105 (Functional)      (None, 16)                189328    \n",
      "                                                                 \n",
      "=================================================================\n",
      "Total params: 189,330\n",
      "Trainable params: 189,328\n",
      "Non-trainable params: 2\n",
      "_________________________________________________________________\n"
     ]
    }
   ],
   "source": [
    "def create_simple_generator():\n",
    "    \n",
    "    inp = Input(shape=(128,))\n",
    "    \n",
    "    x = Dense(128, activation='leaky_relu', kernel_initializer='he_normal')(inp)\n",
    "    x = Dense(256, activation='leaky_relu', kernel_initializer='he_normal')(x)\n",
    "    x = Dense(512, activation='leaky_relu', kernel_initializer='he_normal')(x)\n",
    "    \n",
    "    prop = Dense(activation='sigmoid', units=16)(x)\n",
    "    \n",
    "    generator = Model(inputs=inp, outputs=prop)\n",
    "    generator = MinDiffModel(generator, MMDLoss())\n",
    "    generator.compile(loss='mse', optimizer='adam')\n",
    "    \n",
    "    \n",
    "    return generator\n",
    "\n",
    "generator0 = create_simple_generator()\n",
    "generator0.summary()"
   ]
  },
  {
   "cell_type": "code",
   "execution_count": 924,
   "id": "c15ab1e2",
   "metadata": {},
   "outputs": [
    {
     "data": {
      "application/vnd.jupyter.widget-view+json": {
       "model_id": "fcd74dad91c44d98a296d1b76be40d56",
       "version_major": 2,
       "version_minor": 0
      },
      "text/plain": [
       "  0%|          | 0/1000 [00:00<?, ?it/s]"
      ]
     },
     "metadata": {},
     "output_type": "display_data"
    },
    {
     "ename": "ValueError",
     "evalue": "in user code:\n\n    File \"/home/valdo/.local/share/virtualenvs/tradegan-zjtqzHfP/lib/python3.8/site-packages/keras/engine/training.py\", line 878, in train_function  *\n        return step_function(self, iterator)\n    File \"/home/valdo/.local/share/virtualenvs/tradegan-zjtqzHfP/lib/python3.8/site-packages/keras/engine/training.py\", line 867, in step_function  **\n        outputs = model.distribute_strategy.run(run_step, args=(data,))\n    File \"/home/valdo/.local/share/virtualenvs/tradegan-zjtqzHfP/lib/python3.8/site-packages/keras/engine/training.py\", line 860, in run_step  **\n        outputs = model.train_step(data)\n    File \"/home/valdo/.local/share/virtualenvs/tradegan-zjtqzHfP/lib/python3.8/site-packages/keras/engine/training.py\", line 808, in train_step\n        y_pred = self(x, training=True)\n    File \"/home/valdo/.local/share/virtualenvs/tradegan-zjtqzHfP/lib/python3.8/site-packages/keras/utils/traceback_utils.py\", line 67, in error_handler\n        raise e.with_traceback(filtered_tb) from None\n\n    ValueError: Exception encountered when calling layer \"min_diff_model\" (type MinDiffModel).\n    \n    in user code:\n    \n        File \"/home/valdo/.local/share/virtualenvs/tradegan-zjtqzHfP/lib/python3.8/site-packages/tensorflow_model_remediation/min_diff/keras/models/min_diff_model.py\", line 591, in call  *\n            raise ValueError(\n    \n        ValueError: call `inputs` must contain MinDiffData during training.\n    \n    \n    Call arguments received:\n      • inputs=tf.Tensor(shape=(32, 128), dtype=float32)\n      • training=True\n      • mask=None\n",
     "output_type": "error",
     "traceback": [
      "\u001b[0;31m---------------------------------------------------------------------------\u001b[0m",
      "\u001b[0;31mValueError\u001b[0m                                Traceback (most recent call last)",
      "\u001b[0;32m/tmp/ipykernel_905539/1626025386.py\u001b[0m in \u001b[0;36m<module>\u001b[0;34m\u001b[0m\n\u001b[1;32m      7\u001b[0m     \u001b[0midx1\u001b[0m \u001b[0;34m=\u001b[0m \u001b[0mnp\u001b[0m\u001b[0;34m.\u001b[0m\u001b[0mrandom\u001b[0m\u001b[0;34m.\u001b[0m\u001b[0mrandint\u001b[0m\u001b[0;34m(\u001b[0m\u001b[0mlow\u001b[0m \u001b[0;34m=\u001b[0m \u001b[0;36m0\u001b[0m\u001b[0;34m,\u001b[0m \u001b[0mhigh\u001b[0m \u001b[0;34m=\u001b[0m \u001b[0mX\u001b[0m\u001b[0;34m.\u001b[0m\u001b[0mshape\u001b[0m\u001b[0;34m[\u001b[0m\u001b[0;36m0\u001b[0m\u001b[0;34m]\u001b[0m\u001b[0;34m,\u001b[0m \u001b[0msize\u001b[0m \u001b[0;34m=\u001b[0m \u001b[0mbatch_size\u001b[0m\u001b[0;34m)\u001b[0m\u001b[0;34m\u001b[0m\u001b[0;34m\u001b[0m\u001b[0m\n\u001b[1;32m      8\u001b[0m     \u001b[0midx2\u001b[0m \u001b[0;34m=\u001b[0m \u001b[0mnp\u001b[0m\u001b[0;34m.\u001b[0m\u001b[0mrandom\u001b[0m\u001b[0;34m.\u001b[0m\u001b[0mrandint\u001b[0m\u001b[0;34m(\u001b[0m\u001b[0mlow\u001b[0m \u001b[0;34m=\u001b[0m \u001b[0;36m0\u001b[0m\u001b[0;34m,\u001b[0m \u001b[0mhigh\u001b[0m \u001b[0;34m=\u001b[0m \u001b[0mX\u001b[0m\u001b[0;34m.\u001b[0m\u001b[0mshape\u001b[0m\u001b[0;34m[\u001b[0m\u001b[0;36m0\u001b[0m\u001b[0;34m]\u001b[0m\u001b[0;34m,\u001b[0m \u001b[0msize\u001b[0m \u001b[0;34m=\u001b[0m \u001b[0mbatch_size\u001b[0m\u001b[0;34m)\u001b[0m\u001b[0;34m\u001b[0m\u001b[0;34m\u001b[0m\u001b[0m\n\u001b[0;32m----> 9\u001b[0;31m     \u001b[0mlosses\u001b[0m\u001b[0;34m.\u001b[0m\u001b[0mappend\u001b[0m\u001b[0;34m(\u001b[0m\u001b[0mgenerator0\u001b[0m\u001b[0;34m.\u001b[0m\u001b[0mtrain_on_batch\u001b[0m\u001b[0;34m(\u001b[0m\u001b[0mX\u001b[0m\u001b[0;34m[\u001b[0m\u001b[0midx1\u001b[0m\u001b[0;34m]\u001b[0m\u001b[0;34m,\u001b[0m \u001b[0mY\u001b[0m\u001b[0;34m[\u001b[0m\u001b[0midx2\u001b[0m\u001b[0;34m]\u001b[0m\u001b[0;34m)\u001b[0m\u001b[0;34m)\u001b[0m\u001b[0;34m\u001b[0m\u001b[0;34m\u001b[0m\u001b[0m\n\u001b[0m\u001b[1;32m     10\u001b[0m \u001b[0;34m\u001b[0m\u001b[0m\n",
      "\u001b[0;32m~/.local/share/virtualenvs/tradegan-zjtqzHfP/lib/python3.8/site-packages/keras/engine/training.py\u001b[0m in \u001b[0;36mtrain_on_batch\u001b[0;34m(self, x, y, sample_weight, class_weight, reset_metrics, return_dict)\u001b[0m\n\u001b[1;32m   1898\u001b[0m                                                     class_weight)\n\u001b[1;32m   1899\u001b[0m       \u001b[0mself\u001b[0m\u001b[0;34m.\u001b[0m\u001b[0mtrain_function\u001b[0m \u001b[0;34m=\u001b[0m \u001b[0mself\u001b[0m\u001b[0;34m.\u001b[0m\u001b[0mmake_train_function\u001b[0m\u001b[0;34m(\u001b[0m\u001b[0;34m)\u001b[0m\u001b[0;34m\u001b[0m\u001b[0;34m\u001b[0m\u001b[0m\n\u001b[0;32m-> 1900\u001b[0;31m       \u001b[0mlogs\u001b[0m \u001b[0;34m=\u001b[0m \u001b[0mself\u001b[0m\u001b[0;34m.\u001b[0m\u001b[0mtrain_function\u001b[0m\u001b[0;34m(\u001b[0m\u001b[0miterator\u001b[0m\u001b[0;34m)\u001b[0m\u001b[0;34m\u001b[0m\u001b[0;34m\u001b[0m\u001b[0m\n\u001b[0m\u001b[1;32m   1901\u001b[0m \u001b[0;34m\u001b[0m\u001b[0m\n\u001b[1;32m   1902\u001b[0m     \u001b[0mlogs\u001b[0m \u001b[0;34m=\u001b[0m \u001b[0mtf_utils\u001b[0m\u001b[0;34m.\u001b[0m\u001b[0msync_to_numpy_or_python_type\u001b[0m\u001b[0;34m(\u001b[0m\u001b[0mlogs\u001b[0m\u001b[0;34m)\u001b[0m\u001b[0;34m\u001b[0m\u001b[0;34m\u001b[0m\u001b[0m\n",
      "\u001b[0;32m~/.local/share/virtualenvs/tradegan-zjtqzHfP/lib/python3.8/site-packages/tensorflow/python/util/traceback_utils.py\u001b[0m in \u001b[0;36merror_handler\u001b[0;34m(*args, **kwargs)\u001b[0m\n\u001b[1;32m    151\u001b[0m     \u001b[0;32mexcept\u001b[0m \u001b[0mException\u001b[0m \u001b[0;32mas\u001b[0m \u001b[0me\u001b[0m\u001b[0;34m:\u001b[0m\u001b[0;34m\u001b[0m\u001b[0;34m\u001b[0m\u001b[0m\n\u001b[1;32m    152\u001b[0m       \u001b[0mfiltered_tb\u001b[0m \u001b[0;34m=\u001b[0m \u001b[0m_process_traceback_frames\u001b[0m\u001b[0;34m(\u001b[0m\u001b[0me\u001b[0m\u001b[0;34m.\u001b[0m\u001b[0m__traceback__\u001b[0m\u001b[0;34m)\u001b[0m\u001b[0;34m\u001b[0m\u001b[0;34m\u001b[0m\u001b[0m\n\u001b[0;32m--> 153\u001b[0;31m       \u001b[0;32mraise\u001b[0m \u001b[0me\u001b[0m\u001b[0;34m.\u001b[0m\u001b[0mwith_traceback\u001b[0m\u001b[0;34m(\u001b[0m\u001b[0mfiltered_tb\u001b[0m\u001b[0;34m)\u001b[0m \u001b[0;32mfrom\u001b[0m \u001b[0;32mNone\u001b[0m\u001b[0;34m\u001b[0m\u001b[0;34m\u001b[0m\u001b[0m\n\u001b[0m\u001b[1;32m    154\u001b[0m     \u001b[0;32mfinally\u001b[0m\u001b[0;34m:\u001b[0m\u001b[0;34m\u001b[0m\u001b[0;34m\u001b[0m\u001b[0m\n\u001b[1;32m    155\u001b[0m       \u001b[0;32mdel\u001b[0m \u001b[0mfiltered_tb\u001b[0m\u001b[0;34m\u001b[0m\u001b[0;34m\u001b[0m\u001b[0m\n",
      "\u001b[0;32m~/.local/share/virtualenvs/tradegan-zjtqzHfP/lib/python3.8/site-packages/tensorflow/python/framework/func_graph.py\u001b[0m in \u001b[0;36mautograph_handler\u001b[0;34m(*args, **kwargs)\u001b[0m\n\u001b[1;32m   1127\u001b[0m           \u001b[0;32mexcept\u001b[0m \u001b[0mException\u001b[0m \u001b[0;32mas\u001b[0m \u001b[0me\u001b[0m\u001b[0;34m:\u001b[0m  \u001b[0;31m# pylint:disable=broad-except\u001b[0m\u001b[0;34m\u001b[0m\u001b[0;34m\u001b[0m\u001b[0m\n\u001b[1;32m   1128\u001b[0m             \u001b[0;32mif\u001b[0m \u001b[0mhasattr\u001b[0m\u001b[0;34m(\u001b[0m\u001b[0me\u001b[0m\u001b[0;34m,\u001b[0m \u001b[0;34m\"ag_error_metadata\"\u001b[0m\u001b[0;34m)\u001b[0m\u001b[0;34m:\u001b[0m\u001b[0;34m\u001b[0m\u001b[0;34m\u001b[0m\u001b[0m\n\u001b[0;32m-> 1129\u001b[0;31m               \u001b[0;32mraise\u001b[0m \u001b[0me\u001b[0m\u001b[0;34m.\u001b[0m\u001b[0mag_error_metadata\u001b[0m\u001b[0;34m.\u001b[0m\u001b[0mto_exception\u001b[0m\u001b[0;34m(\u001b[0m\u001b[0me\u001b[0m\u001b[0;34m)\u001b[0m\u001b[0;34m\u001b[0m\u001b[0;34m\u001b[0m\u001b[0m\n\u001b[0m\u001b[1;32m   1130\u001b[0m             \u001b[0;32melse\u001b[0m\u001b[0;34m:\u001b[0m\u001b[0;34m\u001b[0m\u001b[0;34m\u001b[0m\u001b[0m\n\u001b[1;32m   1131\u001b[0m               \u001b[0;32mraise\u001b[0m\u001b[0;34m\u001b[0m\u001b[0;34m\u001b[0m\u001b[0m\n",
      "\u001b[0;31mValueError\u001b[0m: in user code:\n\n    File \"/home/valdo/.local/share/virtualenvs/tradegan-zjtqzHfP/lib/python3.8/site-packages/keras/engine/training.py\", line 878, in train_function  *\n        return step_function(self, iterator)\n    File \"/home/valdo/.local/share/virtualenvs/tradegan-zjtqzHfP/lib/python3.8/site-packages/keras/engine/training.py\", line 867, in step_function  **\n        outputs = model.distribute_strategy.run(run_step, args=(data,))\n    File \"/home/valdo/.local/share/virtualenvs/tradegan-zjtqzHfP/lib/python3.8/site-packages/keras/engine/training.py\", line 860, in run_step  **\n        outputs = model.train_step(data)\n    File \"/home/valdo/.local/share/virtualenvs/tradegan-zjtqzHfP/lib/python3.8/site-packages/keras/engine/training.py\", line 808, in train_step\n        y_pred = self(x, training=True)\n    File \"/home/valdo/.local/share/virtualenvs/tradegan-zjtqzHfP/lib/python3.8/site-packages/keras/utils/traceback_utils.py\", line 67, in error_handler\n        raise e.with_traceback(filtered_tb) from None\n\n    ValueError: Exception encountered when calling layer \"min_diff_model\" (type MinDiffModel).\n    \n    in user code:\n    \n        File \"/home/valdo/.local/share/virtualenvs/tradegan-zjtqzHfP/lib/python3.8/site-packages/tensorflow_model_remediation/min_diff/keras/models/min_diff_model.py\", line 591, in call  *\n            raise ValueError(\n    \n        ValueError: call `inputs` must contain MinDiffData during training.\n    \n    \n    Call arguments received:\n      • inputs=tf.Tensor(shape=(32, 128), dtype=float32)\n      • training=True\n      • mask=None\n"
     ]
    }
   ],
   "source": [
    "batch_size = 32\n",
    "epochs = 1000\n",
    "losses = []\n",
    "\n",
    "for _ in tqdm(range(epochs)):\n",
    "    \n",
    "    idx1 = np.random.randint(low = 0, high = X.shape[0], size = batch_size)\n",
    "    idx2 = np.random.randint(low = 0, high = X.shape[0], size = batch_size)\n",
    "    losses.append(generator0.train_on_batch(X[idx1], Y[idx2]))\n",
    "    "
   ]
  },
  {
   "cell_type": "code",
   "execution_count": 734,
   "id": "cf70b5c6",
   "metadata": {},
   "outputs": [
    {
     "data": {
      "image/png": "[encoded data removed]",
      "text/plain": [
       "<Figure size 1080x576 with 1 Axes>"
      ]
     },
     "metadata": {
      "needs_background": "light"
     },
     "output_type": "display_data"
    }
   ],
   "source": [
    "plt.figure(figsize=(15, 8))\n",
    "\n",
    "plt.plot(losses, label='generator')\n",
    "\n",
    "plt.ylabel('loss')\n",
    "plt.xlabel('epoch * batch')\n",
    "#plt.xscale('log')\n",
    "plt.legend()\n",
    "plt.show()"
   ]
  },
  {
   "cell_type": "markdown",
   "id": "3785b001",
   "metadata": {},
   "source": [
    "# GAN"
   ]
  },
  {
   "cell_type": "code",
   "execution_count": 767,
   "id": "cecf6859",
   "metadata": {},
   "outputs": [
    {
     "data": {
      "text/plain": [
       "(512, 6, 16)"
      ]
     },
     "execution_count": 767,
     "metadata": {},
     "output_type": "execute_result"
    }
   ],
   "source": [
    "noise_len = 512\n",
    "code_len = X_codes.shape[1]\n",
    "prop_len = X_props.shape[1]\n",
    "\n",
    "loss = dict(d=[], g=[], g0=[])\n",
    "\n",
    "noise_len, code_len, prop_len"
   ]
  },
  {
   "cell_type": "code",
   "execution_count": 768,
   "id": "6bce1a1c",
   "metadata": {},
   "outputs": [
    {
     "name": "stdout",
     "output_type": "stream",
     "text": [
      "Model: \"model_99\"\n",
      "_________________________________________________________________\n",
      " Layer (type)                Output Shape              Param #   \n",
      "=================================================================\n",
      " input_102 (InputLayer)      [(None, 512)]             0         \n",
      "                                                                 \n",
      " dense_304 (Dense)           (None, 512)               262656    \n",
      "                                                                 \n",
      " dense_305 (Dense)           (None, 1024)              525312    \n",
      "                                                                 \n",
      " dense_306 (Dense)           (None, 2048)              2099200   \n",
      "                                                                 \n",
      " dense_307 (Dense)           (None, 16)                32784     \n",
      "                                                                 \n",
      "=================================================================\n",
      "Total params: 2,919,952\n",
      "Trainable params: 2,919,952\n",
      "Non-trainable params: 0\n",
      "_________________________________________________________________\n"
     ]
    }
   ],
   "source": [
    "def create_generator():\n",
    "    \n",
    "    inp = Input(shape=(noise_len,))\n",
    "    \n",
    "    x = Dense(512, activation='leaky_relu', kernel_initializer='he_normal')(inp)\n",
    "    x = Dense(1024, activation='leaky_relu', kernel_initializer='he_normal')(x)\n",
    "    x = Dense(2048, activation='leaky_relu', kernel_initializer='he_normal')(x)\n",
    "    \n",
    "    prop = Dense(activation='linear', units=prop_len)(x)\n",
    "    #code = Dense(code_len, activation='softmax')(x)\n",
    "    \n",
    "    generator = Model(inputs=inp, outputs=prop)\n",
    "    generator.compile(loss=MMD, optimizer='adam')\n",
    "    \n",
    "    return generator\n",
    "\n",
    "generator = create_generator()\n",
    "generator.summary()"
   ]
  },
  {
   "cell_type": "code",
   "execution_count": 769,
   "id": "ecc09002",
   "metadata": {},
   "outputs": [
    {
     "name": "stdout",
     "output_type": "stream",
     "text": [
      "Model: \"model_100\"\n",
      "_________________________________________________________________\n",
      " Layer (type)                Output Shape              Param #   \n",
      "=================================================================\n",
      " input_103 (InputLayer)      [(None, 16)]              0         \n",
      "                                                                 \n",
      " dense_308 (Dense)           (None, 512)               8704      \n",
      "                                                                 \n",
      " dense_309 (Dense)           (None, 256)               131328    \n",
      "                                                                 \n",
      " dense_310 (Dense)           (None, 128)               32896     \n",
      "                                                                 \n",
      " dense_311 (Dense)           (None, 1)                 129       \n",
      "                                                                 \n",
      "=================================================================\n",
      "Total params: 173,057\n",
      "Trainable params: 173,057\n",
      "Non-trainable params: 0\n",
      "_________________________________________________________________\n"
     ]
    }
   ],
   "source": [
    "def create_discriminator():\n",
    "\n",
    "    #inp_code = Input(shape=(code_len,))\n",
    "    inp_prop = Input(shape=(prop_len,))\n",
    "    \n",
    "    #x = Concatenate()((inp_code, inp_prop))\n",
    "    x = Dense(512, activation='leaky_relu', kernel_initializer='he_normal')(inp_prop)\n",
    "    #x = Dropout(0.3)(x)\n",
    "    x = Dense(256, activation='leaky_relu', kernel_initializer='he_normal')(x)\n",
    "    #x = Dropout(0.3)(x)\n",
    "    x = Dense(128, activation='leaky_relu', kernel_initializer='he_normal')(x)\n",
    "    #x = Dropout(0.3)(x)\n",
    "    \n",
    "    out = Dense(1, activation='sigmoid')(x)\n",
    "    \n",
    "    discriminator = Model(inputs=inp_prop, outputs=out)\n",
    "    discriminator.compile(loss='binary_crossentropy', optimizer='adam')\n",
    "    \n",
    "    return discriminator\n",
    "\n",
    "discriminator = create_discriminator()\n",
    "discriminator.summary()"
   ]
  },
  {
   "cell_type": "code",
   "execution_count": 770,
   "id": "1cb12cb1",
   "metadata": {},
   "outputs": [
    {
     "name": "stdout",
     "output_type": "stream",
     "text": [
      "Model: \"model_101\"\n",
      "_________________________________________________________________\n",
      " Layer (type)                Output Shape              Param #   \n",
      "=================================================================\n",
      " input_104 (InputLayer)      [(None, 512)]             0         \n",
      "                                                                 \n",
      " model_99 (Functional)       (None, 16)                2919952   \n",
      "                                                                 \n",
      " model_100 (Functional)      (None, 1)                 173057    \n",
      "                                                                 \n",
      "=================================================================\n",
      "Total params: 3,093,009\n",
      "Trainable params: 2,919,952\n",
      "Non-trainable params: 173,057\n",
      "_________________________________________________________________\n"
     ]
    }
   ],
   "source": [
    "def create_gan(discriminator, generator):\n",
    "    \n",
    "    discriminator.trainable = False\n",
    "    gan_input = Input(shape=(noise_len,))\n",
    "    prop = generator(gan_input)\n",
    "    gan_output = discriminator(prop)\n",
    "    gan = Model(inputs = gan_input, outputs = gan_output)\n",
    "    gan.compile(loss = 'binary_crossentropy', optimizer = 'adam')\n",
    "    \n",
    "    return gan\n",
    "\n",
    "gan = create_gan(discriminator, generator)\n",
    "gan.summary()"
   ]
  },
  {
   "cell_type": "code",
   "execution_count": 898,
   "id": "bcbedf7d",
   "metadata": {},
   "outputs": [
    {
     "data": {
      "application/vnd.jupyter.widget-view+json": {
       "model_id": "2a700a31df2b4d11abd70ac79a4786e7",
       "version_major": 2,
       "version_minor": 0
      },
      "text/plain": [
       "  0%|          | 0/128 [00:00<?, ?it/s]"
      ]
     },
     "metadata": {},
     "output_type": "display_data"
    },
    {
     "data": {
      "application/vnd.jupyter.widget-view+json": {
       "model_id": "a2463eb6a21a44a193f23f6383ff6e85",
       "version_major": 2,
       "version_minor": 0
      },
      "text/plain": [
       "  0%|          | 0/10 [00:00<?, ?it/s]"
      ]
     },
     "metadata": {},
     "output_type": "display_data"
    }
   ],
   "source": [
    "epochs = 10\n",
    "batch_size = 128\n",
    "    \n",
    "with tqdm(total=batch_size) as bbar:\n",
    "    \n",
    "    for e in tqdm(range(1, epochs + 1)):\n",
    "        \n",
    "        bbar.reset()\n",
    "\n",
    "        for _ in range(batch_size):\n",
    "\n",
    "            # Generate random noise as an input to initialize the generator\n",
    "            noise = np.random.normal(0, 1, [batch_size, noise_len])\n",
    "\n",
    "            # Generate fake particles from noised input\n",
    "            fake_batch = generator.predict(noise)\n",
    "\n",
    "            # Get a random set of real particles\n",
    "            idx = np.random.randint(low = 0,high = X_codes.shape[0], size = batch_size)\n",
    "            real_batch = X_props[idx]\n",
    "\n",
    "            # Construct different batches of real and fake data \n",
    "            X = np.concatenate([real_batch, fake_batch])\n",
    "\n",
    "            # Labels for generated and real data\n",
    "            Y = np.zeros(2 * batch_size)\n",
    "            Y[:batch_size] = 0.90\n",
    "\n",
    "            # Pre train discriminator on fake and real data before starting the gan. \n",
    "            discriminator.trainable = True\n",
    "            \n",
    "            l = discriminator.train_on_batch(X, Y)\n",
    "            loss['d'].append(l)\n",
    "\n",
    "            # Tricking the noised input of the Generator as real data\n",
    "            X_ = np.random.normal(0, 1, [batch_size, noise_len])\n",
    "            Y_ = np.ones(batch_size)\n",
    "\n",
    "            # During the training of gan, the weights of discriminator should be fixed. \n",
    "            # We can enforce that by setting the trainable flag\n",
    "            discriminator.trainable = False\n",
    "\n",
    "            # Training the GAN by alternating the training of the Discriminator \n",
    "            # and training the chained GAN model with Discriminator’s weights freezed.\n",
    "                \n",
    "            l = gan.train_on_batch(X_, Y_)\n",
    "            loss['g'].append(l)\n",
    "            \n",
    "            # Train generator on M\n",
    "            \n",
    "            noise = np.random.normal(0, 1, [batch_size, noise_len])\n",
    "            idx = np.random.randint(low = 0, high = X_codes.shape[0], size = batch_size)\n",
    "            l = generator.train_on_batch(noise, X_props[idx])\n",
    "            loss['g0'].append(l)\n",
    "            \n",
    "            bbar.update(1)\n",
    "            "
   ]
  },
  {
   "cell_type": "code",
   "execution_count": 878,
   "id": "48a5d38f",
   "metadata": {},
   "outputs": [
    {
     "data": {
      "image/png": "[encoded data removed]",
      "text/plain": [
       "<Figure size 1224x576 with 2 Axes>"
      ]
     },
     "metadata": {
      "needs_background": "light"
     },
     "output_type": "display_data"
    }
   ],
   "source": [
    "fig, ax1 = plt.subplots(figsize=(17, 8))\n",
    "ax2 = ax1.twinx()\n",
    "\n",
    "ax1.plot(loss['d'], color='C0', label='discriminator')\n",
    "ax1.plot(loss['g'], color='C1', label='generator')\n",
    "ax2.plot(loss['g0'], color='C2', label='generator0')\n",
    "\n",
    "plt.ylabel('loss')\n",
    "plt.xlabel('epoch * batch')\n",
    "#plt.yscale('log')\n",
    "ax1.legend(loc=2)\n",
    "ax2.legend(loc=0)\n",
    "plt.show()"
   ]
  },
  {
   "cell_type": "code",
   "execution_count": 888,
   "id": "531fdf24",
   "metadata": {},
   "outputs": [
    {
     "data": {
      "text/plain": [
       "((100000, 6), (100000, 16))"
      ]
     },
     "execution_count": 888,
     "metadata": {},
     "output_type": "execute_result"
    }
   ],
   "source": [
    "examples = 100_000\n",
    "    \n",
    "noise = np.random.normal(loc = 0, scale = 1, size = [examples, noise_len])\n",
    "G_props = generator.predict(noise)\n",
    "G_codes = np.zeros((len(G_props), 6))\n",
    "G_codes[:,0] = 1.\n",
    "G_codes.shape, G_props.shape"
   ]
  },
  {
   "cell_type": "code",
   "execution_count": 889,
   "id": "da2dc399",
   "metadata": {},
   "outputs": [
    {
     "data": {
      "image/png": "[encoded data removed]",
      "text/plain": [
       "<Figure size 1152x288 with 1 Axes>"
      ]
     },
     "metadata": {
      "needs_background": "light"
     },
     "output_type": "display_data"
    },
    {
     "data": {
      "image/png": "[encoded data removed]",
      "text/plain": [
       "<Figure size 1152x720 with 4 Axes>"
      ]
     },
     "metadata": {
      "needs_background": "light"
     },
     "output_type": "display_data"
    }
   ],
   "source": [
    "plot_histos(G_codes, G_props, normal_scale=False)"
   ]
  },
  {
   "cell_type": "code",
   "execution_count": 890,
   "id": "4ca29adc",
   "metadata": {},
   "outputs": [],
   "source": [
    "# generator.save('generator_model')"
   ]
  },
  {
   "cell_type": "code",
   "execution_count": 891,
   "id": "056c02b6",
   "metadata": {},
   "outputs": [
    {
     "data": {
      "text/plain": [
       "(400000, 4)"
      ]
     },
     "execution_count": 891,
     "metadata": {},
     "output_type": "execute_result"
    }
   ],
   "source": [
    "G_stack = np.append(G_props[:,0:4], G_props[:,4:8], axis = 0)\n",
    "G_stack = np.append(G_stack, G_props[:,8:12], axis = 0)\n",
    "G_stack = np.append(G_stack, G_props[:,12:16], axis = 0)\n",
    "G_stack.shape"
   ]
  },
  {
   "cell_type": "code",
   "execution_count": 892,
   "id": "8673c110",
   "metadata": {},
   "outputs": [
    {
     "data": {
      "text/plain": [
       "((100000, 16), (100000, 4))"
      ]
     },
     "execution_count": 892,
     "metadata": {},
     "output_type": "execute_result"
    }
   ],
   "source": [
    "x_ = scaler.inverse_transform(G_stack)\n",
    "c = x_.shape[0] // 4\n",
    "x = x_[0:c]\n",
    "x = np.append(x, x_[c:c*2], axis=1)\n",
    "x = np.append(x, x_[c*2:c*3], axis=1)\n",
    "x = np.append(x, x_[c*3:c*4], axis=1)\n",
    "\n",
    "y = event_types[np.argmax(G_codes, axis=1)]\n",
    "x.shape, y.shape"
   ]
  },
  {
   "cell_type": "code",
   "execution_count": 893,
   "id": "f43644f8",
   "metadata": {},
   "outputs": [
    {
     "data": {
      "text/plain": [
       "(100000, 20)"
      ]
     },
     "execution_count": 893,
     "metadata": {},
     "output_type": "execute_result"
    }
   ],
   "source": [
    "data_gen = y[:,0:1]\n",
    "data_gen = np.append(data_gen, x[:,0:4], axis=1)\n",
    "\n",
    "data_gen = np.append(data_gen, y[:,1:2], axis=1)\n",
    "data_gen = np.append(data_gen, x[:,4:8], axis=1)\n",
    "\n",
    "data_gen = np.append(data_gen, y[:,2:3], axis=1)\n",
    "data_gen = np.append(data_gen, x[:,8:12], axis=1)\n",
    "\n",
    "data_gen = np.append(data_gen, y[:,3:4], axis=1)\n",
    "data_gen = np.append(data_gen, x[:,12:16], axis=1)\n",
    "\n",
    "data_gen = pd.DataFrame(data_gen, columns=data_raw.columns)\n",
    "\n",
    "data_gen.shape"
   ]
  },
  {
   "cell_type": "code",
   "execution_count": 894,
   "id": "0031119b",
   "metadata": {},
   "outputs": [
    {
     "data": {
      "text/html": [
       "<div>\n",
       "<style scoped>\n",
       "    .dataframe tbody tr th:only-of-type {\n",
       "        vertical-align: middle;\n",
       "    }\n",
       "\n",
       "    .dataframe tbody tr th {\n",
       "        vertical-align: top;\n",
       "    }\n",
       "\n",
       "    .dataframe thead th {\n",
       "        text-align: right;\n",
       "    }\n",
       "</style>\n",
       "<table border=\"1\" class=\"dataframe\">\n",
       "  <thead>\n",
       "    <tr style=\"text-align: right;\">\n",
       "      <th></th>\n",
       "      <th>pdg1</th>\n",
       "      <th>E1</th>\n",
       "      <th>p1x</th>\n",
       "      <th>p1y</th>\n",
       "      <th>p1z</th>\n",
       "      <th>pdg2</th>\n",
       "      <th>E2</th>\n",
       "      <th>p2x</th>\n",
       "      <th>p2y</th>\n",
       "      <th>p2z</th>\n",
       "      <th>pdg3</th>\n",
       "      <th>E3</th>\n",
       "      <th>p3x</th>\n",
       "      <th>p3y</th>\n",
       "      <th>p3z</th>\n",
       "      <th>pdg4</th>\n",
       "      <th>E4</th>\n",
       "      <th>p4x</th>\n",
       "      <th>p4y</th>\n",
       "      <th>p4z</th>\n",
       "    </tr>\n",
       "  </thead>\n",
       "  <tbody>\n",
       "    <tr>\n",
       "      <th>0</th>\n",
       "      <td>-13.0</td>\n",
       "      <td>-435.574280</td>\n",
       "      <td>-483.557129</td>\n",
       "      <td>-554.212830</td>\n",
       "      <td>-3123.055176</td>\n",
       "      <td>13.0</td>\n",
       "      <td>-423.022583</td>\n",
       "      <td>-447.229736</td>\n",
       "      <td>-718.654785</td>\n",
       "      <td>-2878.624268</td>\n",
       "      <td>-13.0</td>\n",
       "      <td>-490.089630</td>\n",
       "      <td>-670.223633</td>\n",
       "      <td>-623.071655</td>\n",
       "      <td>-2691.223389</td>\n",
       "      <td>13.0</td>\n",
       "      <td>238.155991</td>\n",
       "      <td>-581.127563</td>\n",
       "      <td>-691.382690</td>\n",
       "      <td>-2441.468262</td>\n",
       "    </tr>\n",
       "    <tr>\n",
       "      <th>1</th>\n",
       "      <td>-13.0</td>\n",
       "      <td>235.813049</td>\n",
       "      <td>-15.394208</td>\n",
       "      <td>-98.495483</td>\n",
       "      <td>-349.867218</td>\n",
       "      <td>13.0</td>\n",
       "      <td>-568.253052</td>\n",
       "      <td>90.911362</td>\n",
       "      <td>-3.427810</td>\n",
       "      <td>-2338.240234</td>\n",
       "      <td>-13.0</td>\n",
       "      <td>-256.325745</td>\n",
       "      <td>-34.449600</td>\n",
       "      <td>-422.655945</td>\n",
       "      <td>265.130066</td>\n",
       "      <td>13.0</td>\n",
       "      <td>413.728577</td>\n",
       "      <td>-558.530579</td>\n",
       "      <td>227.762146</td>\n",
       "      <td>176.314636</td>\n",
       "    </tr>\n",
       "    <tr>\n",
       "      <th>2</th>\n",
       "      <td>-13.0</td>\n",
       "      <td>-590.928894</td>\n",
       "      <td>-771.630554</td>\n",
       "      <td>-892.566467</td>\n",
       "      <td>-2624.378662</td>\n",
       "      <td>13.0</td>\n",
       "      <td>-441.337982</td>\n",
       "      <td>-601.704590</td>\n",
       "      <td>-783.860657</td>\n",
       "      <td>-2614.635254</td>\n",
       "      <td>-13.0</td>\n",
       "      <td>138.974777</td>\n",
       "      <td>-622.875549</td>\n",
       "      <td>-636.998169</td>\n",
       "      <td>-2809.385010</td>\n",
       "      <td>13.0</td>\n",
       "      <td>-335.062500</td>\n",
       "      <td>-825.733582</td>\n",
       "      <td>-856.263306</td>\n",
       "      <td>-5378.501953</td>\n",
       "    </tr>\n",
       "    <tr>\n",
       "      <th>3</th>\n",
       "      <td>-13.0</td>\n",
       "      <td>-654.534790</td>\n",
       "      <td>-650.082764</td>\n",
       "      <td>-757.979675</td>\n",
       "      <td>-1606.486450</td>\n",
       "      <td>13.0</td>\n",
       "      <td>-1368.547485</td>\n",
       "      <td>-567.440918</td>\n",
       "      <td>-878.877747</td>\n",
       "      <td>-445.289795</td>\n",
       "      <td>-13.0</td>\n",
       "      <td>112.726074</td>\n",
       "      <td>-212.759399</td>\n",
       "      <td>-206.867844</td>\n",
       "      <td>-2372.145264</td>\n",
       "      <td>13.0</td>\n",
       "      <td>-863.036438</td>\n",
       "      <td>-665.143433</td>\n",
       "      <td>-368.907440</td>\n",
       "      <td>-4679.935547</td>\n",
       "    </tr>\n",
       "    <tr>\n",
       "      <th>4</th>\n",
       "      <td>-13.0</td>\n",
       "      <td>-1156.942993</td>\n",
       "      <td>-718.884888</td>\n",
       "      <td>-480.118225</td>\n",
       "      <td>-2052.551758</td>\n",
       "      <td>13.0</td>\n",
       "      <td>-144.798950</td>\n",
       "      <td>-786.001648</td>\n",
       "      <td>-176.310730</td>\n",
       "      <td>-3792.045654</td>\n",
       "      <td>-13.0</td>\n",
       "      <td>-639.471558</td>\n",
       "      <td>-607.039551</td>\n",
       "      <td>-725.883301</td>\n",
       "      <td>-2954.878174</td>\n",
       "      <td>13.0</td>\n",
       "      <td>-90.052505</td>\n",
       "      <td>-583.880859</td>\n",
       "      <td>-687.828308</td>\n",
       "      <td>-4513.075684</td>\n",
       "    </tr>\n",
       "    <tr>\n",
       "      <th>...</th>\n",
       "      <td>...</td>\n",
       "      <td>...</td>\n",
       "      <td>...</td>\n",
       "      <td>...</td>\n",
       "      <td>...</td>\n",
       "      <td>...</td>\n",
       "      <td>...</td>\n",
       "      <td>...</td>\n",
       "      <td>...</td>\n",
       "      <td>...</td>\n",
       "      <td>...</td>\n",
       "      <td>...</td>\n",
       "      <td>...</td>\n",
       "      <td>...</td>\n",
       "      <td>...</td>\n",
       "      <td>...</td>\n",
       "      <td>...</td>\n",
       "      <td>...</td>\n",
       "      <td>...</td>\n",
       "      <td>...</td>\n",
       "    </tr>\n",
       "    <tr>\n",
       "      <th>99995</th>\n",
       "      <td>-13.0</td>\n",
       "      <td>-251.106018</td>\n",
       "      <td>-395.630035</td>\n",
       "      <td>-371.035675</td>\n",
       "      <td>-2180.732910</td>\n",
       "      <td>13.0</td>\n",
       "      <td>726.243347</td>\n",
       "      <td>-365.324799</td>\n",
       "      <td>-51.881474</td>\n",
       "      <td>-3270.844727</td>\n",
       "      <td>-13.0</td>\n",
       "      <td>-148.399078</td>\n",
       "      <td>-729.875488</td>\n",
       "      <td>-565.137024</td>\n",
       "      <td>-1896.975830</td>\n",
       "      <td>13.0</td>\n",
       "      <td>299.419403</td>\n",
       "      <td>-391.469818</td>\n",
       "      <td>-580.161194</td>\n",
       "      <td>-2247.903809</td>\n",
       "    </tr>\n",
       "    <tr>\n",
       "      <th>99996</th>\n",
       "      <td>-13.0</td>\n",
       "      <td>100.076927</td>\n",
       "      <td>-108.344955</td>\n",
       "      <td>-380.349609</td>\n",
       "      <td>-1249.292725</td>\n",
       "      <td>13.0</td>\n",
       "      <td>317.434021</td>\n",
       "      <td>-462.573273</td>\n",
       "      <td>208.901794</td>\n",
       "      <td>-2106.770264</td>\n",
       "      <td>-13.0</td>\n",
       "      <td>355.782593</td>\n",
       "      <td>-651.883545</td>\n",
       "      <td>-494.190643</td>\n",
       "      <td>-1401.119385</td>\n",
       "      <td>13.0</td>\n",
       "      <td>428.645966</td>\n",
       "      <td>-364.761139</td>\n",
       "      <td>-241.022064</td>\n",
       "      <td>-1917.600342</td>\n",
       "    </tr>\n",
       "    <tr>\n",
       "      <th>99997</th>\n",
       "      <td>-13.0</td>\n",
       "      <td>-1706.088135</td>\n",
       "      <td>-708.118896</td>\n",
       "      <td>-810.685242</td>\n",
       "      <td>-1115.917969</td>\n",
       "      <td>13.0</td>\n",
       "      <td>-1833.399170</td>\n",
       "      <td>-207.135147</td>\n",
       "      <td>-529.943176</td>\n",
       "      <td>-1756.675293</td>\n",
       "      <td>-13.0</td>\n",
       "      <td>-22.128532</td>\n",
       "      <td>-335.164001</td>\n",
       "      <td>-170.652145</td>\n",
       "      <td>-2189.192871</td>\n",
       "      <td>13.0</td>\n",
       "      <td>-1506.545044</td>\n",
       "      <td>-994.514526</td>\n",
       "      <td>-50.176453</td>\n",
       "      <td>-4282.970215</td>\n",
       "    </tr>\n",
       "    <tr>\n",
       "      <th>99998</th>\n",
       "      <td>-13.0</td>\n",
       "      <td>-397.911377</td>\n",
       "      <td>-362.754150</td>\n",
       "      <td>-302.230896</td>\n",
       "      <td>-2815.763916</td>\n",
       "      <td>13.0</td>\n",
       "      <td>655.035706</td>\n",
       "      <td>-318.232849</td>\n",
       "      <td>-402.199158</td>\n",
       "      <td>-1457.242310</td>\n",
       "      <td>-13.0</td>\n",
       "      <td>23.263201</td>\n",
       "      <td>-636.442993</td>\n",
       "      <td>-405.528961</td>\n",
       "      <td>-2624.577148</td>\n",
       "      <td>13.0</td>\n",
       "      <td>442.346405</td>\n",
       "      <td>-300.110321</td>\n",
       "      <td>-861.325989</td>\n",
       "      <td>-3197.433105</td>\n",
       "    </tr>\n",
       "    <tr>\n",
       "      <th>99999</th>\n",
       "      <td>-13.0</td>\n",
       "      <td>-818.171326</td>\n",
       "      <td>-606.942810</td>\n",
       "      <td>-656.109375</td>\n",
       "      <td>-1520.128174</td>\n",
       "      <td>13.0</td>\n",
       "      <td>-906.758911</td>\n",
       "      <td>-472.820526</td>\n",
       "      <td>-355.697235</td>\n",
       "      <td>-1651.452881</td>\n",
       "      <td>-13.0</td>\n",
       "      <td>-406.224487</td>\n",
       "      <td>-456.466888</td>\n",
       "      <td>-437.558136</td>\n",
       "      <td>-1978.979126</td>\n",
       "      <td>13.0</td>\n",
       "      <td>-567.789124</td>\n",
       "      <td>-442.944458</td>\n",
       "      <td>-293.971527</td>\n",
       "      <td>-3776.344238</td>\n",
       "    </tr>\n",
       "  </tbody>\n",
       "</table>\n",
       "<p>100000 rows × 20 columns</p>\n",
       "</div>"
      ],
      "text/plain": [
       "       pdg1           E1         p1x         p1y          p1z  pdg2  \\\n",
       "0     -13.0  -435.574280 -483.557129 -554.212830 -3123.055176  13.0   \n",
       "1     -13.0   235.813049  -15.394208  -98.495483  -349.867218  13.0   \n",
       "2     -13.0  -590.928894 -771.630554 -892.566467 -2624.378662  13.0   \n",
       "3     -13.0  -654.534790 -650.082764 -757.979675 -1606.486450  13.0   \n",
       "4     -13.0 -1156.942993 -718.884888 -480.118225 -2052.551758  13.0   \n",
       "...     ...          ...         ...         ...          ...   ...   \n",
       "99995 -13.0  -251.106018 -395.630035 -371.035675 -2180.732910  13.0   \n",
       "99996 -13.0   100.076927 -108.344955 -380.349609 -1249.292725  13.0   \n",
       "99997 -13.0 -1706.088135 -708.118896 -810.685242 -1115.917969  13.0   \n",
       "99998 -13.0  -397.911377 -362.754150 -302.230896 -2815.763916  13.0   \n",
       "99999 -13.0  -818.171326 -606.942810 -656.109375 -1520.128174  13.0   \n",
       "\n",
       "                E2         p2x         p2y          p2z  pdg3          E3  \\\n",
       "0      -423.022583 -447.229736 -718.654785 -2878.624268 -13.0 -490.089630   \n",
       "1      -568.253052   90.911362   -3.427810 -2338.240234 -13.0 -256.325745   \n",
       "2      -441.337982 -601.704590 -783.860657 -2614.635254 -13.0  138.974777   \n",
       "3     -1368.547485 -567.440918 -878.877747  -445.289795 -13.0  112.726074   \n",
       "4      -144.798950 -786.001648 -176.310730 -3792.045654 -13.0 -639.471558   \n",
       "...            ...         ...         ...          ...   ...         ...   \n",
       "99995   726.243347 -365.324799  -51.881474 -3270.844727 -13.0 -148.399078   \n",
       "99996   317.434021 -462.573273  208.901794 -2106.770264 -13.0  355.782593   \n",
       "99997 -1833.399170 -207.135147 -529.943176 -1756.675293 -13.0  -22.128532   \n",
       "99998   655.035706 -318.232849 -402.199158 -1457.242310 -13.0   23.263201   \n",
       "99999  -906.758911 -472.820526 -355.697235 -1651.452881 -13.0 -406.224487   \n",
       "\n",
       "              p3x         p3y          p3z  pdg4           E4         p4x  \\\n",
       "0     -670.223633 -623.071655 -2691.223389  13.0   238.155991 -581.127563   \n",
       "1      -34.449600 -422.655945   265.130066  13.0   413.728577 -558.530579   \n",
       "2     -622.875549 -636.998169 -2809.385010  13.0  -335.062500 -825.733582   \n",
       "3     -212.759399 -206.867844 -2372.145264  13.0  -863.036438 -665.143433   \n",
       "4     -607.039551 -725.883301 -2954.878174  13.0   -90.052505 -583.880859   \n",
       "...           ...         ...          ...   ...          ...         ...   \n",
       "99995 -729.875488 -565.137024 -1896.975830  13.0   299.419403 -391.469818   \n",
       "99996 -651.883545 -494.190643 -1401.119385  13.0   428.645966 -364.761139   \n",
       "99997 -335.164001 -170.652145 -2189.192871  13.0 -1506.545044 -994.514526   \n",
       "99998 -636.442993 -405.528961 -2624.577148  13.0   442.346405 -300.110321   \n",
       "99999 -456.466888 -437.558136 -1978.979126  13.0  -567.789124 -442.944458   \n",
       "\n",
       "              p4y          p4z  \n",
       "0     -691.382690 -2441.468262  \n",
       "1      227.762146   176.314636  \n",
       "2     -856.263306 -5378.501953  \n",
       "3     -368.907440 -4679.935547  \n",
       "4     -687.828308 -4513.075684  \n",
       "...           ...          ...  \n",
       "99995 -580.161194 -2247.903809  \n",
       "99996 -241.022064 -1917.600342  \n",
       "99997  -50.176453 -4282.970215  \n",
       "99998 -861.325989 -3197.433105  \n",
       "99999 -293.971527 -3776.344238  \n",
       "\n",
       "[100000 rows x 20 columns]"
      ]
     },
     "execution_count": 894,
     "metadata": {},
     "output_type": "execute_result"
    }
   ],
   "source": [
    "data_gen"
   ]
  },
  {
   "cell_type": "code",
   "execution_count": 895,
   "id": "ad77170a",
   "metadata": {},
   "outputs": [
    {
     "name": "stderr",
     "output_type": "stream",
     "text": [
      "/home/valdo/.local/share/virtualenvs/tradegan-zjtqzHfP/lib/python3.8/site-packages/pandas/core/arraylike.py:364: RuntimeWarning: invalid value encountered in sqrt\n",
      "  result = getattr(ufunc, method)(*inputs, **kwargs)\n"
     ]
    }
   ],
   "source": [
    "m_gen = get_m_values(data_gen)"
   ]
  },
  {
   "cell_type": "code",
   "execution_count": 896,
   "id": "7877bf8d",
   "metadata": {},
   "outputs": [
    {
     "data": {
      "image/png": "[encoded data removed]",
      "text/plain": [
       "<Figure size 1224x576 with 1 Axes>"
      ]
     },
     "metadata": {
      "needs_background": "light"
     },
     "output_type": "display_data"
    }
   ],
   "source": [
    "plt.figure(figsize=(17, 8))\n",
    "plt.hist(m_real, bins=100, histtype='step', linewidth=2, fill=False, label=\"True\")\n",
    "plt.hist(m_gen, bins=100, histtype='step', linewidth=2, fill=False, label=\"Gen\")\n",
    "plt.legend()\n",
    "plt.show()"
   ]
  },
  {
   "cell_type": "code",
   "execution_count": 897,
   "id": "cb5a9241",
   "metadata": {},
   "outputs": [
    {
     "data": {
      "text/plain": [
       "0       NaN\n",
       "1       NaN\n",
       "2       NaN\n",
       "3       NaN\n",
       "4       NaN\n",
       "         ..\n",
       "99995   NaN\n",
       "99996   NaN\n",
       "99997   NaN\n",
       "99998   NaN\n",
       "99999   NaN\n",
       "Length: 100000, dtype: float64"
      ]
     },
     "execution_count": 897,
     "metadata": {},
     "output_type": "execute_result"
    }
   ],
   "source": [
    "m_gen"
   ]
  },
  {
   "cell_type": "code",
   "execution_count": null,
   "id": "02b2f9c7",
   "metadata": {},
   "outputs": [],
   "source": []
  }
 ],
 "metadata": {
  "hide_input": false,
  "kernelspec": {
   "display_name": "Python 3 (ipykernel)",
   "language": "python",
   "name": "python3"
  },
  "language_info": {
   "codemirror_mode": {
    "name": "ipython",
    "version": 3
   },
   "file_extension": ".py",
   "mimetype": "text/x-python",
   "name": "python",
   "nbconvert_exporter": "python",
   "pygments_lexer": "ipython3",
   "version": "3.8.10"
  },
  "varInspector": {
   "cols": {
    "lenName": 16,
    "lenType": 16,
    "lenVar": 40
   },
   "kernels_config": {
    "python": {
     "delete_cmd_postfix": "",
     "delete_cmd_prefix": "del ",
     "library": "var_list.py",
     "varRefreshCmd": "print(var_dic_list())"
    },
    "r": {
     "delete_cmd_postfix": ") ",
     "delete_cmd_prefix": "rm(",
     "library": "var_list.r",
     "varRefreshCmd": "cat(var_dic_list()) "
    }
   },
   "types_to_exclude": [
    "module",
    "function",
    "builtin_function_or_method",
    "instance",
    "_Feature"
   ],
   "window_display": false
  }
 },
 "nbformat": 4,
 "nbformat_minor": 5
}
