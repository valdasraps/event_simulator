{
 "cells": [
  {
   "cell_type": "code",
   "execution_count": 46,
   "id": "afd63094-bbae-49d3-a73c-a00dba5e81d7",
   "metadata": {},
   "outputs": [],
   "source": [
    "import numpy as np\n",
    "import pandas as pd\n",
    "import itertools\n",
    "\n",
    "import matplotlib.pyplot as plt"
   ]
  },
  {
   "cell_type": "markdown",
   "id": "5283909b-aee4-4b01-b5c6-dff3d391ffe0",
   "metadata": {},
   "source": [
    "# Training dataset"
   ]
  },
  {
   "cell_type": "code",
   "execution_count": 47,
   "id": "0cfc1d0c-978f-4725-a2bb-c99eaea31e29",
   "metadata": {},
   "outputs": [],
   "source": [
    "df = pd.read_csv('../../data/pp_4l_all.csv')\n",
    "cols_cont = [\n",
    "    'E1', 'p1x', 'p1y', 'p1z', \n",
    "    'E2', 'p2x', 'p2y', 'p2z',\n",
    "    'E3', 'p3x', 'p3y', 'p3z',\n",
    "    'E4', 'p4x', 'p4y', 'p4z', \n",
    "]\n",
    "cols_cat = ['pdg1', 'pdg2', 'pdg3', 'pdg4']\n",
    "\n",
    "df['schema'] = df[cols_cat].groupby(by=cols_cat).ngroup().values"
   ]
  },
  {
   "cell_type": "code",
   "execution_count": 48,
   "id": "a41a7ff4-6246-4a1d-bb6c-167bb22dffa7",
   "metadata": {},
   "outputs": [
    {
     "data": {
      "text/html": [
       "<div>\n",
       "<style scoped>\n",
       "    .dataframe tbody tr th:only-of-type {\n",
       "        vertical-align: middle;\n",
       "    }\n",
       "\n",
       "    .dataframe tbody tr th {\n",
       "        vertical-align: top;\n",
       "    }\n",
       "\n",
       "    .dataframe thead th {\n",
       "        text-align: right;\n",
       "    }\n",
       "</style>\n",
       "<table border=\"1\" class=\"dataframe\">\n",
       "  <thead>\n",
       "    <tr style=\"text-align: right;\">\n",
       "      <th></th>\n",
       "      <th>pdg1</th>\n",
       "      <th>E1</th>\n",
       "      <th>p1x</th>\n",
       "      <th>p1y</th>\n",
       "      <th>p1z</th>\n",
       "      <th>pdg2</th>\n",
       "      <th>E2</th>\n",
       "      <th>p2x</th>\n",
       "      <th>p2y</th>\n",
       "      <th>p2z</th>\n",
       "      <th>...</th>\n",
       "      <th>E3</th>\n",
       "      <th>p3x</th>\n",
       "      <th>p3y</th>\n",
       "      <th>p3z</th>\n",
       "      <th>pdg4</th>\n",
       "      <th>E4</th>\n",
       "      <th>p4x</th>\n",
       "      <th>p4y</th>\n",
       "      <th>p4z</th>\n",
       "      <th>schema</th>\n",
       "    </tr>\n",
       "  </thead>\n",
       "  <tbody>\n",
       "    <tr>\n",
       "      <th>0</th>\n",
       "      <td>11</td>\n",
       "      <td>20.274241</td>\n",
       "      <td>13.753708</td>\n",
       "      <td>1.397849</td>\n",
       "      <td>14.829915</td>\n",
       "      <td>-11</td>\n",
       "      <td>13.459523</td>\n",
       "      <td>-13.458053</td>\n",
       "      <td>-0.178631</td>\n",
       "      <td>0.087476</td>\n",
       "      <td>...</td>\n",
       "      <td>10.726935</td>\n",
       "      <td>1.457106</td>\n",
       "      <td>-9.715445</td>\n",
       "      <td>-4.306151</td>\n",
       "      <td>-13</td>\n",
       "      <td>19.941356</td>\n",
       "      <td>-1.752761</td>\n",
       "      <td>8.496227</td>\n",
       "      <td>17.955180</td>\n",
       "      <td>1</td>\n",
       "    </tr>\n",
       "    <tr>\n",
       "      <th>1</th>\n",
       "      <td>13</td>\n",
       "      <td>152.820099</td>\n",
       "      <td>63.584427</td>\n",
       "      <td>18.996694</td>\n",
       "      <td>-137.659427</td>\n",
       "      <td>-13</td>\n",
       "      <td>164.917905</td>\n",
       "      <td>4.471840</td>\n",
       "      <td>31.646155</td>\n",
       "      <td>-161.791309</td>\n",
       "      <td>...</td>\n",
       "      <td>137.529487</td>\n",
       "      <td>-39.586901</td>\n",
       "      <td>-44.338982</td>\n",
       "      <td>-124.021291</td>\n",
       "      <td>-13</td>\n",
       "      <td>39.559938</td>\n",
       "      <td>-28.469366</td>\n",
       "      <td>-6.303867</td>\n",
       "      <td>-26.734509</td>\n",
       "      <td>2</td>\n",
       "    </tr>\n",
       "    <tr>\n",
       "      <th>2</th>\n",
       "      <td>11</td>\n",
       "      <td>51.267102</td>\n",
       "      <td>27.995380</td>\n",
       "      <td>26.039697</td>\n",
       "      <td>34.154190</td>\n",
       "      <td>-11</td>\n",
       "      <td>43.013595</td>\n",
       "      <td>-7.827488</td>\n",
       "      <td>-17.337374</td>\n",
       "      <td>-38.578689</td>\n",
       "      <td>...</td>\n",
       "      <td>123.210062</td>\n",
       "      <td>0.378806</td>\n",
       "      <td>-41.833551</td>\n",
       "      <td>115.890116</td>\n",
       "      <td>-13</td>\n",
       "      <td>46.883635</td>\n",
       "      <td>-20.546697</td>\n",
       "      <td>33.131228</td>\n",
       "      <td>26.042638</td>\n",
       "      <td>1</td>\n",
       "    </tr>\n",
       "    <tr>\n",
       "      <th>3</th>\n",
       "      <td>13</td>\n",
       "      <td>64.805282</td>\n",
       "      <td>-3.653628</td>\n",
       "      <td>46.355274</td>\n",
       "      <td>45.139262</td>\n",
       "      <td>-13</td>\n",
       "      <td>38.158727</td>\n",
       "      <td>-29.094263</td>\n",
       "      <td>-15.298609</td>\n",
       "      <td>-19.379208</td>\n",
       "      <td>...</td>\n",
       "      <td>57.805237</td>\n",
       "      <td>34.629435</td>\n",
       "      <td>10.578369</td>\n",
       "      <td>45.059234</td>\n",
       "      <td>-13</td>\n",
       "      <td>42.993259</td>\n",
       "      <td>-1.881544</td>\n",
       "      <td>-41.635034</td>\n",
       "      <td>10.554281</td>\n",
       "      <td>2</td>\n",
       "    </tr>\n",
       "    <tr>\n",
       "      <th>4</th>\n",
       "      <td>13</td>\n",
       "      <td>25.501529</td>\n",
       "      <td>17.607195</td>\n",
       "      <td>-7.617831</td>\n",
       "      <td>-16.800957</td>\n",
       "      <td>-13</td>\n",
       "      <td>22.270427</td>\n",
       "      <td>3.366801</td>\n",
       "      <td>16.786119</td>\n",
       "      <td>-14.242599</td>\n",
       "      <td>...</td>\n",
       "      <td>36.269401</td>\n",
       "      <td>-21.935459</td>\n",
       "      <td>13.187325</td>\n",
       "      <td>-25.698023</td>\n",
       "      <td>-13</td>\n",
       "      <td>47.012227</td>\n",
       "      <td>0.961463</td>\n",
       "      <td>-22.355613</td>\n",
       "      <td>-41.345380</td>\n",
       "      <td>2</td>\n",
       "    </tr>\n",
       "  </tbody>\n",
       "</table>\n",
       "<p>5 rows × 21 columns</p>\n",
       "</div>"
      ],
      "text/plain": [
       "   pdg1          E1        p1x        p1y         p1z  pdg2          E2  \\\n",
       "0    11   20.274241  13.753708   1.397849   14.829915   -11   13.459523   \n",
       "1    13  152.820099  63.584427  18.996694 -137.659427   -13  164.917905   \n",
       "2    11   51.267102  27.995380  26.039697   34.154190   -11   43.013595   \n",
       "3    13   64.805282  -3.653628  46.355274   45.139262   -13   38.158727   \n",
       "4    13   25.501529  17.607195  -7.617831  -16.800957   -13   22.270427   \n",
       "\n",
       "         p2x        p2y         p2z  ...          E3        p3x        p3y  \\\n",
       "0 -13.458053  -0.178631    0.087476  ...   10.726935   1.457106  -9.715445   \n",
       "1   4.471840  31.646155 -161.791309  ...  137.529487 -39.586901 -44.338982   \n",
       "2  -7.827488 -17.337374  -38.578689  ...  123.210062   0.378806 -41.833551   \n",
       "3 -29.094263 -15.298609  -19.379208  ...   57.805237  34.629435  10.578369   \n",
       "4   3.366801  16.786119  -14.242599  ...   36.269401 -21.935459  13.187325   \n",
       "\n",
       "          p3z  pdg4         E4        p4x        p4y        p4z  schema  \n",
       "0   -4.306151   -13  19.941356  -1.752761   8.496227  17.955180       1  \n",
       "1 -124.021291   -13  39.559938 -28.469366  -6.303867 -26.734509       2  \n",
       "2  115.890116   -13  46.883635 -20.546697  33.131228  26.042638       1  \n",
       "3   45.059234   -13  42.993259  -1.881544 -41.635034  10.554281       2  \n",
       "4  -25.698023   -13  47.012227   0.961463 -22.355613 -41.345380       2  \n",
       "\n",
       "[5 rows x 21 columns]"
      ]
     },
     "execution_count": 48,
     "metadata": {},
     "output_type": "execute_result"
    }
   ],
   "source": [
    "df.head()"
   ]
  },
  {
   "cell_type": "code",
   "execution_count": 49,
   "id": "dcd5097f-2fe4-4d07-91f1-a263574bc1f1",
   "metadata": {},
   "outputs": [
    {
     "data": {
      "text/plain": [
       "Index(['pdg1', 'E1', 'p1x', 'p1y', 'p1z', 'pdg2', 'E2', 'p2x', 'p2y', 'p2z',\n",
       "       'pdg3', 'E3', 'p3x', 'p3y', 'p3z', 'pdg4', 'E4', 'p4x', 'p4y', 'p4z',\n",
       "       'schema'],\n",
       "      dtype='object')"
      ]
     },
     "execution_count": 49,
     "metadata": {},
     "output_type": "execute_result"
    }
   ],
   "source": [
    "df.columns"
   ]
  },
  {
   "cell_type": "code",
   "execution_count": 50,
   "id": "774bad4e-fb47-4f8d-ab08-3c96fe69d9b3",
   "metadata": {},
   "outputs": [
    {
     "data": {
      "text/plain": [
       "[['E1', 'p1x', 'p1y', 'p1z'],\n",
       " ['E2', 'p2x', 'p2y', 'p2z'],\n",
       " ['E3', 'p3x', 'p3y', 'p3z'],\n",
       " ['E4', 'p4x', 'p4y', 'p4z']]"
      ]
     },
     "execution_count": 50,
     "metadata": {},
     "output_type": "execute_result"
    }
   ],
   "source": [
    "schemas = [['E1', 'p1x', 'p1y', 'p1z'], \n",
    "           ['E2', 'p2x', 'p2y', 'p2z'],\n",
    "           ['E3', 'p3x', 'p3y', 'p3z'], \n",
    "           ['E4', 'p4x', 'p4y', 'p4z']]\n",
    "schemas"
   ]
  },
  {
   "cell_type": "code",
   "execution_count": 51,
   "id": "4c590b14-60ba-4484-9257-0388870155dd",
   "metadata": {},
   "outputs": [
    {
     "data": {
      "text/plain": [
       "(480000, 16)"
      ]
     },
     "execution_count": 51,
     "metadata": {},
     "output_type": "execute_result"
    }
   ],
   "source": [
    "data = None\n",
    "for c in itertools.permutations(schemas):\n",
    "    d = df[np.array(c).flatten().tolist()]\n",
    "    data = d if data is None else pd.concat([data, d], axis=0)\n",
    "data.shape"
   ]
  },
  {
   "cell_type": "code",
   "execution_count": 52,
   "id": "1bec3679-1cdf-4ff0-b214-ec0136fc8210",
   "metadata": {},
   "outputs": [],
   "source": [
    "e_sum_sq = np.power(data['E1'] + data['E2'] + data['E3'] + data['E4'], 2)\n",
    "x_sum_sq = np.power(data['p1x'] + data['p2x'] + data['p3x'] + data['p4x'], 2)\n",
    "y_sum_sq = np.power(data['p1y'] + data['p2y'] + data['p3y'] + data['p4y'], 2)\n",
    "z_sum_sq = np.power(data['p1z'] + data['p2z'] + data['p3z'] + data['p4z'], 2)\n",
    "m_values = np.sqrt(e_sum_sq - x_sum_sq - y_sum_sq - z_sum_sq)"
   ]
  },
  {
   "cell_type": "code",
   "execution_count": 53,
   "id": "5c8617c4-22e0-48e9-bd4a-4874937f033a",
   "metadata": {},
   "outputs": [
    {
     "data": {
      "image/png": "[encoded data removed]",
      "text/plain": [
       "<Figure size 1500x300 with 1 Axes>"
      ]
     },
     "metadata": {},
     "output_type": "display_data"
    }
   ],
   "source": [
    "plt.figure(figsize=(15, 3))\n",
    "plt.hist(m_values, bins=100, range=(0, 500), edgecolor='black')\n",
    "plt.show()"
   ]
  },
  {
   "cell_type": "code",
   "execution_count": 54,
   "id": "7facfff6-97fb-4561-9540-7d17c9712eaf",
   "metadata": {},
   "outputs": [],
   "source": [
    "data.to_csv('four_guys.csv', header=None, sep=\" \", index=None)"
   ]
  },
  {
   "cell_type": "markdown",
   "id": "e431d296-ecec-4819-a9c7-0b2481ebcf3f",
   "metadata": {},
   "source": [
    "# Generated dataset"
   ]
  },
  {
   "cell_type": "code",
   "execution_count": 90,
   "id": "bb38ffbc-08e4-46d4-b4cb-a8f9923f3a76",
   "metadata": {},
   "outputs": [],
   "source": [
    "gf = pd.read_csv('four_guys.csv.gen_events.csv', sep=\" \", header=None, names=np.array(schemas).flatten().tolist())"
   ]
  },
  {
   "cell_type": "code",
   "execution_count": 91,
   "id": "eeba7e41-6843-4932-b8e2-3f718e3ac81e",
   "metadata": {},
   "outputs": [
    {
     "data": {
      "text/html": [
       "<div>\n",
       "<style scoped>\n",
       "    .dataframe tbody tr th:only-of-type {\n",
       "        vertical-align: middle;\n",
       "    }\n",
       "\n",
       "    .dataframe tbody tr th {\n",
       "        vertical-align: top;\n",
       "    }\n",
       "\n",
       "    .dataframe thead th {\n",
       "        text-align: right;\n",
       "    }\n",
       "</style>\n",
       "<table border=\"1\" class=\"dataframe\">\n",
       "  <thead>\n",
       "    <tr style=\"text-align: right;\">\n",
       "      <th></th>\n",
       "      <th>E1</th>\n",
       "      <th>p1x</th>\n",
       "      <th>p1y</th>\n",
       "      <th>p1z</th>\n",
       "      <th>E2</th>\n",
       "      <th>p2x</th>\n",
       "      <th>p2y</th>\n",
       "      <th>p2z</th>\n",
       "      <th>E3</th>\n",
       "      <th>p3x</th>\n",
       "      <th>p3y</th>\n",
       "      <th>p3z</th>\n",
       "      <th>E4</th>\n",
       "      <th>p4x</th>\n",
       "      <th>p4y</th>\n",
       "      <th>p4z</th>\n",
       "    </tr>\n",
       "  </thead>\n",
       "  <tbody>\n",
       "    <tr>\n",
       "      <th>0</th>\n",
       "      <td>2288.774170</td>\n",
       "      <td>163.460175</td>\n",
       "      <td>-249.005829</td>\n",
       "      <td>2310.939453</td>\n",
       "      <td>-909.143066</td>\n",
       "      <td>360.060394</td>\n",
       "      <td>328.954163</td>\n",
       "      <td>-108.234482</td>\n",
       "      <td>1213.245483</td>\n",
       "      <td>462.036713</td>\n",
       "      <td>-394.283325</td>\n",
       "      <td>975.623230</td>\n",
       "      <td>1594.863037</td>\n",
       "      <td>-435.930206</td>\n",
       "      <td>391.483978</td>\n",
       "      <td>333.739502</td>\n",
       "    </tr>\n",
       "    <tr>\n",
       "      <th>1</th>\n",
       "      <td>2265.135986</td>\n",
       "      <td>244.320602</td>\n",
       "      <td>-221.848022</td>\n",
       "      <td>2274.907959</td>\n",
       "      <td>-871.771118</td>\n",
       "      <td>349.044128</td>\n",
       "      <td>286.797180</td>\n",
       "      <td>-198.171997</td>\n",
       "      <td>1177.362305</td>\n",
       "      <td>461.742523</td>\n",
       "      <td>-383.017578</td>\n",
       "      <td>1009.342102</td>\n",
       "      <td>1556.925781</td>\n",
       "      <td>-408.621307</td>\n",
       "      <td>385.697357</td>\n",
       "      <td>212.072052</td>\n",
       "    </tr>\n",
       "    <tr>\n",
       "      <th>2</th>\n",
       "      <td>2220.497803</td>\n",
       "      <td>223.279953</td>\n",
       "      <td>-227.180222</td>\n",
       "      <td>2253.924561</td>\n",
       "      <td>-927.623596</td>\n",
       "      <td>341.972321</td>\n",
       "      <td>285.859741</td>\n",
       "      <td>61.912155</td>\n",
       "      <td>1159.608643</td>\n",
       "      <td>463.801178</td>\n",
       "      <td>-391.970428</td>\n",
       "      <td>959.500610</td>\n",
       "      <td>1588.793579</td>\n",
       "      <td>-423.035980</td>\n",
       "      <td>393.115662</td>\n",
       "      <td>68.382683</td>\n",
       "    </tr>\n",
       "    <tr>\n",
       "      <th>3</th>\n",
       "      <td>2308.106445</td>\n",
       "      <td>267.778564</td>\n",
       "      <td>-217.142227</td>\n",
       "      <td>2296.642334</td>\n",
       "      <td>-1126.466675</td>\n",
       "      <td>360.567719</td>\n",
       "      <td>325.286652</td>\n",
       "      <td>-99.672958</td>\n",
       "      <td>1202.511108</td>\n",
       "      <td>465.531494</td>\n",
       "      <td>-394.892426</td>\n",
       "      <td>940.050903</td>\n",
       "      <td>1627.205566</td>\n",
       "      <td>-444.504242</td>\n",
       "      <td>395.392456</td>\n",
       "      <td>197.145721</td>\n",
       "    </tr>\n",
       "    <tr>\n",
       "      <th>4</th>\n",
       "      <td>2227.223633</td>\n",
       "      <td>102.717667</td>\n",
       "      <td>-257.567078</td>\n",
       "      <td>2261.895020</td>\n",
       "      <td>-1026.379150</td>\n",
       "      <td>346.849762</td>\n",
       "      <td>321.757690</td>\n",
       "      <td>109.034836</td>\n",
       "      <td>1180.549316</td>\n",
       "      <td>465.719208</td>\n",
       "      <td>-400.879852</td>\n",
       "      <td>962.369568</td>\n",
       "      <td>1823.203735</td>\n",
       "      <td>-429.373688</td>\n",
       "      <td>395.348358</td>\n",
       "      <td>350.584625</td>\n",
       "    </tr>\n",
       "  </tbody>\n",
       "</table>\n",
       "</div>"
      ],
      "text/plain": [
       "            E1         p1x         p1y          p1z           E2         p2x  \\\n",
       "0  2288.774170  163.460175 -249.005829  2310.939453  -909.143066  360.060394   \n",
       "1  2265.135986  244.320602 -221.848022  2274.907959  -871.771118  349.044128   \n",
       "2  2220.497803  223.279953 -227.180222  2253.924561  -927.623596  341.972321   \n",
       "3  2308.106445  267.778564 -217.142227  2296.642334 -1126.466675  360.567719   \n",
       "4  2227.223633  102.717667 -257.567078  2261.895020 -1026.379150  346.849762   \n",
       "\n",
       "          p2y         p2z           E3         p3x         p3y          p3z  \\\n",
       "0  328.954163 -108.234482  1213.245483  462.036713 -394.283325   975.623230   \n",
       "1  286.797180 -198.171997  1177.362305  461.742523 -383.017578  1009.342102   \n",
       "2  285.859741   61.912155  1159.608643  463.801178 -391.970428   959.500610   \n",
       "3  325.286652  -99.672958  1202.511108  465.531494 -394.892426   940.050903   \n",
       "4  321.757690  109.034836  1180.549316  465.719208 -400.879852   962.369568   \n",
       "\n",
       "            E4         p4x         p4y         p4z  \n",
       "0  1594.863037 -435.930206  391.483978  333.739502  \n",
       "1  1556.925781 -408.621307  385.697357  212.072052  \n",
       "2  1588.793579 -423.035980  393.115662   68.382683  \n",
       "3  1627.205566 -444.504242  395.392456  197.145721  \n",
       "4  1823.203735 -429.373688  395.348358  350.584625  "
      ]
     },
     "execution_count": 91,
     "metadata": {},
     "output_type": "execute_result"
    }
   ],
   "source": [
    "gf.head()"
   ]
  },
  {
   "cell_type": "code",
   "execution_count": 92,
   "id": "e17c4463-6abd-45c8-8388-dff850b28506",
   "metadata": {},
   "outputs": [
    {
     "name": "stderr",
     "output_type": "stream",
     "text": [
      "/home/valdo/.pyenv/versions/3.11.4/envs/event_simulator/lib/python3.11/site-packages/pandas/core/arraylike.py:396: RuntimeWarning: invalid value encountered in sqrt\n",
      "  result = getattr(ufunc, method)(*inputs, **kwargs)\n"
     ]
    }
   ],
   "source": [
    "e_sum_sq_g = np.power(gf['E1'] + gf['E2'] + gf['E3'] + gf['E4'], 2)\n",
    "x_sum_sq_g = np.power(gf['p1x'] + gf['p2x'] + gf['p3x'] + gf['p4x'], 2)\n",
    "y_sum_sq_g = np.power(gf['p1y'] + gf['p2y'] + gf['p3y'] + gf['p4y'], 2)\n",
    "z_sum_sq_g = np.power(gf['p1z'] + gf['p2z'] + gf['p3z'] + gf['p4z'], 2)\n",
    "m_values_g = np.sqrt(e_sum_sq_g - x_sum_sq_g - y_sum_sq_g - z_sum_sq_g)"
   ]
  },
  {
   "cell_type": "code",
   "execution_count": 94,
   "id": "280e21c1-e5a7-4b50-9bf0-363c93a77295",
   "metadata": {},
   "outputs": [
    {
     "data": {
      "image/png": "[encoded data removed]",
      "text/plain": [
       "<Figure size 1500x300 with 1 Axes>"
      ]
     },
     "metadata": {},
     "output_type": "display_data"
    }
   ],
   "source": [
    "plt.figure(figsize=(15, 3))\n",
    "plt.hist([m_values, m_values_g], bins=200, histtype='step', label=['training','generated'])\n",
    "plt.legend()\n",
    "plt.show()"
   ]
  },
  {
   "cell_type": "markdown",
   "id": "d042197a-adbd-4787-903d-bf7b1db9e592",
   "metadata": {},
   "source": [
    "# Training info"
   ]
  },
  {
   "cell_type": "code",
   "execution_count": 83,
   "id": "f833a986-c3d2-45e4-98d8-46247a6e5706",
   "metadata": {},
   "outputs": [
    {
     "data": {
      "text/html": [
       "<div>\n",
       "<style scoped>\n",
       "    .dataframe tbody tr th:only-of-type {\n",
       "        vertical-align: middle;\n",
       "    }\n",
       "\n",
       "    .dataframe tbody tr th {\n",
       "        vertical-align: top;\n",
       "    }\n",
       "\n",
       "    .dataframe thead th {\n",
       "        text-align: right;\n",
       "    }\n",
       "</style>\n",
       "<table border=\"1\" class=\"dataframe\">\n",
       "  <thead>\n",
       "    <tr style=\"text-align: right;\">\n",
       "      <th></th>\n",
       "      <th>epoch</th>\n",
       "      <th>loss</th>\n",
       "      <th>mse</th>\n",
       "      <th>val_loss</th>\n",
       "      <th>val_mse</th>\n",
       "    </tr>\n",
       "  </thead>\n",
       "  <tbody>\n",
       "    <tr>\n",
       "      <th>0</th>\n",
       "      <td>0</td>\n",
       "      <td>0.009341</td>\n",
       "      <td>0.009281</td>\n",
       "      <td>0.000532</td>\n",
       "      <td>0.000449</td>\n",
       "    </tr>\n",
       "    <tr>\n",
       "      <th>1</th>\n",
       "      <td>1</td>\n",
       "      <td>0.000554</td>\n",
       "      <td>0.000470</td>\n",
       "      <td>0.001079</td>\n",
       "      <td>0.000993</td>\n",
       "    </tr>\n",
       "    <tr>\n",
       "      <th>2</th>\n",
       "      <td>2</td>\n",
       "      <td>0.000424</td>\n",
       "      <td>0.000339</td>\n",
       "      <td>0.000203</td>\n",
       "      <td>0.000117</td>\n",
       "    </tr>\n",
       "    <tr>\n",
       "      <th>3</th>\n",
       "      <td>3</td>\n",
       "      <td>0.000375</td>\n",
       "      <td>0.000291</td>\n",
       "      <td>0.000179</td>\n",
       "      <td>0.000094</td>\n",
       "    </tr>\n",
       "    <tr>\n",
       "      <th>4</th>\n",
       "      <td>4</td>\n",
       "      <td>0.000263</td>\n",
       "      <td>0.000177</td>\n",
       "      <td>0.000196</td>\n",
       "      <td>0.000110</td>\n",
       "    </tr>\n",
       "  </tbody>\n",
       "</table>\n",
       "</div>"
      ],
      "text/plain": [
       "   epoch      loss       mse  val_loss   val_mse\n",
       "0      0  0.009341  0.009281  0.000532  0.000449\n",
       "1      1  0.000554  0.000470  0.001079  0.000993\n",
       "2      2  0.000424  0.000339  0.000203  0.000117\n",
       "3      3  0.000375  0.000291  0.000179  0.000094\n",
       "4      4  0.000263  0.000177  0.000196  0.000110"
      ]
     },
     "execution_count": 83,
     "metadata": {},
     "output_type": "execute_result"
    }
   ],
   "source": [
    "vae_log = pd.read_csv('../vae/four_guys.csv.log')\n",
    "vae_log.head()"
   ]
  },
  {
   "cell_type": "code",
   "execution_count": 84,
   "id": "1af343b3-4b74-4752-a892-81092acdacbd",
   "metadata": {},
   "outputs": [
    {
     "data": {
      "text/html": [
       "<div>\n",
       "<style scoped>\n",
       "    .dataframe tbody tr th:only-of-type {\n",
       "        vertical-align: middle;\n",
       "    }\n",
       "\n",
       "    .dataframe tbody tr th {\n",
       "        vertical-align: top;\n",
       "    }\n",
       "\n",
       "    .dataframe thead th {\n",
       "        text-align: right;\n",
       "    }\n",
       "</style>\n",
       "<table border=\"1\" class=\"dataframe\">\n",
       "  <thead>\n",
       "    <tr style=\"text-align: right;\">\n",
       "      <th></th>\n",
       "      <th>epoch</th>\n",
       "      <th>loss</th>\n",
       "      <th>mse</th>\n",
       "      <th>val_loss</th>\n",
       "      <th>val_mse</th>\n",
       "    </tr>\n",
       "  </thead>\n",
       "  <tbody>\n",
       "    <tr>\n",
       "      <th>0</th>\n",
       "      <td>0</td>\n",
       "      <td>0.008839</td>\n",
       "      <td>0.008772</td>\n",
       "      <td>0.000568</td>\n",
       "      <td>0.000482</td>\n",
       "    </tr>\n",
       "    <tr>\n",
       "      <th>1</th>\n",
       "      <td>1</td>\n",
       "      <td>0.000503</td>\n",
       "      <td>0.000419</td>\n",
       "      <td>0.000256</td>\n",
       "      <td>0.000171</td>\n",
       "    </tr>\n",
       "    <tr>\n",
       "      <th>2</th>\n",
       "      <td>2</td>\n",
       "      <td>0.000372</td>\n",
       "      <td>0.000288</td>\n",
       "      <td>0.000242</td>\n",
       "      <td>0.000157</td>\n",
       "    </tr>\n",
       "    <tr>\n",
       "      <th>3</th>\n",
       "      <td>3</td>\n",
       "      <td>0.000316</td>\n",
       "      <td>0.000233</td>\n",
       "      <td>0.000203</td>\n",
       "      <td>0.000118</td>\n",
       "    </tr>\n",
       "    <tr>\n",
       "      <th>4</th>\n",
       "      <td>4</td>\n",
       "      <td>0.000242</td>\n",
       "      <td>0.000158</td>\n",
       "      <td>0.000160</td>\n",
       "      <td>0.000076</td>\n",
       "    </tr>\n",
       "  </tbody>\n",
       "</table>\n",
       "</div>"
      ],
      "text/plain": [
       "   epoch      loss       mse  val_loss   val_mse\n",
       "0      0  0.008839  0.008772  0.000568  0.000482\n",
       "1      1  0.000503  0.000419  0.000256  0.000171\n",
       "2      2  0.000372  0.000288  0.000242  0.000157\n",
       "3      3  0.000316  0.000233  0.000203  0.000118\n",
       "4      4  0.000242  0.000158  0.000160  0.000076"
      ]
     },
     "execution_count": 84,
     "metadata": {},
     "output_type": "execute_result"
    }
   ],
   "source": [
    "aae_log = pd.read_csv('four_guys.csv.vae.log')\n",
    "aae_log.head()"
   ]
  },
  {
   "cell_type": "code",
   "execution_count": 85,
   "id": "9883f372-3722-4eb6-a231-6e586c7ca0a3",
   "metadata": {},
   "outputs": [
    {
     "data": {
      "text/html": [
       "<div>\n",
       "<style scoped>\n",
       "    .dataframe tbody tr th:only-of-type {\n",
       "        vertical-align: middle;\n",
       "    }\n",
       "\n",
       "    .dataframe tbody tr th {\n",
       "        vertical-align: top;\n",
       "    }\n",
       "\n",
       "    .dataframe thead th {\n",
       "        text-align: right;\n",
       "    }\n",
       "</style>\n",
       "<table border=\"1\" class=\"dataframe\">\n",
       "  <thead>\n",
       "    <tr style=\"text-align: right;\">\n",
       "      <th></th>\n",
       "      <th>epoch</th>\n",
       "      <th>loss</th>\n",
       "      <th>val_loss</th>\n",
       "    </tr>\n",
       "  </thead>\n",
       "  <tbody>\n",
       "    <tr>\n",
       "      <th>0</th>\n",
       "      <td>0</td>\n",
       "      <td>0.028703</td>\n",
       "      <td>0.001052</td>\n",
       "    </tr>\n",
       "    <tr>\n",
       "      <th>1</th>\n",
       "      <td>1</td>\n",
       "      <td>0.000703</td>\n",
       "      <td>0.000503</td>\n",
       "    </tr>\n",
       "    <tr>\n",
       "      <th>2</th>\n",
       "      <td>2</td>\n",
       "      <td>0.000381</td>\n",
       "      <td>0.000307</td>\n",
       "    </tr>\n",
       "    <tr>\n",
       "      <th>3</th>\n",
       "      <td>3</td>\n",
       "      <td>0.000241</td>\n",
       "      <td>0.000216</td>\n",
       "    </tr>\n",
       "    <tr>\n",
       "      <th>4</th>\n",
       "      <td>4</td>\n",
       "      <td>0.000172</td>\n",
       "      <td>0.000180</td>\n",
       "    </tr>\n",
       "  </tbody>\n",
       "</table>\n",
       "</div>"
      ],
      "text/plain": [
       "   epoch      loss  val_loss\n",
       "0      0  0.028703  0.001052\n",
       "1      1  0.000703  0.000503\n",
       "2      2  0.000381  0.000307\n",
       "3      3  0.000241  0.000216\n",
       "4      4  0.000172  0.000180"
      ]
     },
     "execution_count": 85,
     "metadata": {},
     "output_type": "execute_result"
    }
   ],
   "source": [
    "disc_log = pd.read_csv('four_guys.csv.disc.log')\n",
    "disc_log.head()"
   ]
  },
  {
   "cell_type": "code",
   "execution_count": 86,
   "id": "f6e1c6bc-1be0-45a0-9fa6-883ead30e4d3",
   "metadata": {},
   "outputs": [
    {
     "data": {
      "text/html": [
       "<div>\n",
       "<style scoped>\n",
       "    .dataframe tbody tr th:only-of-type {\n",
       "        vertical-align: middle;\n",
       "    }\n",
       "\n",
       "    .dataframe tbody tr th {\n",
       "        vertical-align: top;\n",
       "    }\n",
       "\n",
       "    .dataframe thead th {\n",
       "        text-align: right;\n",
       "    }\n",
       "</style>\n",
       "<table border=\"1\" class=\"dataframe\">\n",
       "  <thead>\n",
       "    <tr style=\"text-align: right;\">\n",
       "      <th></th>\n",
       "      <th>epoch</th>\n",
       "      <th>loss</th>\n",
       "      <th>val_loss</th>\n",
       "    </tr>\n",
       "  </thead>\n",
       "  <tbody>\n",
       "    <tr>\n",
       "      <th>0</th>\n",
       "      <td>0</td>\n",
       "      <td>3.971302e-02</td>\n",
       "      <td>1.332826e-12</td>\n",
       "    </tr>\n",
       "    <tr>\n",
       "      <th>1</th>\n",
       "      <td>1</td>\n",
       "      <td>5.979162e-09</td>\n",
       "      <td>1.866705e-15</td>\n",
       "    </tr>\n",
       "    <tr>\n",
       "      <th>2</th>\n",
       "      <td>2</td>\n",
       "      <td>1.425989e-15</td>\n",
       "      <td>1.364651e-14</td>\n",
       "    </tr>\n",
       "    <tr>\n",
       "      <th>3</th>\n",
       "      <td>3</td>\n",
       "      <td>2.647209e-10</td>\n",
       "      <td>8.232053e-16</td>\n",
       "    </tr>\n",
       "    <tr>\n",
       "      <th>4</th>\n",
       "      <td>4</td>\n",
       "      <td>1.471952e-11</td>\n",
       "      <td>7.887398e-14</td>\n",
       "    </tr>\n",
       "  </tbody>\n",
       "</table>\n",
       "</div>"
      ],
      "text/plain": [
       "   epoch          loss      val_loss\n",
       "0      0  3.971302e-02  1.332826e-12\n",
       "1      1  5.979162e-09  1.866705e-15\n",
       "2      2  1.425989e-15  1.364651e-14\n",
       "3      3  2.647209e-10  8.232053e-16\n",
       "4      4  1.471952e-11  7.887398e-14"
      ]
     },
     "execution_count": 86,
     "metadata": {},
     "output_type": "execute_result"
    }
   ],
   "source": [
    "edis_log = pd.read_csv('four_guys.csv.edis.log')\n",
    "edis_log.head()"
   ]
  },
  {
   "cell_type": "code",
   "execution_count": 87,
   "id": "95feba57-2131-4888-8a11-e55a356526c8",
   "metadata": {},
   "outputs": [
    {
     "data": {
      "image/png": "[encoded data removed]",
      "text/plain": [
       "<Figure size 1500x700 with 1 Axes>"
      ]
     },
     "metadata": {},
     "output_type": "display_data"
    }
   ],
   "source": [
    "plt.figure(figsize=(15, 7))\n",
    "plt.plot(vae_log.index, vae_log.val_loss, label='vae_val_loss')\n",
    "#plt.plot(vae_log.index, vae_log.val_mse, label='vae_val_mse')\n",
    "# plt.plot(log.index, log.loss, label='loss')\n",
    "# plt.plot(log.index, log.mse, label='mse')\n",
    "\n",
    "plt.plot(aae_log.index, aae_log.val_loss, label='aae_val_loss')\n",
    "\n",
    "#plt.xlim((200, 400))\n",
    "plt.yscale('log')\n",
    "plt.legend()\n",
    "plt.show()"
   ]
  },
  {
   "cell_type": "code",
   "execution_count": 88,
   "id": "1efdc9c9-7ad8-48b6-a79e-2e08ae7e0a0a",
   "metadata": {},
   "outputs": [
    {
     "data": {
      "image/png": "[encoded data removed]",
      "text/plain": [
       "<Figure size 1500x700 with 1 Axes>"
      ]
     },
     "metadata": {},
     "output_type": "display_data"
    }
   ],
   "source": [
    "plt.figure(figsize=(15, 7))\n",
    "#plt.plot(vae_log.index, vae_log.val_loss, label='vae_val_loss')\n",
    "#plt.plot(vae_log.index, vae_log.val_mse, label='vae_val_mse')\n",
    "# plt.plot(log.index, log.loss, label='loss')\n",
    "# plt.plot(log.index, log.mse, label='mse')\n",
    "\n",
    "# plt.plot(edis_log.index, edis_log.val_loss, label='edis_val_loss')\n",
    "plt.plot(disc_log.index, disc_log.val_loss, label='disc_val_loss')\n",
    "\n",
    "\n",
    "#plt.xlim((200, 400))\n",
    "#plt.yscale('log')\n",
    "plt.legend()\n",
    "plt.show()"
   ]
  },
  {
   "cell_type": "code",
   "execution_count": 89,
   "id": "3a9b6023-8cb9-47dc-9dcd-362668ea1d4b",
   "metadata": {},
   "outputs": [
    {
     "data": {
      "image/png": "[encoded data removed]",
      "text/plain": [
       "<Figure size 1500x700 with 1 Axes>"
      ]
     },
     "metadata": {},
     "output_type": "display_data"
    }
   ],
   "source": [
    "plt.figure(figsize=(15, 7))\n",
    "#plt.plot(vae_log.index, vae_log.val_loss, label='vae_val_loss')\n",
    "#plt.plot(vae_log.index, vae_log.val_mse, label='vae_val_mse')\n",
    "# plt.plot(log.index, log.loss, label='loss')\n",
    "# plt.plot(log.index, log.mse, label='mse')\n",
    "\n",
    "plt.plot(edis_log.index, edis_log.val_loss, label='edis_val_loss')\n",
    "# plt.plot(disc_log.index, disc_log.val_loss, label='disc_val_loss')\n",
    "\n",
    "\n",
    "#plt.xlim((200, 400))\n",
    "plt.yscale('log')\n",
    "plt.legend()\n",
    "plt.show()"
   ]
  },
  {
   "cell_type": "code",
   "execution_count": null,
   "id": "9b3050d2-7bd5-4964-8143-beb19c0a9180",
   "metadata": {},
   "outputs": [],
   "source": []
  }
 ],
 "metadata": {
  "hide_input": false,
  "kernelspec": {
   "display_name": "Python 3 (ipykernel)",
   "language": "python",
   "name": "python3"
  },
  "language_info": {
   "codemirror_mode": {
    "name": "ipython",
    "version": 3
   },
   "file_extension": ".py",
   "mimetype": "text/x-python",
   "name": "python",
   "nbconvert_exporter": "python",
   "pygments_lexer": "ipython3",
   "version": "3.11.4"
  },
  "varInspector": {
   "cols": {
    "lenName": 16,
    "lenType": 16,
    "lenVar": 40
   },
   "kernels_config": {
    "python": {
     "delete_cmd_postfix": "",
     "delete_cmd_prefix": "del ",
     "library": "var_list.py",
     "varRefreshCmd": "print(var_dic_list())"
    },
    "r": {
     "delete_cmd_postfix": ") ",
     "delete_cmd_prefix": "rm(",
     "library": "var_list.r",
     "varRefreshCmd": "cat(var_dic_list()) "
    }
   },
   "types_to_exclude": [
    "module",
    "function",
    "builtin_function_or_method",
    "instance",
    "_Feature"
   ],
   "window_display": false
  },
  "vscode": {
   "interpreter": {
    "hash": "876db32bcdd17dd4862348d8c3433074a8a31c58638b33213fce1000d94889d4"
   }
  }
 },
 "nbformat": 4,
 "nbformat_minor": 5
}
