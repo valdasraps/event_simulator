{
 "cells": [
  {
   "metadata": {},
   "cell_type": "code",
   "outputs": [],
   "execution_count": null,
   "source": [
    "import pandas as pd\n",
    "import numpy as np\n",
    "\n",
    "import open3d as o3d\n",
    "import matplotlib.pyplot as plt\n",
    "from numpy import dtype"
   ],
   "id": "26ee17aa6d8c822d"
  },
  {
   "metadata": {},
   "cell_type": "code",
   "outputs": [],
   "execution_count": null,
   "source": [
    "df = pd.read_csv('pixel_digis.csv')\n",
    "df.shape"
   ],
   "id": "da268178d1f276f2"
  },
  {
   "metadata": {},
   "cell_type": "code",
   "outputs": [],
   "execution_count": null,
   "source": [
    "events = df.event.unique()\n",
    "events.shape"
   ],
   "id": "76249aaff5d9b2dd"
  },
  {
   "metadata": {},
   "cell_type": "code",
   "outputs": [],
   "execution_count": null,
   "source": "df[df.event == events[0]]",
   "id": "479057d1025f96ec"
  },
  {
   "metadata": {},
   "cell_type": "code",
   "outputs": [],
   "execution_count": null,
   "source": [
    "cmap = plt.get_cmap('tab20')  # 20 distinct colors repeated if needed\n",
    "\n",
    "point_cloud = o3d.geometry.PointCloud()\n",
    "points = []\n",
    "colors = []"
   ],
   "id": "511ab9e6b54de15b"
  },
  {
   "metadata": {},
   "cell_type": "code",
   "outputs": [],
   "execution_count": null,
   "source": [
    "events = df.event.unique()[:200]\n",
    "events.shape"
   ],
   "id": "e9459bbbcb2ee006"
  },
  {
   "metadata": {},
   "cell_type": "code",
   "outputs": [],
   "execution_count": null,
   "source": [
    "for idx, event in enumerate(events):\n",
    "    sub_df = df[df.event == event]\n",
    "    pts = sub_df[['global_x', 'global_y', 'global_z']].values\n",
    "    color = cmap(idx % 20)[:3]  # RGB tuple, ignore alpha\n",
    "    color_array = np.tile(color, (pts.shape[0], 1))\n",
    "\n",
    "    points.append(pts)\n",
    "    colors.append(color_array)"
   ],
   "id": "843770aa24bfa66e"
  },
  {
   "metadata": {},
   "cell_type": "code",
   "outputs": [],
   "execution_count": null,
   "source": [
    "# Stack all event points and colors\n",
    "points = np.vstack(points)\n",
    "colors = np.vstack(colors)"
   ],
   "id": "4842459c8de8bb49"
  },
  {
   "metadata": {},
   "cell_type": "code",
   "outputs": [],
   "execution_count": null,
   "source": [
    "# Load into open3d\n",
    "point_cloud.points = o3d.utility.Vector3dVector(points)\n",
    "point_cloud.colors = o3d.utility.Vector3dVector(colors)"
   ],
   "id": "fc7d0d18b76f9782"
  },
  {
   "metadata": {},
   "cell_type": "code",
   "outputs": [],
   "execution_count": null,
   "source": [
    "tolerance = 1e-4\n",
    "\n",
    "x_diffs, y_diffs, z_diffs = np.diff(np.sort(df.global_x.unique())), np.diff(np.sort(df.global_y.unique())), np.diff(np.sort(df.global_z.unique()))\n",
    "min_x, min_y, min_z = np.min(x_diffs[x_diffs > tolerance]), np.min(y_diffs[y_diffs > tolerance]), np.min(z_diffs[z_diffs > tolerance])\n",
    "min_x, min_y, min_z"
   ],
   "id": "b83ea01312a325ff"
  },
  {
   "metadata": {},
   "cell_type": "code",
   "outputs": [],
   "execution_count": null,
   "source": "o3d.visualization.draw_geometries([point_cloud])",
   "id": "a489643c604283bd"
  },
  {
   "metadata": {},
   "cell_type": "code",
   "outputs": [],
   "execution_count": null,
   "source": [
    "voxel_size = 0.0001\n",
    "voxels = point_cloud.voxel_down_sample(voxel_size=voxel_size)"
   ],
   "id": "b5663b381f2597d9"
  },
  {
   "metadata": {},
   "cell_type": "code",
   "outputs": [],
   "execution_count": null,
   "source": "o3d.visualization.draw_geometries([voxels])",
   "id": "8c208d6e60d606cc"
  },
  {
   "metadata": {},
   "cell_type": "code",
   "outputs": [],
   "execution_count": null,
   "source": "np.asarray(point_cloud.points).shape, np.asarray(voxels.points).shape",
   "id": "bbddf84e63290efc"
  },
  {
   "metadata": {},
   "cell_type": "code",
   "outputs": [],
   "execution_count": null,
   "source": [
    "min_bound = point_cloud.get_min_bound()\n",
    "max_bound = point_cloud.get_max_bound()\n",
    "\n",
    "dims = np.ceil((max_bound - min_bound) / voxel_size).astype(int)\n",
    "dims"
   ],
   "id": "6c5c3c86b624de9a"
  },
  {
   "metadata": {},
   "cell_type": "code",
   "outputs": [],
   "execution_count": null,
   "source": "df.groupby('event')['detId'].count().hist(bins=50)",
   "id": "6c6f2a29006259a1"
  },
  {
   "metadata": {},
   "cell_type": "code",
   "outputs": [],
   "execution_count": null,
   "source": "df.groupby('event')['detId'].count().min(), df.groupby('event')['detId'].count().max()",
   "id": "64360eac73ea4154"
  },
  {
   "metadata": {},
   "cell_type": "code",
   "outputs": [],
   "execution_count": null,
   "source": "",
   "id": "22c5c396c1bcc2a3"
  }
 ],
 "metadata": {},
 "nbformat": 5,
 "nbformat_minor": 9
}
