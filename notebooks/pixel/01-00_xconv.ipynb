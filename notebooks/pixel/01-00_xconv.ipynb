{
 "cells": [
  {
   "metadata": {},
   "cell_type": "code",
   "outputs": [],
   "execution_count": null,
   "source": [
    "import pandas as pd\n",
    "import numpy as np\n",
    "\n",
    "import open3d as o3d\n",
    "import matplotlib.pyplot as plt\n",
    "import torch\n",
    "from torch_geometric.nn import XConv\n"
   ],
   "id": "225085a2bff48429"
  },
  {
   "metadata": {},
   "cell_type": "code",
   "outputs": [],
   "execution_count": null,
   "source": [
    "df = pd.read_csv('pixel_digis.csv')\n",
    "df.shape"
   ],
   "id": "c77fe818334ab39d"
  },
  {
   "metadata": {},
   "cell_type": "code",
   "outputs": [],
   "execution_count": null,
   "source": [
    "event_groups = df.groupby(\"event\")\n",
    "len(event_groups)"
   ],
   "id": "fdf1a5cbf9ef1aa8"
  },
  {
   "metadata": {},
   "cell_type": "code",
   "outputs": [],
   "execution_count": null,
   "source": [
    "event_id, group = list(event_groups)[0]\n",
    "event_id, group"
   ],
   "id": "2e7cbe4de908f667"
  },
  {
   "metadata": {},
   "cell_type": "code",
   "outputs": [],
   "execution_count": null,
   "source": [
    "points = torch.tensor(group[['global_x', 'global_y', 'global_z']].values, dtype=torch.float32)  # (N, 3)\n",
    "features = torch.tensor(group[['adc']].values, dtype=torch.float32)"
   ],
   "id": "e48833ab0b7d85aa"
  },
  {
   "metadata": {},
   "cell_type": "code",
   "outputs": [],
   "execution_count": null,
   "source": [
    "# Parameters\n",
    "Cin = 1\n",
    "Cout = 16\n",
    "K = 8\n",
    "hidden_channels = 8\n",
    "N = points.shape[0]\n",
    "\n",
    "# Batch vector: all zeros (since batch size = 1)\n",
    "batch = torch.zeros(N, dtype=torch.long)  # (N,)\n",
    "\n",
    "# Define XConv layer\n",
    "xconv = XConv(in_channels=Cin, out_channels=Cout, dim=3,\n",
    "              kernel_size=K, hidden_channels=hidden_channels)\n",
    "\n",
    "# Apply convolution\n",
    "out = xconv(x=features, pos=points, batch=batch)  # (N, Cout)\n",
    "\n",
    "print(\"Output shape:\", out.shape)"
   ],
   "id": "9473d7dcbca3cd3e"
  },
  {
   "metadata": {},
   "cell_type": "code",
   "outputs": [],
   "execution_count": null,
   "source": "print(torch.__version__)",
   "id": "ebf4bfd3164c99b"
  },
  {
   "metadata": {},
   "cell_type": "code",
   "outputs": [],
   "execution_count": null,
   "source": "",
   "id": "d4cceda93934c404"
  }
 ],
 "metadata": {},
 "nbformat": 5,
 "nbformat_minor": 9
}
