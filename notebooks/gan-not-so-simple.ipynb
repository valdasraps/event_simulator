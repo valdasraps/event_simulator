{
 "cells": [
  {
   "cell_type": "code",
   "execution_count": 3,
   "id": "f18a541e",
   "metadata": {},
   "outputs": [],
   "source": [
    "import os\n",
    "os.environ['TF_CPP_MIN_LOG_LEVEL'] = '3'\n",
    "\n",
    "import itertools\n",
    "import numpy as np\n",
    "import pandas as pd\n",
    "from tqdm.notebook import tqdm\n",
    "\n",
    "import matplotlib.pyplot as plt\n",
    "%matplotlib inline\n",
    "\n",
    "import keras\n",
    "from keras.layers import Dense, Dropout, Input, Concatenate\n",
    "from keras.models import Model, Sequential\n",
    "from sklearn.preprocessing import MinMaxScaler, OneHotEncoder\n",
    "from keras.layers.advanced_activations import LeakyReLU"
   ]
  },
  {
   "cell_type": "markdown",
   "id": "5453632e",
   "metadata": {},
   "source": [
    "# Data prep"
   ]
  },
  {
   "cell_type": "code",
   "execution_count": 16,
   "id": "16c63ae9",
   "metadata": {},
   "outputs": [
    {
     "data": {
      "text/html": [
       "<div>\n",
       "<style scoped>\n",
       "    .dataframe tbody tr th:only-of-type {\n",
       "        vertical-align: middle;\n",
       "    }\n",
       "\n",
       "    .dataframe tbody tr th {\n",
       "        vertical-align: top;\n",
       "    }\n",
       "\n",
       "    .dataframe thead th {\n",
       "        text-align: right;\n",
       "    }\n",
       "</style>\n",
       "<table border=\"1\" class=\"dataframe\">\n",
       "  <thead>\n",
       "    <tr style=\"text-align: right;\">\n",
       "      <th></th>\n",
       "      <th>pdg1</th>\n",
       "      <th>E1</th>\n",
       "      <th>p1x</th>\n",
       "      <th>p1y</th>\n",
       "      <th>p1z</th>\n",
       "      <th>pdg2</th>\n",
       "      <th>E2</th>\n",
       "      <th>p2x</th>\n",
       "      <th>p2y</th>\n",
       "      <th>p2z</th>\n",
       "      <th>pdg3</th>\n",
       "      <th>E3</th>\n",
       "      <th>p3x</th>\n",
       "      <th>p3y</th>\n",
       "      <th>p3z</th>\n",
       "      <th>pdg4</th>\n",
       "      <th>E4</th>\n",
       "      <th>p4x</th>\n",
       "      <th>p4y</th>\n",
       "      <th>p4z</th>\n",
       "    </tr>\n",
       "  </thead>\n",
       "  <tbody>\n",
       "    <tr>\n",
       "      <th>0</th>\n",
       "      <td>11</td>\n",
       "      <td>20.274241</td>\n",
       "      <td>13.753708</td>\n",
       "      <td>1.397849</td>\n",
       "      <td>14.829915</td>\n",
       "      <td>-11</td>\n",
       "      <td>13.459523</td>\n",
       "      <td>-13.458053</td>\n",
       "      <td>-0.178631</td>\n",
       "      <td>0.087476</td>\n",
       "      <td>13</td>\n",
       "      <td>10.726935</td>\n",
       "      <td>1.457106</td>\n",
       "      <td>-9.715445</td>\n",
       "      <td>-4.306151</td>\n",
       "      <td>-13</td>\n",
       "      <td>19.941356</td>\n",
       "      <td>-1.752761</td>\n",
       "      <td>8.496227</td>\n",
       "      <td>17.955180</td>\n",
       "    </tr>\n",
       "    <tr>\n",
       "      <th>1</th>\n",
       "      <td>13</td>\n",
       "      <td>152.820099</td>\n",
       "      <td>63.584427</td>\n",
       "      <td>18.996694</td>\n",
       "      <td>-137.659427</td>\n",
       "      <td>-13</td>\n",
       "      <td>164.917905</td>\n",
       "      <td>4.471840</td>\n",
       "      <td>31.646155</td>\n",
       "      <td>-161.791309</td>\n",
       "      <td>13</td>\n",
       "      <td>137.529487</td>\n",
       "      <td>-39.586901</td>\n",
       "      <td>-44.338982</td>\n",
       "      <td>-124.021291</td>\n",
       "      <td>-13</td>\n",
       "      <td>39.559938</td>\n",
       "      <td>-28.469366</td>\n",
       "      <td>-6.303867</td>\n",
       "      <td>-26.734509</td>\n",
       "    </tr>\n",
       "    <tr>\n",
       "      <th>2</th>\n",
       "      <td>11</td>\n",
       "      <td>51.267102</td>\n",
       "      <td>27.995380</td>\n",
       "      <td>26.039697</td>\n",
       "      <td>34.154190</td>\n",
       "      <td>-11</td>\n",
       "      <td>43.013595</td>\n",
       "      <td>-7.827488</td>\n",
       "      <td>-17.337374</td>\n",
       "      <td>-38.578689</td>\n",
       "      <td>13</td>\n",
       "      <td>123.210062</td>\n",
       "      <td>0.378806</td>\n",
       "      <td>-41.833551</td>\n",
       "      <td>115.890116</td>\n",
       "      <td>-13</td>\n",
       "      <td>46.883635</td>\n",
       "      <td>-20.546697</td>\n",
       "      <td>33.131228</td>\n",
       "      <td>26.042638</td>\n",
       "    </tr>\n",
       "    <tr>\n",
       "      <th>3</th>\n",
       "      <td>13</td>\n",
       "      <td>64.805282</td>\n",
       "      <td>-3.653628</td>\n",
       "      <td>46.355274</td>\n",
       "      <td>45.139262</td>\n",
       "      <td>-13</td>\n",
       "      <td>38.158727</td>\n",
       "      <td>-29.094263</td>\n",
       "      <td>-15.298609</td>\n",
       "      <td>-19.379208</td>\n",
       "      <td>13</td>\n",
       "      <td>57.805237</td>\n",
       "      <td>34.629435</td>\n",
       "      <td>10.578369</td>\n",
       "      <td>45.059234</td>\n",
       "      <td>-13</td>\n",
       "      <td>42.993259</td>\n",
       "      <td>-1.881544</td>\n",
       "      <td>-41.635034</td>\n",
       "      <td>10.554281</td>\n",
       "    </tr>\n",
       "    <tr>\n",
       "      <th>4</th>\n",
       "      <td>13</td>\n",
       "      <td>25.501529</td>\n",
       "      <td>17.607195</td>\n",
       "      <td>-7.617831</td>\n",
       "      <td>-16.800957</td>\n",
       "      <td>-13</td>\n",
       "      <td>22.270427</td>\n",
       "      <td>3.366801</td>\n",
       "      <td>16.786119</td>\n",
       "      <td>-14.242599</td>\n",
       "      <td>13</td>\n",
       "      <td>36.269401</td>\n",
       "      <td>-21.935459</td>\n",
       "      <td>13.187325</td>\n",
       "      <td>-25.698023</td>\n",
       "      <td>-13</td>\n",
       "      <td>47.012227</td>\n",
       "      <td>0.961463</td>\n",
       "      <td>-22.355613</td>\n",
       "      <td>-41.345380</td>\n",
       "    </tr>\n",
       "    <tr>\n",
       "      <th>...</th>\n",
       "      <td>...</td>\n",
       "      <td>...</td>\n",
       "      <td>...</td>\n",
       "      <td>...</td>\n",
       "      <td>...</td>\n",
       "      <td>...</td>\n",
       "      <td>...</td>\n",
       "      <td>...</td>\n",
       "      <td>...</td>\n",
       "      <td>...</td>\n",
       "      <td>...</td>\n",
       "      <td>...</td>\n",
       "      <td>...</td>\n",
       "      <td>...</td>\n",
       "      <td>...</td>\n",
       "      <td>...</td>\n",
       "      <td>...</td>\n",
       "      <td>...</td>\n",
       "      <td>...</td>\n",
       "      <td>...</td>\n",
       "    </tr>\n",
       "    <tr>\n",
       "      <th>19995</th>\n",
       "      <td>13</td>\n",
       "      <td>104.780662</td>\n",
       "      <td>42.444194</td>\n",
       "      <td>-70.801849</td>\n",
       "      <td>64.533437</td>\n",
       "      <td>-13</td>\n",
       "      <td>40.669899</td>\n",
       "      <td>15.498023</td>\n",
       "      <td>29.488293</td>\n",
       "      <td>23.329839</td>\n",
       "      <td>13</td>\n",
       "      <td>70.717828</td>\n",
       "      <td>-10.422217</td>\n",
       "      <td>-15.453176</td>\n",
       "      <td>68.217130</td>\n",
       "      <td>-13</td>\n",
       "      <td>76.806457</td>\n",
       "      <td>-47.520000</td>\n",
       "      <td>56.766732</td>\n",
       "      <td>20.459923</td>\n",
       "    </tr>\n",
       "    <tr>\n",
       "      <th>19996</th>\n",
       "      <td>11</td>\n",
       "      <td>41.767784</td>\n",
       "      <td>24.968553</td>\n",
       "      <td>-8.233132</td>\n",
       "      <td>32.455118</td>\n",
       "      <td>-11</td>\n",
       "      <td>70.293006</td>\n",
       "      <td>-59.382010</td>\n",
       "      <td>26.894480</td>\n",
       "      <td>26.297730</td>\n",
       "      <td>13</td>\n",
       "      <td>13.512633</td>\n",
       "      <td>5.146302</td>\n",
       "      <td>-11.949588</td>\n",
       "      <td>-3.647330</td>\n",
       "      <td>-13</td>\n",
       "      <td>35.067493</td>\n",
       "      <td>29.267155</td>\n",
       "      <td>-6.711760</td>\n",
       "      <td>18.113636</td>\n",
       "    </tr>\n",
       "    <tr>\n",
       "      <th>19997</th>\n",
       "      <td>13</td>\n",
       "      <td>165.372773</td>\n",
       "      <td>42.569775</td>\n",
       "      <td>-26.508450</td>\n",
       "      <td>-157.585720</td>\n",
       "      <td>-13</td>\n",
       "      <td>129.240829</td>\n",
       "      <td>-42.380560</td>\n",
       "      <td>7.956206</td>\n",
       "      <td>-121.835002</td>\n",
       "      <td>13</td>\n",
       "      <td>110.152618</td>\n",
       "      <td>-40.177549</td>\n",
       "      <td>23.109741</td>\n",
       "      <td>99.926436</td>\n",
       "      <td>-13</td>\n",
       "      <td>49.993973</td>\n",
       "      <td>39.988334</td>\n",
       "      <td>-4.557497</td>\n",
       "      <td>29.657184</td>\n",
       "    </tr>\n",
       "    <tr>\n",
       "      <th>19998</th>\n",
       "      <td>11</td>\n",
       "      <td>30.643742</td>\n",
       "      <td>9.530088</td>\n",
       "      <td>-16.555072</td>\n",
       "      <td>-23.961342</td>\n",
       "      <td>-11</td>\n",
       "      <td>32.651847</td>\n",
       "      <td>8.507474</td>\n",
       "      <td>-6.286373</td>\n",
       "      <td>-30.890897</td>\n",
       "      <td>13</td>\n",
       "      <td>123.211921</td>\n",
       "      <td>-19.275757</td>\n",
       "      <td>37.041656</td>\n",
       "      <td>-115.920349</td>\n",
       "      <td>-13</td>\n",
       "      <td>36.569459</td>\n",
       "      <td>1.238196</td>\n",
       "      <td>-14.200210</td>\n",
       "      <td>-33.676921</td>\n",
       "    </tr>\n",
       "    <tr>\n",
       "      <th>19999</th>\n",
       "      <td>13</td>\n",
       "      <td>20.448927</td>\n",
       "      <td>-2.483780</td>\n",
       "      <td>16.007953</td>\n",
       "      <td>12.478932</td>\n",
       "      <td>-13</td>\n",
       "      <td>121.154128</td>\n",
       "      <td>-38.547925</td>\n",
       "      <td>-13.199683</td>\n",
       "      <td>-114.097053</td>\n",
       "      <td>13</td>\n",
       "      <td>91.635037</td>\n",
       "      <td>39.677190</td>\n",
       "      <td>35.427284</td>\n",
       "      <td>-74.616332</td>\n",
       "      <td>-13</td>\n",
       "      <td>135.987185</td>\n",
       "      <td>1.354514</td>\n",
       "      <td>-38.235554</td>\n",
       "      <td>-130.494103</td>\n",
       "    </tr>\n",
       "  </tbody>\n",
       "</table>\n",
       "<p>20000 rows × 20 columns</p>\n",
       "</div>"
      ],
      "text/plain": [
       "       pdg1          E1        p1x        p1y         p1z  pdg2          E2  \\\n",
       "0        11   20.274241  13.753708   1.397849   14.829915   -11   13.459523   \n",
       "1        13  152.820099  63.584427  18.996694 -137.659427   -13  164.917905   \n",
       "2        11   51.267102  27.995380  26.039697   34.154190   -11   43.013595   \n",
       "3        13   64.805282  -3.653628  46.355274   45.139262   -13   38.158727   \n",
       "4        13   25.501529  17.607195  -7.617831  -16.800957   -13   22.270427   \n",
       "...     ...         ...        ...        ...         ...   ...         ...   \n",
       "19995    13  104.780662  42.444194 -70.801849   64.533437   -13   40.669899   \n",
       "19996    11   41.767784  24.968553  -8.233132   32.455118   -11   70.293006   \n",
       "19997    13  165.372773  42.569775 -26.508450 -157.585720   -13  129.240829   \n",
       "19998    11   30.643742   9.530088 -16.555072  -23.961342   -11   32.651847   \n",
       "19999    13   20.448927  -2.483780  16.007953   12.478932   -13  121.154128   \n",
       "\n",
       "             p2x        p2y         p2z  pdg3          E3        p3x  \\\n",
       "0     -13.458053  -0.178631    0.087476    13   10.726935   1.457106   \n",
       "1       4.471840  31.646155 -161.791309    13  137.529487 -39.586901   \n",
       "2      -7.827488 -17.337374  -38.578689    13  123.210062   0.378806   \n",
       "3     -29.094263 -15.298609  -19.379208    13   57.805237  34.629435   \n",
       "4       3.366801  16.786119  -14.242599    13   36.269401 -21.935459   \n",
       "...          ...        ...         ...   ...         ...        ...   \n",
       "19995  15.498023  29.488293   23.329839    13   70.717828 -10.422217   \n",
       "19996 -59.382010  26.894480   26.297730    13   13.512633   5.146302   \n",
       "19997 -42.380560   7.956206 -121.835002    13  110.152618 -40.177549   \n",
       "19998   8.507474  -6.286373  -30.890897    13  123.211921 -19.275757   \n",
       "19999 -38.547925 -13.199683 -114.097053    13   91.635037  39.677190   \n",
       "\n",
       "             p3y         p3z  pdg4          E4        p4x        p4y  \\\n",
       "0      -9.715445   -4.306151   -13   19.941356  -1.752761   8.496227   \n",
       "1     -44.338982 -124.021291   -13   39.559938 -28.469366  -6.303867   \n",
       "2     -41.833551  115.890116   -13   46.883635 -20.546697  33.131228   \n",
       "3      10.578369   45.059234   -13   42.993259  -1.881544 -41.635034   \n",
       "4      13.187325  -25.698023   -13   47.012227   0.961463 -22.355613   \n",
       "...          ...         ...   ...         ...        ...        ...   \n",
       "19995 -15.453176   68.217130   -13   76.806457 -47.520000  56.766732   \n",
       "19996 -11.949588   -3.647330   -13   35.067493  29.267155  -6.711760   \n",
       "19997  23.109741   99.926436   -13   49.993973  39.988334  -4.557497   \n",
       "19998  37.041656 -115.920349   -13   36.569459   1.238196 -14.200210   \n",
       "19999  35.427284  -74.616332   -13  135.987185   1.354514 -38.235554   \n",
       "\n",
       "              p4z  \n",
       "0       17.955180  \n",
       "1      -26.734509  \n",
       "2       26.042638  \n",
       "3       10.554281  \n",
       "4      -41.345380  \n",
       "...           ...  \n",
       "19995   20.459923  \n",
       "19996   18.113636  \n",
       "19997   29.657184  \n",
       "19998  -33.676921  \n",
       "19999 -130.494103  \n",
       "\n",
       "[20000 rows x 20 columns]"
      ]
     },
     "execution_count": 16,
     "metadata": {},
     "output_type": "execute_result"
    }
   ],
   "source": [
    "data_raw = pd.read_csv('../data/pp_4l_all.csv')\n",
    "data_raw"
   ]
  },
  {
   "cell_type": "code",
   "execution_count": 17,
   "id": "dbf39968",
   "metadata": {},
   "outputs": [],
   "source": [
    "particles = (\n",
    "    ['pdg1', 'E1', 'p1x', 'p1y', 'p1z'],\n",
    "    ['pdg2', 'E2', 'p2x', 'p2y', 'p2z'],\n",
    "    ['pdg3', 'E3', 'p3x', 'p3y', 'p3z'], \n",
    "    ['pdg4', 'E4', 'p4x', 'p4y', 'p4z']\n",
    ")"
   ]
  },
  {
   "cell_type": "code",
   "execution_count": 18,
   "id": "f50cd8d7",
   "metadata": {},
   "outputs": [
    {
     "data": {
      "text/plain": [
       "(80000, 5)"
      ]
     },
     "execution_count": 18,
     "metadata": {},
     "output_type": "execute_result"
    }
   ],
   "source": [
    "data_stack = None\n",
    "for i in range(4):\n",
    "    d = data_raw.values[:, 5*i:5*i+5]\n",
    "    data_stack = d if data_stack is None else np.append(data_stack, d, axis = 0)\n",
    "data_stack.shape"
   ]
  },
  {
   "cell_type": "code",
   "execution_count": 19,
   "id": "e05a3042",
   "metadata": {},
   "outputs": [],
   "source": [
    "scaler = MinMaxScaler().fit(data_stack[:, 1:])\n",
    "data_stack[:, 1:] = scaler.transform(data_stack[:, 1:])"
   ]
  },
  {
   "cell_type": "code",
   "execution_count": 22,
   "id": "6bd73107",
   "metadata": {},
   "outputs": [
    {
     "data": {
      "text/plain": [
       "(20000, 20)"
      ]
     },
     "execution_count": 22,
     "metadata": {},
     "output_type": "execute_result"
    }
   ],
   "source": [
    "i = data_stack.shape[0] // 4\n",
    "data = data_stack[0:i]\n",
    "data = np.append(data, data_stack[i:i*2], axis=1)\n",
    "data = np.append(data, data_stack[i*2:i*3], axis=1)\n",
    "data = np.append(data, data_stack[i*3:i*4], axis=1)\n",
    "data.shape"
   ]
  },
  {
   "cell_type": "code",
   "execution_count": 23,
   "id": "6a72d29e",
   "metadata": {},
   "outputs": [
    {
     "data": {
      "text/plain": [
       "[[0, 1, 2, 3, 4], [5, 6, 7, 8, 9], [10, 11, 12, 13, 14], [15, 16, 17, 18, 19]]"
      ]
     },
     "execution_count": 23,
     "metadata": {},
     "output_type": "execute_result"
    }
   ],
   "source": [
    "pcols = [(np.array([0,1,2,3,4]) + 5 * i).tolist() for i in range(4)]\n",
    "pcols"
   ]
  },
  {
   "cell_type": "code",
   "execution_count": 24,
   "id": "159e4729",
   "metadata": {},
   "outputs": [
    {
     "data": {
      "text/plain": [
       "(40000, 20)"
      ]
     },
     "execution_count": 24,
     "metadata": {},
     "output_type": "execute_result"
    }
   ],
   "source": [
    "data0 = None\n",
    "for p in itertools.permutations(range(len(pcols)), len(pcols)):\n",
    "    c = np.array([ [] + pcols[i] for i in p ]).flatten().tolist()\n",
    "    d = data[:,c]\n",
    "    data0 = d if data is None else np.append(data, d, axis = 0)\n",
    "data0.shape"
   ]
  },
  {
   "cell_type": "code",
   "execution_count": 25,
   "id": "c7fd2f3e",
   "metadata": {},
   "outputs": [
    {
     "data": {
      "text/plain": [
       "array([[-13.,  13., -13.,  13.],\n",
       "       [-13.,  13., -11.,  11.],\n",
       "       [-11.,  11., -11.,  11.],\n",
       "       [ 11., -11.,  11., -11.],\n",
       "       [ 11., -11.,  13., -13.],\n",
       "       [ 13., -13.,  13., -13.]])"
      ]
     },
     "execution_count": 25,
     "metadata": {},
     "output_type": "execute_result"
    }
   ],
   "source": [
    "particle_type_cols = [0,5,10,15]\n",
    "particle_prop_cols = [i for i in range(data0.shape[1]) if i not in particle_type_cols]\n",
    "particle_types, particle_codes = np.unique(data0[:,particle_type_cols], axis=0, return_inverse=True)\n",
    "particle_types"
   ]
  },
  {
   "cell_type": "code",
   "execution_count": 26,
   "id": "675d2e79",
   "metadata": {},
   "outputs": [],
   "source": [
    "enc = OneHotEncoder(handle_unknown='ignore')\n",
    "enc = enc.fit(particle_codes[:,np.newaxis])"
   ]
  },
  {
   "cell_type": "code",
   "execution_count": 102,
   "id": "cf459125",
   "metadata": {},
   "outputs": [
    {
     "data": {
      "text/plain": [
       "((40000, 6), (40000, 16))"
      ]
     },
     "execution_count": 102,
     "metadata": {},
     "output_type": "execute_result"
    }
   ],
   "source": [
    "X_codes = enc.transform(particle_codes[:,np.newaxis]).toarray()\n",
    "X_props = data0[:, particle_prop_cols]\n",
    "\n",
    "X_codes.shape, X_props.shape"
   ]
  },
  {
   "cell_type": "code",
   "execution_count": 103,
   "id": "315c79f9",
   "metadata": {},
   "outputs": [],
   "source": [
    "def plot_histos(codes, props, log = False, normal_scale = False):\n",
    "\n",
    "    fig, ax = plt.subplots(1, figsize=(16,4))\n",
    "    \n",
    "    cds = np.argmax(codes, axis=1)\n",
    "    ax.hist(cds, bins=50)\n",
    "    ax.set_title('type')\n",
    "    plt.show()\n",
    "\n",
    "    fig, axs = plt.subplots(2, 2, figsize=(16,10))\n",
    "    \n",
    "    for t in np.unique(particle_types):\n",
    "        \n",
    "        a = np.where(particle_types == t)\n",
    "        d = None\n",
    "        \n",
    "        for i, j in zip(a[0].tolist(), a[1].tolist()):\n",
    "            \n",
    "            d_ = props[cds == i, 4*j:4*j+4]\n",
    "            d = d_ if d is None else np.append(d, d_, axis=0)\n",
    "\n",
    "        for e in range(d.shape[1]):\n",
    "\n",
    "            ax = axs[0 if e < 2 else 1, e % 2]\n",
    "            ax.hist(d[:, e], bins=50, histtype='step', linewidth=2, fill=False, label=f\"{t}\")\n",
    "            ax.set_title(['E', 'px', 'py', 'pz'][e])\n",
    "            if normal_scale:\n",
    "                ax.set_xlim((0,1))\n",
    "            if log:\n",
    "                ax.set_yscale('log')\n",
    "                    \n",
    "    plt.legend()\n",
    "    plt.show()"
   ]
  },
  {
   "cell_type": "code",
   "execution_count": 104,
   "id": "27650541",
   "metadata": {
    "scrolled": false
   },
   "outputs": [
    {
     "data": {
      "image/png": "[encoded data removed]",
      "text/plain": [
       "<Figure size 1152x288 with 1 Axes>"
      ]
     },
     "metadata": {
      "needs_background": "light"
     },
     "output_type": "display_data"
    },
    {
     "data": {
      "image/png": "[encoded data removed]",
      "text/plain": [
       "<Figure size 1152x720 with 4 Axes>"
      ]
     },
     "metadata": {
      "needs_background": "light"
     },
     "output_type": "display_data"
    }
   ],
   "source": [
    "plot_histos(X_codes, X_props, normal_scale=True)"
   ]
  },
  {
   "cell_type": "markdown",
   "id": "73141dae",
   "metadata": {},
   "source": [
    "# GAN"
   ]
  },
  {
   "cell_type": "code",
   "execution_count": 110,
   "id": "cecf6859",
   "metadata": {},
   "outputs": [
    {
     "data": {
      "text/plain": [
       "(64, 6, 16)"
      ]
     },
     "execution_count": 110,
     "metadata": {},
     "output_type": "execute_result"
    }
   ],
   "source": [
    "noise_len = 64\n",
    "code_len = X_codes.shape[1]\n",
    "prop_len = X_props.shape[1]\n",
    "\n",
    "noise_len, code_len, prop_len"
   ]
  },
  {
   "cell_type": "code",
   "execution_count": 111,
   "id": "6bce1a1c",
   "metadata": {},
   "outputs": [
    {
     "name": "stdout",
     "output_type": "stream",
     "text": [
      "Model: \"model_9\"\n",
      "__________________________________________________________________________________________________\n",
      " Layer (type)                   Output Shape         Param #     Connected to                     \n",
      "==================================================================================================\n",
      " input_13 (InputLayer)          [(None, 64)]         0           []                               \n",
      "                                                                                                  \n",
      " dense_27 (Dense)               (None, 128)          8320        ['input_13[0][0]']               \n",
      "                                                                                                  \n",
      " dense_28 (Dense)               (None, 256)          33024       ['dense_27[0][0]']               \n",
      "                                                                                                  \n",
      " dense_29 (Dense)               (None, 512)          131584      ['dense_28[0][0]']               \n",
      "                                                                                                  \n",
      " dense_31 (Dense)               (None, 6)            3078        ['dense_29[0][0]']               \n",
      "                                                                                                  \n",
      " dense_30 (Dense)               (None, 16)           8208        ['dense_29[0][0]']               \n",
      "                                                                                                  \n",
      "==================================================================================================\n",
      "Total params: 184,214\n",
      "Trainable params: 184,214\n",
      "Non-trainable params: 0\n",
      "__________________________________________________________________________________________________\n"
     ]
    }
   ],
   "source": [
    "def create_generator():\n",
    "    \n",
    "    inp = Input(shape=(noise_len,))\n",
    "    \n",
    "    x = Dense(128, activation='leaky_relu', kernel_initializer='he_normal')(inp)\n",
    "    x = Dense(256, activation='leaky_relu', kernel_initializer='he_normal')(x)\n",
    "    x = Dense(512, activation='leaky_relu', kernel_initializer='he_normal')(x)\n",
    "    \n",
    "    prop = Dense(activation='linear', units=prop_len)(x)\n",
    "    code = Dense(code_len, activation='softmax')(x)\n",
    "    \n",
    "    generator = Model(inputs=inp, outputs=[code, prop])\n",
    "    generator.compile(loss='mse', optimizer='adam')\n",
    "    \n",
    "    return generator\n",
    "\n",
    "g = create_generator()\n",
    "g.summary()"
   ]
  },
  {
   "cell_type": "code",
   "execution_count": 112,
   "id": "ecc09002",
   "metadata": {},
   "outputs": [
    {
     "name": "stdout",
     "output_type": "stream",
     "text": [
      "Model: \"model_10\"\n",
      "__________________________________________________________________________________________________\n",
      " Layer (type)                   Output Shape         Param #     Connected to                     \n",
      "==================================================================================================\n",
      " input_14 (InputLayer)          [(None, 6)]          0           []                               \n",
      "                                                                                                  \n",
      " input_15 (InputLayer)          [(None, 16)]         0           []                               \n",
      "                                                                                                  \n",
      " concatenate_3 (Concatenate)    (None, 22)           0           ['input_14[0][0]',               \n",
      "                                                                  'input_15[0][0]']               \n",
      "                                                                                                  \n",
      " dense_32 (Dense)               (None, 512)          11776       ['concatenate_3[0][0]']          \n",
      "                                                                                                  \n",
      " dropout (Dropout)              (None, 512)          0           ['dense_32[0][0]']               \n",
      "                                                                                                  \n",
      " dense_33 (Dense)               (None, 256)          131328      ['dropout[0][0]']                \n",
      "                                                                                                  \n",
      " dropout_1 (Dropout)            (None, 256)          0           ['dense_33[0][0]']               \n",
      "                                                                                                  \n",
      " dense_34 (Dense)               (None, 128)          32896       ['dropout_1[0][0]']              \n",
      "                                                                                                  \n",
      " dropout_2 (Dropout)            (None, 128)          0           ['dense_34[0][0]']               \n",
      "                                                                                                  \n",
      " dense_35 (Dense)               (None, 1)            129         ['dropout_2[0][0]']              \n",
      "                                                                                                  \n",
      "==================================================================================================\n",
      "Total params: 176,129\n",
      "Trainable params: 176,129\n",
      "Non-trainable params: 0\n",
      "__________________________________________________________________________________________________\n"
     ]
    }
   ],
   "source": [
    "def create_discriminator():\n",
    "\n",
    "    inp_code = Input(shape=(code_len,))\n",
    "    inp_prop = Input(shape=(prop_len,))\n",
    "    \n",
    "    x = Concatenate()((inp_code, inp_prop))\n",
    "    x = Dense(512, activation='leaky_relu', kernel_initializer='he_normal')(x)\n",
    "    x = Dropout(0.3)(x)\n",
    "    x = Dense(256, activation='leaky_relu', kernel_initializer='he_normal')(x)\n",
    "    x = Dropout(0.3)(x)\n",
    "    x = Dense(128, activation='leaky_relu', kernel_initializer='he_normal')(x)\n",
    "    x = Dropout(0.3)(x)\n",
    "    \n",
    "    out = Dense(1, activation='sigmoid')(x)\n",
    "    \n",
    "    discriminator = Model(inputs=[inp_code, inp_prop], outputs=out)\n",
    "    discriminator.compile(loss='binary_crossentropy', optimizer='adam')\n",
    "    \n",
    "    return discriminator\n",
    "\n",
    "d =create_discriminator()\n",
    "d.summary()"
   ]
  },
  {
   "cell_type": "code",
   "execution_count": 113,
   "id": "1cb12cb1",
   "metadata": {},
   "outputs": [
    {
     "name": "stdout",
     "output_type": "stream",
     "text": [
      "Model: \"model_11\"\n",
      "__________________________________________________________________________________________________\n",
      " Layer (type)                   Output Shape         Param #     Connected to                     \n",
      "==================================================================================================\n",
      " input_16 (InputLayer)          [(None, 64)]         0           []                               \n",
      "                                                                                                  \n",
      " model_9 (Functional)           [(None, 6),          184214      ['input_16[0][0]']               \n",
      "                                 (None, 16)]                                                      \n",
      "                                                                                                  \n",
      " model_10 (Functional)          (None, 1)            176129      ['model_9[0][0]',                \n",
      "                                                                  'model_9[0][1]']                \n",
      "                                                                                                  \n",
      "==================================================================================================\n",
      "Total params: 360,343\n",
      "Trainable params: 184,214\n",
      "Non-trainable params: 176,129\n",
      "__________________________________________________________________________________________________\n"
     ]
    }
   ],
   "source": [
    "def create_gan(discriminator, generator):\n",
    "    \n",
    "    discriminator.trainable = False\n",
    "    gan_input = Input(shape=(noise_len,))\n",
    "    code, prop = generator(gan_input)\n",
    "    gan_output = discriminator([code, prop])\n",
    "    gan = Model(inputs = gan_input, outputs = gan_output)\n",
    "    gan.compile(loss = 'binary_crossentropy', optimizer = 'adam')\n",
    "    \n",
    "    return gan\n",
    "\n",
    "gan = create_gan(d,g)\n",
    "gan.summary()"
   ]
  },
  {
   "cell_type": "code",
   "execution_count": 115,
   "id": "bcbedf7d",
   "metadata": {},
   "outputs": [
    {
     "data": {
      "application/vnd.jupyter.widget-view+json": {
       "model_id": "968ffeb810c14bde9c3844608f406e3e",
       "version_major": 2,
       "version_minor": 0
      },
      "text/plain": [
       "  0%|          | 0/256 [00:00<?, ?it/s]"
      ]
     },
     "metadata": {},
     "output_type": "display_data"
    },
    {
     "data": {
      "application/vnd.jupyter.widget-view+json": {
       "model_id": "7d12663dd1fa429d9789c738f74c8403",
       "version_major": 2,
       "version_minor": 0
      },
      "text/plain": [
       "  0%|          | 0/100 [00:00<?, ?it/s]"
      ]
     },
     "metadata": {},
     "output_type": "display_data"
    }
   ],
   "source": [
    "epochs = 100\n",
    "batch_size = 256\n",
    "    \n",
    "# Creating GAN\n",
    "generator= create_generator()\n",
    "discriminator= create_discriminator()\n",
    "gan = create_gan(discriminator, generator)\n",
    "\n",
    "loss = dict(d=[], g=[])\n",
    "    \n",
    "with tqdm(total=batch_size) as bbar:\n",
    "    \n",
    "    for e in tqdm(range(1, epochs + 1)):\n",
    "        \n",
    "        bbar.reset()\n",
    "\n",
    "        for _ in range(batch_size):\n",
    "\n",
    "            # Generate random noise as an input to initialize the generator\n",
    "            noise = np.random.normal(0, 1, [batch_size, noise_len])\n",
    "\n",
    "            # Generate fake particles from noised input\n",
    "            fake_batch = generator.predict(noise)\n",
    "\n",
    "            # Get a random set of real particles\n",
    "            idx = np.random.randint(low = 0,high = X_codes.shape[0], size = batch_size)\n",
    "            real_batch = X_codes[idx], X_props[idx]\n",
    "\n",
    "            # Construct different batches of real and fake data \n",
    "            X = np.concatenate([real_batch[0], fake_batch[0]]), np.concatenate([real_batch[1], fake_batch[1]])\n",
    "\n",
    "            # Labels for generated and real data\n",
    "            Y = np.zeros(2 * batch_size)\n",
    "            Y[:batch_size] = 0.90\n",
    "\n",
    "            # Pre train discriminator on fake and real data before starting the gan. \n",
    "            discriminator.trainable = True\n",
    "            \n",
    "            l = discriminator.train_on_batch(X, Y)\n",
    "            loss['d'].append(l)\n",
    "\n",
    "            # Tricking the noised input of the Generator as real data\n",
    "            X_ = np.random.normal(0, 1, [batch_size, noise_len])\n",
    "            Y_ = np.ones(batch_size)\n",
    "\n",
    "            # During the training of gan, the weights of discriminator should be fixed. \n",
    "            # We can enforce that by setting the trainable flag\n",
    "            discriminator.trainable = False\n",
    "\n",
    "            # Training the GAN by alternating the training of the Discriminator \n",
    "            # and training the chained GAN model with Discriminator’s weights freezed.\n",
    "                \n",
    "            l = gan.train_on_batch(X_, Y_)\n",
    "            loss['g'].append(l)\n",
    "            \n",
    "            bbar.update(1)\n",
    "            "
   ]
  },
  {
   "cell_type": "code",
   "execution_count": 120,
   "id": "48a5d38f",
   "metadata": {},
   "outputs": [
    {
     "data": {
      "image/png": "[encoded data removed]",
      "text/plain": [
       "<Figure size 1080x576 with 1 Axes>"
      ]
     },
     "metadata": {
      "needs_background": "light"
     },
     "output_type": "display_data"
    }
   ],
   "source": [
    "plt.figure(figsize=(15, 8))\n",
    "\n",
    "plt.plot(loss['d'], label='discriminator')\n",
    "plt.plot(loss['g'], label='generator')\n",
    "\n",
    "plt.ylabel('loss')\n",
    "plt.xlabel('epoch * batch')\n",
    "#plt.xscale('log')\n",
    "plt.legend()\n",
    "plt.show()"
   ]
  },
  {
   "cell_type": "code",
   "execution_count": 117,
   "id": "531fdf24",
   "metadata": {},
   "outputs": [],
   "source": [
    "examples = 40000\n",
    "    \n",
    "noise = np.random.normal(loc = 0, scale = 1, size = [examples, noise_len])\n",
    "X_gen = generator.predict(noise)"
   ]
  },
  {
   "cell_type": "code",
   "execution_count": 118,
   "id": "da2dc399",
   "metadata": {},
   "outputs": [
    {
     "data": {
      "image/png": "[encoded data removed]",
      "text/plain": [
       "<Figure size 1152x288 with 1 Axes>"
      ]
     },
     "metadata": {
      "needs_background": "light"
     },
     "output_type": "display_data"
    },
    {
     "data": {
      "image/png": "[encoded data removed]",
      "text/plain": [
       "<Figure size 1152x720 with 4 Axes>"
      ]
     },
     "metadata": {
      "needs_background": "light"
     },
     "output_type": "display_data"
    }
   ],
   "source": [
    "plot_histos(X_gen[0], X_gen[1], normal_scale=True)"
   ]
  },
  {
   "cell_type": "code",
   "execution_count": null,
   "id": "ea445526",
   "metadata": {},
   "outputs": [],
   "source": []
  }
 ],
 "metadata": {
  "hide_input": false,
  "kernelspec": {
   "display_name": "tradegan",
   "language": "python",
   "name": "tradegan"
  },
  "language_info": {
   "codemirror_mode": {
    "name": "ipython",
    "version": 3
   },
   "file_extension": ".py",
   "mimetype": "text/x-python",
   "name": "python",
   "nbconvert_exporter": "python",
   "pygments_lexer": "ipython3",
   "version": "3.8.10"
  },
  "varInspector": {
   "cols": {
    "lenName": 16,
    "lenType": 16,
    "lenVar": 40
   },
   "kernels_config": {
    "python": {
     "delete_cmd_postfix": "",
     "delete_cmd_prefix": "del ",
     "library": "var_list.py",
     "varRefreshCmd": "print(var_dic_list())"
    },
    "r": {
     "delete_cmd_postfix": ") ",
     "delete_cmd_prefix": "rm(",
     "library": "var_list.r",
     "varRefreshCmd": "cat(var_dic_list()) "
    }
   },
   "types_to_exclude": [
    "module",
    "function",
    "builtin_function_or_method",
    "instance",
    "_Feature"
   ],
   "window_display": false
  }
 },
 "nbformat": 4,
 "nbformat_minor": 5
}
