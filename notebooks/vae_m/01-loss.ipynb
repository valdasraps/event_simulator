{
 "cells": [
  {
   "cell_type": "code",
   "execution_count": 61,
   "id": "initial_id",
   "metadata": {
    "collapsed": true,
    "ExecuteTime": {
     "end_time": "2023-12-09T15:13:29.397184Z",
     "start_time": "2023-12-09T15:13:29.229777Z"
    }
   },
   "outputs": [],
   "source": [
    "from keras.src.engine.base_layer import Layer\n",
    "from keras.src.engine.keras_tensor import KerasTensor\n",
    "from keras.src.losses import mse\n",
    "import keras.backend as K\n",
    "import tensorflow as tf\n",
    "import pandas as pd\n",
    "import numpy as np\n",
    "import matplotlib.pyplot as plt\n"
   ]
  },
  {
   "cell_type": "code",
   "execution_count": 10,
   "outputs": [
    {
     "data": {
      "text/plain": "[['E1', 'p1x', 'p1y', 'p1z'],\n ['E2', 'p2x', 'p2y', 'p2z'],\n ['E3', 'p3x', 'p3y', 'p3z'],\n ['E4', 'p4x', 'p4y', 'p4z']]"
     },
     "execution_count": 10,
     "metadata": {},
     "output_type": "execute_result"
    }
   ],
   "source": [
    "schemas = [['E1', 'p1x', 'p1y', 'p1z'], \n",
    "           ['E2', 'p2x', 'p2y', 'p2z'],\n",
    "           ['E3', 'p3x', 'p3y', 'p3z'], \n",
    "           ['E4', 'p4x', 'p4y', 'p4z']]\n",
    "schemas"
   ],
   "metadata": {
    "collapsed": false,
    "ExecuteTime": {
     "end_time": "2023-12-09T05:30:54.314286Z",
     "start_time": "2023-12-09T05:30:54.310107Z"
    }
   },
   "id": "2bd2b145460541ae"
  },
  {
   "cell_type": "code",
   "execution_count": 35,
   "outputs": [],
   "source": [
    "def inv_mass(x: Layer) -> tf.Tensor:\n",
    "    e_tensor = tf.gather(x, [0, 4, 8, 12], axis=1)\n",
    "    x_tensor = tf.gather(x, [1, 5, 9, 13], axis=1)\n",
    "    y_tensor = tf.gather(x, [2, 6, 10, 14], axis=1)\n",
    "    z_tensor = tf.gather(x, [3, 7, 11, 15], axis=1)\n",
    "    return (\n",
    "        tf.square(tf.reduce_sum(e_tensor, axis=1))\n",
    "        - tf.square(tf.reduce_sum(x_tensor, axis=1))\n",
    "        - tf.square(tf.reduce_sum(y_tensor, axis=1))\n",
    "        - tf.square(tf.reduce_sum(z_tensor, axis=1))\n",
    "    )"
   ],
   "metadata": {
    "collapsed": false,
    "ExecuteTime": {
     "end_time": "2023-12-09T05:44:07.004753Z",
     "start_time": "2023-12-09T05:44:07.001935Z"
    }
   },
   "id": "e7c0a32e133ba0d5"
  },
  {
   "cell_type": "code",
   "execution_count": 54,
   "outputs": [],
   "source": [
    "def vae_loss(\n",
    "    x: Layer,\n",
    "    x_decoded_mean: Layer,\n",
    "    z_log_var: Layer,\n",
    "    z_mean: Layer,\n",
    ") -> KerasTensor:\n",
    "    mse_loss = mse(x, x_decoded_mean)\n",
    "    kl_loss = z_log_var + 1 - K.square(z_mean) - K.exp(z_log_var)\n",
    "    kl_loss = K.sum(kl_loss, axis=-1)\n",
    "    kl_loss *= -0.5\n",
    "    inv_m_loss = tf.square(inv_mass(x) - inv_mass(x_decoded_mean))\n",
    "    beta = 10 ** (-6)\n",
    "    alpha = 10 ** (-6)\n",
    "    loss = K.mean((1 - beta - alpha) * mse_loss + beta * kl_loss + alpha * inv_m_loss)\n",
    "    return loss"
   ],
   "metadata": {
    "collapsed": false,
    "ExecuteTime": {
     "end_time": "2023-12-09T05:48:55.111003Z",
     "start_time": "2023-12-09T05:48:55.092847Z"
    }
   },
   "id": "b7e6b82ece7fe721"
  },
  {
   "cell_type": "code",
   "execution_count": 18,
   "outputs": [
    {
     "data": {
      "text/plain": "           E1        p1x        p1y         p1z          E2        p2x  \\\n0   20.274241  13.753708   1.397849   14.829915   13.459523 -13.458053   \n1  152.820099  63.584427  18.996694 -137.659427  164.917905   4.471840   \n2   51.267102  27.995380  26.039697   34.154190   43.013595  -7.827488   \n3   64.805282  -3.653628  46.355274   45.139262   38.158727 -29.094263   \n4   25.501529  17.607195  -7.617831  -16.800957   22.270427   3.366801   \n\n         p2y         p2z          E3        p3x        p3y         p3z  \\\n0  -0.178631    0.087476   10.726935   1.457106  -9.715445   -4.306151   \n1  31.646155 -161.791309  137.529487 -39.586901 -44.338982 -124.021291   \n2 -17.337374  -38.578689  123.210062   0.378806 -41.833551  115.890116   \n3 -15.298609  -19.379208   57.805237  34.629435  10.578369   45.059234   \n4  16.786119  -14.242599   36.269401 -21.935459  13.187325  -25.698023   \n\n          E4        p4x        p4y        p4z  \n0  19.941356  -1.752761   8.496227  17.955180  \n1  39.559938 -28.469366  -6.303867 -26.734509  \n2  46.883635 -20.546697  33.131228  26.042638  \n3  42.993259  -1.881544 -41.635034  10.554281  \n4  47.012227   0.961463 -22.355613 -41.345380  ",
      "text/html": "<div>\n<style scoped>\n    .dataframe tbody tr th:only-of-type {\n        vertical-align: middle;\n    }\n\n    .dataframe tbody tr th {\n        vertical-align: top;\n    }\n\n    .dataframe thead th {\n        text-align: right;\n    }\n</style>\n<table border=\"1\" class=\"dataframe\">\n  <thead>\n    <tr style=\"text-align: right;\">\n      <th></th>\n      <th>E1</th>\n      <th>p1x</th>\n      <th>p1y</th>\n      <th>p1z</th>\n      <th>E2</th>\n      <th>p2x</th>\n      <th>p2y</th>\n      <th>p2z</th>\n      <th>E3</th>\n      <th>p3x</th>\n      <th>p3y</th>\n      <th>p3z</th>\n      <th>E4</th>\n      <th>p4x</th>\n      <th>p4y</th>\n      <th>p4z</th>\n    </tr>\n  </thead>\n  <tbody>\n    <tr>\n      <th>0</th>\n      <td>20.274241</td>\n      <td>13.753708</td>\n      <td>1.397849</td>\n      <td>14.829915</td>\n      <td>13.459523</td>\n      <td>-13.458053</td>\n      <td>-0.178631</td>\n      <td>0.087476</td>\n      <td>10.726935</td>\n      <td>1.457106</td>\n      <td>-9.715445</td>\n      <td>-4.306151</td>\n      <td>19.941356</td>\n      <td>-1.752761</td>\n      <td>8.496227</td>\n      <td>17.955180</td>\n    </tr>\n    <tr>\n      <th>1</th>\n      <td>152.820099</td>\n      <td>63.584427</td>\n      <td>18.996694</td>\n      <td>-137.659427</td>\n      <td>164.917905</td>\n      <td>4.471840</td>\n      <td>31.646155</td>\n      <td>-161.791309</td>\n      <td>137.529487</td>\n      <td>-39.586901</td>\n      <td>-44.338982</td>\n      <td>-124.021291</td>\n      <td>39.559938</td>\n      <td>-28.469366</td>\n      <td>-6.303867</td>\n      <td>-26.734509</td>\n    </tr>\n    <tr>\n      <th>2</th>\n      <td>51.267102</td>\n      <td>27.995380</td>\n      <td>26.039697</td>\n      <td>34.154190</td>\n      <td>43.013595</td>\n      <td>-7.827488</td>\n      <td>-17.337374</td>\n      <td>-38.578689</td>\n      <td>123.210062</td>\n      <td>0.378806</td>\n      <td>-41.833551</td>\n      <td>115.890116</td>\n      <td>46.883635</td>\n      <td>-20.546697</td>\n      <td>33.131228</td>\n      <td>26.042638</td>\n    </tr>\n    <tr>\n      <th>3</th>\n      <td>64.805282</td>\n      <td>-3.653628</td>\n      <td>46.355274</td>\n      <td>45.139262</td>\n      <td>38.158727</td>\n      <td>-29.094263</td>\n      <td>-15.298609</td>\n      <td>-19.379208</td>\n      <td>57.805237</td>\n      <td>34.629435</td>\n      <td>10.578369</td>\n      <td>45.059234</td>\n      <td>42.993259</td>\n      <td>-1.881544</td>\n      <td>-41.635034</td>\n      <td>10.554281</td>\n    </tr>\n    <tr>\n      <th>4</th>\n      <td>25.501529</td>\n      <td>17.607195</td>\n      <td>-7.617831</td>\n      <td>-16.800957</td>\n      <td>22.270427</td>\n      <td>3.366801</td>\n      <td>16.786119</td>\n      <td>-14.242599</td>\n      <td>36.269401</td>\n      <td>-21.935459</td>\n      <td>13.187325</td>\n      <td>-25.698023</td>\n      <td>47.012227</td>\n      <td>0.961463</td>\n      <td>-22.355613</td>\n      <td>-41.345380</td>\n    </tr>\n  </tbody>\n</table>\n</div>"
     },
     "execution_count": 18,
     "metadata": {},
     "output_type": "execute_result"
    }
   ],
   "source": [
    "data = pd.read_csv('four_guys.csv', sep=\" \", names=np.array(schemas).flatten())\n",
    "data.head()"
   ],
   "metadata": {
    "collapsed": false,
    "ExecuteTime": {
     "end_time": "2023-12-09T05:34:23.570166Z",
     "start_time": "2023-12-09T05:34:23.030038Z"
    }
   },
   "id": "f0ee3cb0f8779017"
  },
  {
   "cell_type": "code",
   "execution_count": 21,
   "outputs": [
    {
     "data": {
      "text/plain": "                                             E1       p1x       p1y       p1z  \\\n-0.552200 -1.595257 3.217902 1.967519  0.598932 -1.405670 -1.082503 -0.752241   \n-0.606270 -1.864357 3.041797 2.324298  0.482504 -1.287469 -1.204194 -0.269872   \n-0.519415 -1.617143 2.461672 1.515917  0.463803 -1.258280 -0.949081 -0.415559   \n-0.722961 -2.063609 2.966812 2.103067  0.717500 -1.448642 -1.323827 -0.487124   \n-0.727132 -1.707015 3.099955 1.665745  0.449598 -1.583826 -0.951240 -0.741455   \n\n                                             E2       p2x       p2y       p2z  \\\n-0.552200 -1.595257 3.217902 1.967519  2.614413  1.092358 -6.032957  1.916500   \n-0.606270 -1.864357 3.041797 2.324298  3.050050  0.644958 -6.092378  1.428873   \n-0.519415 -1.617143 2.461672 1.515917  2.149951  0.987547 -4.588554  1.159920   \n-0.722961 -2.063609 2.966812 2.103067  2.708782  1.171290 -5.889198  1.459677   \n-0.727132 -1.707015 3.099955 1.665745  2.389848  1.207128 -5.118530  1.498605   \n\n                                             E3       p3x       p3y       p3z  \\\n-0.552200 -1.595257 3.217902 1.967519  1.443225  1.808575 -1.031013  1.016688   \n-0.606270 -1.864357 3.041797 2.324298  1.524287  2.035575 -0.767109  1.392910   \n-0.519415 -1.617143 2.461672 1.515917  0.948834  1.605305 -0.928079  1.254038   \n-0.722961 -2.063609 2.966812 2.103067  1.249279  1.932521 -1.113596  1.514586   \n-0.727132 -1.707015 3.099955 1.665745  1.595084  1.816208 -1.032870  1.076777   \n\n                                             E4       p4x       p4y       p4z  \n-0.552200 -1.595257 3.217902 1.967519 -0.278667  0.987186  3.808554  1.384726  \n-0.606270 -1.864357 3.041797 2.324298 -0.393350  1.460187  3.977250  1.309302  \n-0.519415 -1.617143 2.461672 1.515917 -0.147118  1.032950  2.959656  1.061694  \n-0.722961 -2.063609 2.966812 2.103067 -0.317438  1.251599  3.834829  1.155021  \n-0.727132 -1.707015 3.099955 1.665745 -0.063160  0.966358  3.626057  1.454883  ",
      "text/html": "<div>\n<style scoped>\n    .dataframe tbody tr th:only-of-type {\n        vertical-align: middle;\n    }\n\n    .dataframe tbody tr th {\n        vertical-align: top;\n    }\n\n    .dataframe thead th {\n        text-align: right;\n    }\n</style>\n<table border=\"1\" class=\"dataframe\">\n  <thead>\n    <tr style=\"text-align: right;\">\n      <th></th>\n      <th></th>\n      <th></th>\n      <th></th>\n      <th>E1</th>\n      <th>p1x</th>\n      <th>p1y</th>\n      <th>p1z</th>\n      <th>E2</th>\n      <th>p2x</th>\n      <th>p2y</th>\n      <th>p2z</th>\n      <th>E3</th>\n      <th>p3x</th>\n      <th>p3y</th>\n      <th>p3z</th>\n      <th>E4</th>\n      <th>p4x</th>\n      <th>p4y</th>\n      <th>p4z</th>\n    </tr>\n  </thead>\n  <tbody>\n    <tr>\n      <th>-0.552200</th>\n      <th>-1.595257</th>\n      <th>3.217902</th>\n      <th>1.967519</th>\n      <td>0.598932</td>\n      <td>-1.405670</td>\n      <td>-1.082503</td>\n      <td>-0.752241</td>\n      <td>2.614413</td>\n      <td>1.092358</td>\n      <td>-6.032957</td>\n      <td>1.916500</td>\n      <td>1.443225</td>\n      <td>1.808575</td>\n      <td>-1.031013</td>\n      <td>1.016688</td>\n      <td>-0.278667</td>\n      <td>0.987186</td>\n      <td>3.808554</td>\n      <td>1.384726</td>\n    </tr>\n    <tr>\n      <th>-0.606270</th>\n      <th>-1.864357</th>\n      <th>3.041797</th>\n      <th>2.324298</th>\n      <td>0.482504</td>\n      <td>-1.287469</td>\n      <td>-1.204194</td>\n      <td>-0.269872</td>\n      <td>3.050050</td>\n      <td>0.644958</td>\n      <td>-6.092378</td>\n      <td>1.428873</td>\n      <td>1.524287</td>\n      <td>2.035575</td>\n      <td>-0.767109</td>\n      <td>1.392910</td>\n      <td>-0.393350</td>\n      <td>1.460187</td>\n      <td>3.977250</td>\n      <td>1.309302</td>\n    </tr>\n    <tr>\n      <th>-0.519415</th>\n      <th>-1.617143</th>\n      <th>2.461672</th>\n      <th>1.515917</th>\n      <td>0.463803</td>\n      <td>-1.258280</td>\n      <td>-0.949081</td>\n      <td>-0.415559</td>\n      <td>2.149951</td>\n      <td>0.987547</td>\n      <td>-4.588554</td>\n      <td>1.159920</td>\n      <td>0.948834</td>\n      <td>1.605305</td>\n      <td>-0.928079</td>\n      <td>1.254038</td>\n      <td>-0.147118</td>\n      <td>1.032950</td>\n      <td>2.959656</td>\n      <td>1.061694</td>\n    </tr>\n    <tr>\n      <th>-0.722961</th>\n      <th>-2.063609</th>\n      <th>2.966812</th>\n      <th>2.103067</th>\n      <td>0.717500</td>\n      <td>-1.448642</td>\n      <td>-1.323827</td>\n      <td>-0.487124</td>\n      <td>2.708782</td>\n      <td>1.171290</td>\n      <td>-5.889198</td>\n      <td>1.459677</td>\n      <td>1.249279</td>\n      <td>1.932521</td>\n      <td>-1.113596</td>\n      <td>1.514586</td>\n      <td>-0.317438</td>\n      <td>1.251599</td>\n      <td>3.834829</td>\n      <td>1.155021</td>\n    </tr>\n    <tr>\n      <th>-0.727132</th>\n      <th>-1.707015</th>\n      <th>3.099955</th>\n      <th>1.665745</th>\n      <td>0.449598</td>\n      <td>-1.583826</td>\n      <td>-0.951240</td>\n      <td>-0.741455</td>\n      <td>2.389848</td>\n      <td>1.207128</td>\n      <td>-5.118530</td>\n      <td>1.498605</td>\n      <td>1.595084</td>\n      <td>1.816208</td>\n      <td>-1.032870</td>\n      <td>1.076777</td>\n      <td>-0.063160</td>\n      <td>0.966358</td>\n      <td>3.626057</td>\n      <td>1.454883</td>\n    </tr>\n  </tbody>\n</table>\n</div>"
     },
     "execution_count": 21,
     "metadata": {},
     "output_type": "execute_result"
    }
   ],
   "source": [
    "means = pd.read_csv('four_guys.csv.latent_mean.csv', sep=\" \", names=np.array(schemas).flatten())\n",
    "means.head()"
   ],
   "metadata": {
    "collapsed": false,
    "ExecuteTime": {
     "end_time": "2023-12-09T05:35:22.460222Z",
     "start_time": "2023-12-09T05:35:21.643199Z"
    }
   },
   "id": "8abd5abf116e6e96"
  },
  {
   "cell_type": "code",
   "execution_count": 22,
   "outputs": [
    {
     "data": {
      "text/plain": "                                           E1       p1x       p1y       p1z  \\\n0.509608 0.328267 0.612831 0.552864  0.258287  0.221938  0.344367  0.506722   \n0.542954 0.278070 0.624761 0.548800  0.245208  0.178049  0.313878  0.517632   \n0.524767 0.401043 0.704814 0.692012  0.385050  0.298756  0.376590  0.578741   \n0.445028 0.319379 0.605474 0.624494  0.294277  0.208792  0.301071  0.495171   \n0.491132 0.383653 0.631099 0.706647  0.333144  0.256968  0.319653  0.576885   \n\n                                           E2       p2x       p2y       p2z  \\\n0.509608 0.328267 0.612831 0.552864  0.705423  0.343847  0.281302  0.328061   \n0.542954 0.278070 0.624761 0.548800  0.623424  0.373180  0.359835  0.250130   \n0.524767 0.401043 0.704814 0.692012  0.736408  0.460293  0.454877  0.396908   \n0.445028 0.319379 0.605474 0.624494  0.688235  0.342234  0.356373  0.326431   \n0.491132 0.383653 0.631099 0.706647  0.718479  0.450820  0.311509  0.349309   \n\n                                           E3       p3x       p3y       p3z  \\\n0.509608 0.328267 0.612831 0.552864  0.429542  0.551178  0.429658  0.311801   \n0.542954 0.278070 0.624761 0.548800  0.355068  0.511820  0.468385  0.298697   \n0.524767 0.401043 0.704814 0.692012  0.487748  0.702805  0.580437  0.442267   \n0.445028 0.319379 0.605474 0.624494  0.441182  0.653287  0.458186  0.327687   \n0.491132 0.383653 0.631099 0.706647  0.440010  0.601490  0.463336  0.394356   \n\n                                           E4       p4x       p4y       p4z  \n0.509608 0.328267 0.612831 0.552864  0.349972  0.148201  0.201291  0.257988  \n0.542954 0.278070 0.624761 0.548800  0.364402  0.124933  0.186293  0.218140  \n0.524767 0.401043 0.704814 0.692012  0.521637  0.228423  0.286502  0.295828  \n0.445028 0.319379 0.605474 0.624494  0.423247  0.141059  0.215078  0.220360  \n0.491132 0.383653 0.631099 0.706647  0.417369  0.191645  0.201527  0.283919  ",
      "text/html": "<div>\n<style scoped>\n    .dataframe tbody tr th:only-of-type {\n        vertical-align: middle;\n    }\n\n    .dataframe tbody tr th {\n        vertical-align: top;\n    }\n\n    .dataframe thead th {\n        text-align: right;\n    }\n</style>\n<table border=\"1\" class=\"dataframe\">\n  <thead>\n    <tr style=\"text-align: right;\">\n      <th></th>\n      <th></th>\n      <th></th>\n      <th></th>\n      <th>E1</th>\n      <th>p1x</th>\n      <th>p1y</th>\n      <th>p1z</th>\n      <th>E2</th>\n      <th>p2x</th>\n      <th>p2y</th>\n      <th>p2z</th>\n      <th>E3</th>\n      <th>p3x</th>\n      <th>p3y</th>\n      <th>p3z</th>\n      <th>E4</th>\n      <th>p4x</th>\n      <th>p4y</th>\n      <th>p4z</th>\n    </tr>\n  </thead>\n  <tbody>\n    <tr>\n      <th>0.509608</th>\n      <th>0.328267</th>\n      <th>0.612831</th>\n      <th>0.552864</th>\n      <td>0.258287</td>\n      <td>0.221938</td>\n      <td>0.344367</td>\n      <td>0.506722</td>\n      <td>0.705423</td>\n      <td>0.343847</td>\n      <td>0.281302</td>\n      <td>0.328061</td>\n      <td>0.429542</td>\n      <td>0.551178</td>\n      <td>0.429658</td>\n      <td>0.311801</td>\n      <td>0.349972</td>\n      <td>0.148201</td>\n      <td>0.201291</td>\n      <td>0.257988</td>\n    </tr>\n    <tr>\n      <th>0.542954</th>\n      <th>0.278070</th>\n      <th>0.624761</th>\n      <th>0.548800</th>\n      <td>0.245208</td>\n      <td>0.178049</td>\n      <td>0.313878</td>\n      <td>0.517632</td>\n      <td>0.623424</td>\n      <td>0.373180</td>\n      <td>0.359835</td>\n      <td>0.250130</td>\n      <td>0.355068</td>\n      <td>0.511820</td>\n      <td>0.468385</td>\n      <td>0.298697</td>\n      <td>0.364402</td>\n      <td>0.124933</td>\n      <td>0.186293</td>\n      <td>0.218140</td>\n    </tr>\n    <tr>\n      <th>0.524767</th>\n      <th>0.401043</th>\n      <th>0.704814</th>\n      <th>0.692012</th>\n      <td>0.385050</td>\n      <td>0.298756</td>\n      <td>0.376590</td>\n      <td>0.578741</td>\n      <td>0.736408</td>\n      <td>0.460293</td>\n      <td>0.454877</td>\n      <td>0.396908</td>\n      <td>0.487748</td>\n      <td>0.702805</td>\n      <td>0.580437</td>\n      <td>0.442267</td>\n      <td>0.521637</td>\n      <td>0.228423</td>\n      <td>0.286502</td>\n      <td>0.295828</td>\n    </tr>\n    <tr>\n      <th>0.445028</th>\n      <th>0.319379</th>\n      <th>0.605474</th>\n      <th>0.624494</th>\n      <td>0.294277</td>\n      <td>0.208792</td>\n      <td>0.301071</td>\n      <td>0.495171</td>\n      <td>0.688235</td>\n      <td>0.342234</td>\n      <td>0.356373</td>\n      <td>0.326431</td>\n      <td>0.441182</td>\n      <td>0.653287</td>\n      <td>0.458186</td>\n      <td>0.327687</td>\n      <td>0.423247</td>\n      <td>0.141059</td>\n      <td>0.215078</td>\n      <td>0.220360</td>\n    </tr>\n    <tr>\n      <th>0.491132</th>\n      <th>0.383653</th>\n      <th>0.631099</th>\n      <th>0.706647</th>\n      <td>0.333144</td>\n      <td>0.256968</td>\n      <td>0.319653</td>\n      <td>0.576885</td>\n      <td>0.718479</td>\n      <td>0.450820</td>\n      <td>0.311509</td>\n      <td>0.349309</td>\n      <td>0.440010</td>\n      <td>0.601490</td>\n      <td>0.463336</td>\n      <td>0.394356</td>\n      <td>0.417369</td>\n      <td>0.191645</td>\n      <td>0.201527</td>\n      <td>0.283919</td>\n    </tr>\n  </tbody>\n</table>\n</div>"
     },
     "execution_count": 22,
     "metadata": {},
     "output_type": "execute_result"
    }
   ],
   "source": [
    "stds = pd.read_csv('four_guys.csv.latent_std.csv', sep=\" \", names=np.array(schemas).flatten())\n",
    "stds.head()"
   ],
   "metadata": {
    "collapsed": false,
    "ExecuteTime": {
     "end_time": "2023-12-09T05:35:24.054668Z",
     "start_time": "2023-12-09T05:35:23.322948Z"
    }
   },
   "id": "305b3bcf279f547f"
  },
  {
   "cell_type": "code",
   "execution_count": 57,
   "outputs": [],
   "source": [
    "x = tf.constant(data.values[:10])\n",
    "y = tf.constant(data.values[:10])\n",
    "m = tf.constant(means.values[:10])\n",
    "s = tf.constant(stds.values[:10])"
   ],
   "metadata": {
    "collapsed": false,
    "ExecuteTime": {
     "end_time": "2023-12-09T05:49:06.624576Z",
     "start_time": "2023-12-09T05:49:06.619458Z"
    }
   },
   "id": "9af711bfe10795e9"
  },
  {
   "cell_type": "code",
   "execution_count": 58,
   "outputs": [
    {
     "data": {
      "text/plain": "4.1277454839434526e-05"
     },
     "execution_count": 58,
     "metadata": {},
     "output_type": "execute_result"
    }
   ],
   "source": [
    "vae_loss(x, y, m, s).numpy()"
   ],
   "metadata": {
    "collapsed": false,
    "ExecuteTime": {
     "end_time": "2023-12-09T05:49:07.057771Z",
     "start_time": "2023-12-09T05:49:07.050159Z"
    }
   },
   "id": "12717d4a189439db"
  },
  {
   "cell_type": "code",
   "execution_count": 134,
   "outputs": [
    {
     "data": {
      "text/plain": "<Figure size 640x480 with 1 Axes>",
      "image/png": "[encoded data removed]"
     },
     "metadata": {},
     "output_type": "display_data"
    }
   ],
   "source": [
    "lr = [\n",
    "    0.001 * i ** -0.4 for i in range(1, 1500)\n",
    "]\n",
    "plt.plot(range(len(lr)), lr)\n",
    "plt.yscale('log')\n",
    "plt.show()"
   ],
   "metadata": {
    "collapsed": false,
    "ExecuteTime": {
     "end_time": "2023-12-09T15:45:12.287090Z",
     "start_time": "2023-12-09T15:45:12.187466Z"
    }
   },
   "id": "ea42e1287b690f63"
  },
  {
   "cell_type": "code",
   "execution_count": 129,
   "outputs": [
    {
     "data": {
      "text/plain": "(0.001, 5.366354354133977e-05)"
     },
     "execution_count": 129,
     "metadata": {},
     "output_type": "execute_result"
    }
   ],
   "source": [
    "lr[0], lr[-1]"
   ],
   "metadata": {
    "collapsed": false,
    "ExecuteTime": {
     "end_time": "2023-12-09T15:29:03.431614Z",
     "start_time": "2023-12-09T15:29:03.429505Z"
    }
   },
   "id": "fc6ed494eb695c45"
  },
  {
   "cell_type": "code",
   "execution_count": 140,
   "outputs": [],
   "source": [
    "import enum\n",
    "\n",
    "\n",
    "class TRAFFIC_LIGHT_COLOR(str, enum.Enum):\n",
    "    RED = \"RED\"\n",
    "    GREEN = \"GREEN\"\n",
    "    \n",
    "    @classmethod\n",
    "    def by_minute(cls, minutes: int) -> str:\n",
    "        assert minutes >= 0, \"Minutes must be a positive integer\"\n",
    "        assert minutes < 60, \"Minutes must be less than 60\"\n",
    "        return cls.RED if minutes % 5 < 2 else cls.GREEN\n",
    "    "
   ],
   "metadata": {
    "collapsed": false,
    "ExecuteTime": {
     "end_time": "2023-12-09T17:04:09.999007Z",
     "start_time": "2023-12-09T17:04:09.995638Z"
    }
   },
   "id": "78e72db3a21779b9"
  },
  {
   "cell_type": "code",
   "execution_count": 147,
   "outputs": [
    {
     "data": {
      "text/plain": "<TRAFFIC_LIGHT_COLOR.RED: 'RED'>"
     },
     "execution_count": 147,
     "metadata": {},
     "output_type": "execute_result"
    }
   ],
   "source": [
    "TRAFFIC_LIGHT_COLOR.by_minute(0)\n",
    "    "
   ],
   "metadata": {
    "collapsed": false,
    "ExecuteTime": {
     "end_time": "2023-12-09T17:09:48.087710Z",
     "start_time": "2023-12-09T17:09:48.081063Z"
    }
   },
   "id": "2557a4eafe6d81bf"
  },
  {
   "cell_type": "code",
   "execution_count": 148,
   "outputs": [
    {
     "data": {
      "text/plain": "<TRAFFIC_LIGHT_COLOR.GREEN: 'GREEN'>"
     },
     "execution_count": 148,
     "metadata": {},
     "output_type": "execute_result"
    }
   ],
   "source": [
    "TRAFFIC_LIGHT_COLOR.by_minute(3)\n"
   ],
   "metadata": {
    "collapsed": false,
    "ExecuteTime": {
     "end_time": "2023-12-09T17:09:51.690316Z",
     "start_time": "2023-12-09T17:09:51.686395Z"
    }
   },
   "id": "a1c2e6d572e331c4"
  },
  {
   "cell_type": "code",
   "execution_count": 149,
   "outputs": [
    {
     "ename": "AssertionError",
     "evalue": "Minutes must be less than 60",
     "output_type": "error",
     "traceback": [
      "\u001B[0;31m---------------------------------------------------------------------------\u001B[0m",
      "\u001B[0;31mAssertionError\u001B[0m                            Traceback (most recent call last)",
      "Cell \u001B[0;32mIn[149], line 1\u001B[0m\n\u001B[0;32m----> 1\u001B[0m \u001B[43mTRAFFIC_LIGHT_COLOR\u001B[49m\u001B[38;5;241;43m.\u001B[39;49m\u001B[43mby_minute\u001B[49m\u001B[43m(\u001B[49m\u001B[38;5;241;43m400\u001B[39;49m\u001B[43m)\u001B[49m\n",
      "Cell \u001B[0;32mIn[140], line 11\u001B[0m, in \u001B[0;36mTRAFFIC_LIGHT_COLOR.by_minute\u001B[0;34m(cls, minutes)\u001B[0m\n\u001B[1;32m      8\u001B[0m \u001B[38;5;129m@classmethod\u001B[39m\n\u001B[1;32m      9\u001B[0m \u001B[38;5;28;01mdef\u001B[39;00m \u001B[38;5;21mby_minute\u001B[39m(\u001B[38;5;28mcls\u001B[39m, minutes: \u001B[38;5;28mint\u001B[39m) \u001B[38;5;241m-\u001B[39m\u001B[38;5;241m>\u001B[39m \u001B[38;5;28mstr\u001B[39m:\n\u001B[1;32m     10\u001B[0m     \u001B[38;5;28;01massert\u001B[39;00m minutes \u001B[38;5;241m>\u001B[39m\u001B[38;5;241m=\u001B[39m \u001B[38;5;241m0\u001B[39m, \u001B[38;5;124m\"\u001B[39m\u001B[38;5;124mMinutes must be a positive integer\u001B[39m\u001B[38;5;124m\"\u001B[39m\n\u001B[0;32m---> 11\u001B[0m     \u001B[38;5;28;01massert\u001B[39;00m minutes \u001B[38;5;241m<\u001B[39m \u001B[38;5;241m60\u001B[39m, \u001B[38;5;124m\"\u001B[39m\u001B[38;5;124mMinutes must be less than 60\u001B[39m\u001B[38;5;124m\"\u001B[39m\n\u001B[1;32m     12\u001B[0m     \u001B[38;5;28;01mreturn\u001B[39;00m \u001B[38;5;28mcls\u001B[39m\u001B[38;5;241m.\u001B[39mRED \u001B[38;5;28;01mif\u001B[39;00m minutes \u001B[38;5;241m%\u001B[39m \u001B[38;5;241m5\u001B[39m \u001B[38;5;241m<\u001B[39m \u001B[38;5;241m2\u001B[39m \u001B[38;5;28;01melse\u001B[39;00m \u001B[38;5;28mcls\u001B[39m\u001B[38;5;241m.\u001B[39mGREEN\n",
      "\u001B[0;31mAssertionError\u001B[0m: Minutes must be less than 60"
     ]
    }
   ],
   "source": [
    "TRAFFIC_LIGHT_COLOR.by_minute(400)\n"
   ],
   "metadata": {
    "collapsed": false,
    "ExecuteTime": {
     "end_time": "2023-12-09T17:09:56.549763Z",
     "start_time": "2023-12-09T17:09:56.534719Z"
    }
   },
   "id": "f54df29551d4e12"
  },
  {
   "cell_type": "code",
   "execution_count": 144,
   "outputs": [
    {
     "ename": "TypeError",
     "evalue": "TRAFFIC_LIGHT_COLOR.by_minute() missing 1 required positional argument: 'minutes'",
     "output_type": "error",
     "traceback": [
      "\u001B[0;31m---------------------------------------------------------------------------\u001B[0m",
      "\u001B[0;31mTypeError\u001B[0m                                 Traceback (most recent call last)",
      "Cell \u001B[0;32mIn[144], line 1\u001B[0m\n\u001B[0;32m----> 1\u001B[0m \u001B[43mTRAFFIC_LIGHT_COLOR\u001B[49m\u001B[38;5;241;43m.\u001B[39;49m\u001B[43mby_minute\u001B[49m\u001B[43m(\u001B[49m\u001B[43m)\u001B[49m\n",
      "\u001B[0;31mTypeError\u001B[0m: TRAFFIC_LIGHT_COLOR.by_minute() missing 1 required positional argument: 'minutes'"
     ]
    }
   ],
   "source": [
    "TRAFFIC_LIGHT_COLOR.by_minute()\n"
   ],
   "metadata": {
    "collapsed": false,
    "ExecuteTime": {
     "end_time": "2023-12-09T17:04:11.815267Z",
     "start_time": "2023-12-09T17:04:11.806533Z"
    }
   },
   "id": "fb3e7406fc262d59"
  },
  {
   "cell_type": "code",
   "execution_count": 145,
   "outputs": [],
   "source": [
    "def traffic_light_color(minutes: int) -> str:\n",
    "    return \"RED\" if minutes % 5 < 2 else \"GREEN\""
   ],
   "metadata": {
    "collapsed": false,
    "ExecuteTime": {
     "end_time": "2023-12-09T17:04:49.039481Z",
     "start_time": "2023-12-09T17:04:49.030768Z"
    }
   },
   "id": "dd2e4a673bd6cd23"
  },
  {
   "cell_type": "code",
   "execution_count": 146,
   "outputs": [
    {
     "data": {
      "text/plain": "'RED'"
     },
     "execution_count": 146,
     "metadata": {},
     "output_type": "execute_result"
    }
   ],
   "source": [
    "traffic_light_color(0)\n"
   ],
   "metadata": {
    "collapsed": false,
    "ExecuteTime": {
     "end_time": "2023-12-09T17:04:51.094075Z",
     "start_time": "2023-12-09T17:04:51.088845Z"
    }
   },
   "id": "2aaaf50b27e6db68"
  },
  {
   "cell_type": "code",
   "execution_count": null,
   "outputs": [],
   "source": [],
   "metadata": {
    "collapsed": false
   },
   "id": "88b8142794d82162"
  }
 ],
 "metadata": {
  "kernelspec": {
   "display_name": "Python 3",
   "language": "python",
   "name": "python3"
  },
  "language_info": {
   "codemirror_mode": {
    "name": "ipython",
    "version": 2
   },
   "file_extension": ".py",
   "mimetype": "text/x-python",
   "name": "python",
   "nbconvert_exporter": "python",
   "pygments_lexer": "ipython2",
   "version": "2.7.6"
  }
 },
 "nbformat": 4,
 "nbformat_minor": 5
}
