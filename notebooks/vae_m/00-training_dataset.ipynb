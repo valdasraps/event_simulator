{
 "cells": [
  {
   "cell_type": "code",
   "execution_count": 8,
   "id": "afd63094-bbae-49d3-a73c-a00dba5e81d7",
   "metadata": {
    "ExecuteTime": {
     "end_time": "2023-12-08T21:09:11.353049Z",
     "start_time": "2023-12-08T21:09:11.350115Z"
    }
   },
   "outputs": [],
   "source": [
    "import numpy as np\n",
    "import pandas as pd\n",
    "import itertools\n",
    "\n",
    "import matplotlib.pyplot as plt"
   ]
  },
  {
   "cell_type": "markdown",
   "id": "5283909b-aee4-4b01-b5c6-dff3d391ffe0",
   "metadata": {},
   "source": [
    "# Training dataset"
   ]
  },
  {
   "cell_type": "code",
   "execution_count": 9,
   "id": "0cfc1d0c-978f-4725-a2bb-c99eaea31e29",
   "metadata": {
    "ExecuteTime": {
     "end_time": "2023-12-08T21:09:12.411435Z",
     "start_time": "2023-12-08T21:09:12.365602Z"
    }
   },
   "outputs": [],
   "source": [
    "df = pd.read_csv('../../data/pp_4l_all.csv')\n",
    "cols_cont = [\n",
    "    'E1', 'p1x', 'p1y', 'p1z', \n",
    "    'E2', 'p2x', 'p2y', 'p2z',\n",
    "    'E3', 'p3x', 'p3y', 'p3z',\n",
    "    'E4', 'p4x', 'p4y', 'p4z', \n",
    "]\n",
    "cols_cat = ['pdg1', 'pdg2', 'pdg3', 'pdg4']\n",
    "\n",
    "df['schema'] = df[cols_cat].groupby(by=cols_cat).ngroup().values"
   ]
  },
  {
   "cell_type": "code",
   "execution_count": 10,
   "id": "a41a7ff4-6246-4a1d-bb6c-167bb22dffa7",
   "metadata": {
    "ExecuteTime": {
     "end_time": "2023-12-08T21:09:13.356808Z",
     "start_time": "2023-12-08T21:09:13.352386Z"
    }
   },
   "outputs": [
    {
     "data": {
      "text/plain": "   pdg1          E1        p1x        p1y         p1z  pdg2          E2  \\\n0    11   20.274241  13.753708   1.397849   14.829915   -11   13.459523   \n1    13  152.820099  63.584427  18.996694 -137.659427   -13  164.917905   \n2    11   51.267102  27.995380  26.039697   34.154190   -11   43.013595   \n3    13   64.805282  -3.653628  46.355274   45.139262   -13   38.158727   \n4    13   25.501529  17.607195  -7.617831  -16.800957   -13   22.270427   \n\n         p2x        p2y         p2z  ...          E3        p3x        p3y  \\\n0 -13.458053  -0.178631    0.087476  ...   10.726935   1.457106  -9.715445   \n1   4.471840  31.646155 -161.791309  ...  137.529487 -39.586901 -44.338982   \n2  -7.827488 -17.337374  -38.578689  ...  123.210062   0.378806 -41.833551   \n3 -29.094263 -15.298609  -19.379208  ...   57.805237  34.629435  10.578369   \n4   3.366801  16.786119  -14.242599  ...   36.269401 -21.935459  13.187325   \n\n          p3z  pdg4         E4        p4x        p4y        p4z  schema  \n0   -4.306151   -13  19.941356  -1.752761   8.496227  17.955180       1  \n1 -124.021291   -13  39.559938 -28.469366  -6.303867 -26.734509       2  \n2  115.890116   -13  46.883635 -20.546697  33.131228  26.042638       1  \n3   45.059234   -13  42.993259  -1.881544 -41.635034  10.554281       2  \n4  -25.698023   -13  47.012227   0.961463 -22.355613 -41.345380       2  \n\n[5 rows x 21 columns]",
      "text/html": "<div>\n<style scoped>\n    .dataframe tbody tr th:only-of-type {\n        vertical-align: middle;\n    }\n\n    .dataframe tbody tr th {\n        vertical-align: top;\n    }\n\n    .dataframe thead th {\n        text-align: right;\n    }\n</style>\n<table border=\"1\" class=\"dataframe\">\n  <thead>\n    <tr style=\"text-align: right;\">\n      <th></th>\n      <th>pdg1</th>\n      <th>E1</th>\n      <th>p1x</th>\n      <th>p1y</th>\n      <th>p1z</th>\n      <th>pdg2</th>\n      <th>E2</th>\n      <th>p2x</th>\n      <th>p2y</th>\n      <th>p2z</th>\n      <th>...</th>\n      <th>E3</th>\n      <th>p3x</th>\n      <th>p3y</th>\n      <th>p3z</th>\n      <th>pdg4</th>\n      <th>E4</th>\n      <th>p4x</th>\n      <th>p4y</th>\n      <th>p4z</th>\n      <th>schema</th>\n    </tr>\n  </thead>\n  <tbody>\n    <tr>\n      <th>0</th>\n      <td>11</td>\n      <td>20.274241</td>\n      <td>13.753708</td>\n      <td>1.397849</td>\n      <td>14.829915</td>\n      <td>-11</td>\n      <td>13.459523</td>\n      <td>-13.458053</td>\n      <td>-0.178631</td>\n      <td>0.087476</td>\n      <td>...</td>\n      <td>10.726935</td>\n      <td>1.457106</td>\n      <td>-9.715445</td>\n      <td>-4.306151</td>\n      <td>-13</td>\n      <td>19.941356</td>\n      <td>-1.752761</td>\n      <td>8.496227</td>\n      <td>17.955180</td>\n      <td>1</td>\n    </tr>\n    <tr>\n      <th>1</th>\n      <td>13</td>\n      <td>152.820099</td>\n      <td>63.584427</td>\n      <td>18.996694</td>\n      <td>-137.659427</td>\n      <td>-13</td>\n      <td>164.917905</td>\n      <td>4.471840</td>\n      <td>31.646155</td>\n      <td>-161.791309</td>\n      <td>...</td>\n      <td>137.529487</td>\n      <td>-39.586901</td>\n      <td>-44.338982</td>\n      <td>-124.021291</td>\n      <td>-13</td>\n      <td>39.559938</td>\n      <td>-28.469366</td>\n      <td>-6.303867</td>\n      <td>-26.734509</td>\n      <td>2</td>\n    </tr>\n    <tr>\n      <th>2</th>\n      <td>11</td>\n      <td>51.267102</td>\n      <td>27.995380</td>\n      <td>26.039697</td>\n      <td>34.154190</td>\n      <td>-11</td>\n      <td>43.013595</td>\n      <td>-7.827488</td>\n      <td>-17.337374</td>\n      <td>-38.578689</td>\n      <td>...</td>\n      <td>123.210062</td>\n      <td>0.378806</td>\n      <td>-41.833551</td>\n      <td>115.890116</td>\n      <td>-13</td>\n      <td>46.883635</td>\n      <td>-20.546697</td>\n      <td>33.131228</td>\n      <td>26.042638</td>\n      <td>1</td>\n    </tr>\n    <tr>\n      <th>3</th>\n      <td>13</td>\n      <td>64.805282</td>\n      <td>-3.653628</td>\n      <td>46.355274</td>\n      <td>45.139262</td>\n      <td>-13</td>\n      <td>38.158727</td>\n      <td>-29.094263</td>\n      <td>-15.298609</td>\n      <td>-19.379208</td>\n      <td>...</td>\n      <td>57.805237</td>\n      <td>34.629435</td>\n      <td>10.578369</td>\n      <td>45.059234</td>\n      <td>-13</td>\n      <td>42.993259</td>\n      <td>-1.881544</td>\n      <td>-41.635034</td>\n      <td>10.554281</td>\n      <td>2</td>\n    </tr>\n    <tr>\n      <th>4</th>\n      <td>13</td>\n      <td>25.501529</td>\n      <td>17.607195</td>\n      <td>-7.617831</td>\n      <td>-16.800957</td>\n      <td>-13</td>\n      <td>22.270427</td>\n      <td>3.366801</td>\n      <td>16.786119</td>\n      <td>-14.242599</td>\n      <td>...</td>\n      <td>36.269401</td>\n      <td>-21.935459</td>\n      <td>13.187325</td>\n      <td>-25.698023</td>\n      <td>-13</td>\n      <td>47.012227</td>\n      <td>0.961463</td>\n      <td>-22.355613</td>\n      <td>-41.345380</td>\n      <td>2</td>\n    </tr>\n  </tbody>\n</table>\n<p>5 rows × 21 columns</p>\n</div>"
     },
     "execution_count": 10,
     "metadata": {},
     "output_type": "execute_result"
    }
   ],
   "source": [
    "df.head()"
   ]
  },
  {
   "cell_type": "code",
   "execution_count": 11,
   "id": "dcd5097f-2fe4-4d07-91f1-a263574bc1f1",
   "metadata": {
    "ExecuteTime": {
     "end_time": "2023-12-08T21:09:14.887440Z",
     "start_time": "2023-12-08T21:09:14.878184Z"
    }
   },
   "outputs": [
    {
     "data": {
      "text/plain": "Index(['pdg1', 'E1', 'p1x', 'p1y', 'p1z', 'pdg2', 'E2', 'p2x', 'p2y', 'p2z',\n       'pdg3', 'E3', 'p3x', 'p3y', 'p3z', 'pdg4', 'E4', 'p4x', 'p4y', 'p4z',\n       'schema'],\n      dtype='object')"
     },
     "execution_count": 11,
     "metadata": {},
     "output_type": "execute_result"
    }
   ],
   "source": [
    "df.columns"
   ]
  },
  {
   "cell_type": "code",
   "execution_count": 12,
   "id": "774bad4e-fb47-4f8d-ab08-3c96fe69d9b3",
   "metadata": {
    "ExecuteTime": {
     "end_time": "2023-12-08T21:09:16.325730Z",
     "start_time": "2023-12-08T21:09:16.319546Z"
    }
   },
   "outputs": [
    {
     "data": {
      "text/plain": "[['E1', 'p1x', 'p1y', 'p1z'],\n ['E2', 'p2x', 'p2y', 'p2z'],\n ['E3', 'p3x', 'p3y', 'p3z'],\n ['E4', 'p4x', 'p4y', 'p4z']]"
     },
     "execution_count": 12,
     "metadata": {},
     "output_type": "execute_result"
    }
   ],
   "source": [
    "schemas = [['E1', 'p1x', 'p1y', 'p1z'], \n",
    "           ['E2', 'p2x', 'p2y', 'p2z'],\n",
    "           ['E3', 'p3x', 'p3y', 'p3z'], \n",
    "           ['E4', 'p4x', 'p4y', 'p4z']]\n",
    "schemas"
   ]
  },
  {
   "cell_type": "code",
   "execution_count": 13,
   "id": "4c590b14-60ba-4484-9257-0388870155dd",
   "metadata": {
    "ExecuteTime": {
     "end_time": "2023-12-08T21:09:18.236562Z",
     "start_time": "2023-12-08T21:09:18.114464Z"
    }
   },
   "outputs": [
    {
     "data": {
      "text/plain": "(480000, 16)"
     },
     "execution_count": 13,
     "metadata": {},
     "output_type": "execute_result"
    }
   ],
   "source": [
    "data = None\n",
    "for c in itertools.permutations(schemas):\n",
    "    d = df[np.array(c).flatten().tolist()]\n",
    "    data = d if data is None else pd.concat([data, d], axis=0)\n",
    "data.shape"
   ]
  },
  {
   "cell_type": "code",
   "execution_count": 14,
   "id": "1bec3679-1cdf-4ff0-b214-ec0136fc8210",
   "metadata": {
    "ExecuteTime": {
     "end_time": "2023-12-08T21:09:19.485983Z",
     "start_time": "2023-12-08T21:09:19.446067Z"
    }
   },
   "outputs": [],
   "source": [
    "e_sum_sq = np.power(data['E1'] + data['E2'] + data['E3'] + data['E4'], 2)\n",
    "x_sum_sq = np.power(data['p1x'] + data['p2x'] + data['p3x'] + data['p4x'], 2)\n",
    "y_sum_sq = np.power(data['p1y'] + data['p2y'] + data['p3y'] + data['p4y'], 2)\n",
    "z_sum_sq = np.power(data['p1z'] + data['p2z'] + data['p3z'] + data['p4z'], 2)\n",
    "m_values = np.sqrt(e_sum_sq - x_sum_sq - y_sum_sq - z_sum_sq)"
   ]
  },
  {
   "cell_type": "code",
   "execution_count": 15,
   "id": "5c8617c4-22e0-48e9-bd4a-4874937f033a",
   "metadata": {
    "ExecuteTime": {
     "end_time": "2023-12-08T21:09:20.882296Z",
     "start_time": "2023-12-08T21:09:20.778446Z"
    }
   },
   "outputs": [
    {
     "data": {
      "text/plain": "<Figure size 1500x300 with 1 Axes>",
      "image/png": "[encoded data removed]"
     },
     "metadata": {},
     "output_type": "display_data"
    }
   ],
   "source": [
    "plt.figure(figsize=(15, 3))\n",
    "plt.hist(m_values, bins=100, range=(0, 500), edgecolor='black')\n",
    "plt.show()"
   ]
  },
  {
   "cell_type": "code",
   "execution_count": 16,
   "id": "7facfff6-97fb-4561-9540-7d17c9712eaf",
   "metadata": {
    "ExecuteTime": {
     "end_time": "2023-12-08T21:09:27.189152Z",
     "start_time": "2023-12-08T21:09:23.517944Z"
    }
   },
   "outputs": [],
   "source": [
    "data.to_csv('four_guys.csv', header=None, sep=\" \", index=None)"
   ]
  },
  {
   "cell_type": "markdown",
   "id": "e431d296-ecec-4819-a9c7-0b2481ebcf3f",
   "metadata": {},
   "source": [
    "# Generated dataset"
   ]
  },
  {
   "cell_type": "code",
   "execution_count": 17,
   "id": "bb38ffbc-08e4-46d4-b4cb-a8f9923f3a76",
   "metadata": {
    "ExecuteTime": {
     "end_time": "2023-12-08T21:09:29.359537Z",
     "start_time": "2023-12-08T21:09:28.550790Z"
    }
   },
   "outputs": [],
   "source": [
    "gf = pd.read_csv('four_guys.csv.gen_events.csv', sep=\" \", header=None, names=np.array(schemas).flatten().tolist())"
   ]
  },
  {
   "cell_type": "code",
   "execution_count": 18,
   "id": "eeba7e41-6843-4932-b8e2-3f718e3ac81e",
   "metadata": {
    "ExecuteTime": {
     "end_time": "2023-12-08T21:09:29.368394Z",
     "start_time": "2023-12-08T21:09:29.364528Z"
    }
   },
   "outputs": [
    {
     "data": {
      "text/plain": "            E1         p1x         p1y          p1z           E2         p2x  \\\n0  2639.257568 -399.186188 -408.499786 -2600.028809  1857.257812  429.001740   \n1  2639.286377 -399.186188 -408.499786 -2600.028809  1857.257812  429.001953   \n2  2638.516846 -399.186188 -408.499786 -2600.028809  1857.251221  428.993988   \n3  2639.288574 -399.186188 -408.499786 -2600.028809  1857.257812  429.001892   \n4  2639.276855 -399.186188 -408.499786 -2600.028809  1857.255737  429.001343   \n\n          p2y          p2z           E3         p3x         p3y          p3z  \\\n0  517.007141  1831.779907 -1286.508911 -478.360229 -411.545074 -1253.517090   \n1  517.011963  1831.784058 -1286.508911 -478.360229 -411.545074 -1253.531128   \n2  517.010559  1831.736694 -1286.508911 -478.360229 -411.545074 -1253.123169   \n3  517.012268  1831.777344 -1286.508911 -478.360229 -411.545074 -1253.515991   \n4  517.011353  1831.395386 -1286.508911 -478.360229 -411.545074 -1252.498657   \n\n            E4         p4x         p4y          p4z  \n0 -2205.259033  503.373932  414.459625  2146.567383  \n1 -2205.419189  503.373932  414.459625  2146.567383  \n2 -2200.722168  503.373932  414.458801  2146.567383  \n3 -2205.727051  503.373932  414.459625  2146.567383  \n4 -2205.713623  503.373932  414.459625  2146.567383  ",
      "text/html": "<div>\n<style scoped>\n    .dataframe tbody tr th:only-of-type {\n        vertical-align: middle;\n    }\n\n    .dataframe tbody tr th {\n        vertical-align: top;\n    }\n\n    .dataframe thead th {\n        text-align: right;\n    }\n</style>\n<table border=\"1\" class=\"dataframe\">\n  <thead>\n    <tr style=\"text-align: right;\">\n      <th></th>\n      <th>E1</th>\n      <th>p1x</th>\n      <th>p1y</th>\n      <th>p1z</th>\n      <th>E2</th>\n      <th>p2x</th>\n      <th>p2y</th>\n      <th>p2z</th>\n      <th>E3</th>\n      <th>p3x</th>\n      <th>p3y</th>\n      <th>p3z</th>\n      <th>E4</th>\n      <th>p4x</th>\n      <th>p4y</th>\n      <th>p4z</th>\n    </tr>\n  </thead>\n  <tbody>\n    <tr>\n      <th>0</th>\n      <td>2639.257568</td>\n      <td>-399.186188</td>\n      <td>-408.499786</td>\n      <td>-2600.028809</td>\n      <td>1857.257812</td>\n      <td>429.001740</td>\n      <td>517.007141</td>\n      <td>1831.779907</td>\n      <td>-1286.508911</td>\n      <td>-478.360229</td>\n      <td>-411.545074</td>\n      <td>-1253.517090</td>\n      <td>-2205.259033</td>\n      <td>503.373932</td>\n      <td>414.459625</td>\n      <td>2146.567383</td>\n    </tr>\n    <tr>\n      <th>1</th>\n      <td>2639.286377</td>\n      <td>-399.186188</td>\n      <td>-408.499786</td>\n      <td>-2600.028809</td>\n      <td>1857.257812</td>\n      <td>429.001953</td>\n      <td>517.011963</td>\n      <td>1831.784058</td>\n      <td>-1286.508911</td>\n      <td>-478.360229</td>\n      <td>-411.545074</td>\n      <td>-1253.531128</td>\n      <td>-2205.419189</td>\n      <td>503.373932</td>\n      <td>414.459625</td>\n      <td>2146.567383</td>\n    </tr>\n    <tr>\n      <th>2</th>\n      <td>2638.516846</td>\n      <td>-399.186188</td>\n      <td>-408.499786</td>\n      <td>-2600.028809</td>\n      <td>1857.251221</td>\n      <td>428.993988</td>\n      <td>517.010559</td>\n      <td>1831.736694</td>\n      <td>-1286.508911</td>\n      <td>-478.360229</td>\n      <td>-411.545074</td>\n      <td>-1253.123169</td>\n      <td>-2200.722168</td>\n      <td>503.373932</td>\n      <td>414.458801</td>\n      <td>2146.567383</td>\n    </tr>\n    <tr>\n      <th>3</th>\n      <td>2639.288574</td>\n      <td>-399.186188</td>\n      <td>-408.499786</td>\n      <td>-2600.028809</td>\n      <td>1857.257812</td>\n      <td>429.001892</td>\n      <td>517.012268</td>\n      <td>1831.777344</td>\n      <td>-1286.508911</td>\n      <td>-478.360229</td>\n      <td>-411.545074</td>\n      <td>-1253.515991</td>\n      <td>-2205.727051</td>\n      <td>503.373932</td>\n      <td>414.459625</td>\n      <td>2146.567383</td>\n    </tr>\n    <tr>\n      <th>4</th>\n      <td>2639.276855</td>\n      <td>-399.186188</td>\n      <td>-408.499786</td>\n      <td>-2600.028809</td>\n      <td>1857.255737</td>\n      <td>429.001343</td>\n      <td>517.011353</td>\n      <td>1831.395386</td>\n      <td>-1286.508911</td>\n      <td>-478.360229</td>\n      <td>-411.545074</td>\n      <td>-1252.498657</td>\n      <td>-2205.713623</td>\n      <td>503.373932</td>\n      <td>414.459625</td>\n      <td>2146.567383</td>\n    </tr>\n  </tbody>\n</table>\n</div>"
     },
     "execution_count": 18,
     "metadata": {},
     "output_type": "execute_result"
    }
   ],
   "source": [
    "gf.head()"
   ]
  },
  {
   "cell_type": "code",
   "execution_count": 19,
   "id": "e17c4463-6abd-45c8-8388-dff850b28506",
   "metadata": {
    "ExecuteTime": {
     "end_time": "2023-12-08T21:09:30.343624Z",
     "start_time": "2023-12-08T21:09:30.323799Z"
    }
   },
   "outputs": [],
   "source": [
    "e_sum_sq_g = np.power(gf['E1'] + gf['E2'] + gf['E3'] + gf['E4'], 2)\n",
    "x_sum_sq_g = np.power(gf['p1x'] + gf['p2x'] + gf['p3x'] + gf['p4x'], 2)\n",
    "y_sum_sq_g = np.power(gf['p1y'] + gf['p2y'] + gf['p3y'] + gf['p4y'], 2)\n",
    "z_sum_sq_g = np.power(gf['p1z'] + gf['p2z'] + gf['p3z'] + gf['p4z'], 2)\n",
    "m_values_g = np.sqrt(e_sum_sq_g - x_sum_sq_g - y_sum_sq_g - z_sum_sq_g)"
   ]
  },
  {
   "cell_type": "code",
   "execution_count": 21,
   "id": "280e21c1-e5a7-4b50-9bf0-363c93a77295",
   "metadata": {
    "ExecuteTime": {
     "end_time": "2023-12-08T21:09:40.391479Z",
     "start_time": "2023-12-08T21:09:40.271325Z"
    }
   },
   "outputs": [
    {
     "data": {
      "text/plain": "<Figure size 1500x300 with 1 Axes>",
      "image/png": "[encoded data removed]"
     },
     "metadata": {},
     "output_type": "display_data"
    }
   ],
   "source": [
    "plt.figure(figsize=(15, 3))\n",
    "plt.hist([m_values, m_values_g], bins=200, histtype='step', label=['training','generated'])\n",
    "plt.legend()\n",
    "plt.show()"
   ]
  },
  {
   "cell_type": "markdown",
   "id": "d042197a-adbd-4787-903d-bf7b1db9e592",
   "metadata": {},
   "source": [
    "# Training info"
   ]
  },
  {
   "cell_type": "code",
   "execution_count": 22,
   "id": "1af343b3-4b74-4752-a892-81092acdacbd",
   "metadata": {
    "ExecuteTime": {
     "end_time": "2023-12-08T21:09:45.994581Z",
     "start_time": "2023-12-08T21:09:45.987230Z"
    }
   },
   "outputs": [
    {
     "data": {
      "text/plain": "   epoch      loss       mse  val_loss   val_mse\n0      0  0.352892  0.990530  0.001255  1.010173\n1      1  0.001148  1.010076  0.001255  1.010174\n2      2  0.001148  1.010078  0.001255  1.010176\n3      3  0.001148  1.010080  0.001255  1.010179\n4      4  0.001148  1.010084  0.001255  1.010183",
      "text/html": "<div>\n<style scoped>\n    .dataframe tbody tr th:only-of-type {\n        vertical-align: middle;\n    }\n\n    .dataframe tbody tr th {\n        vertical-align: top;\n    }\n\n    .dataframe thead th {\n        text-align: right;\n    }\n</style>\n<table border=\"1\" class=\"dataframe\">\n  <thead>\n    <tr style=\"text-align: right;\">\n      <th></th>\n      <th>epoch</th>\n      <th>loss</th>\n      <th>mse</th>\n      <th>val_loss</th>\n      <th>val_mse</th>\n    </tr>\n  </thead>\n  <tbody>\n    <tr>\n      <th>0</th>\n      <td>0</td>\n      <td>0.352892</td>\n      <td>0.990530</td>\n      <td>0.001255</td>\n      <td>1.010173</td>\n    </tr>\n    <tr>\n      <th>1</th>\n      <td>1</td>\n      <td>0.001148</td>\n      <td>1.010076</td>\n      <td>0.001255</td>\n      <td>1.010174</td>\n    </tr>\n    <tr>\n      <th>2</th>\n      <td>2</td>\n      <td>0.001148</td>\n      <td>1.010078</td>\n      <td>0.001255</td>\n      <td>1.010176</td>\n    </tr>\n    <tr>\n      <th>3</th>\n      <td>3</td>\n      <td>0.001148</td>\n      <td>1.010080</td>\n      <td>0.001255</td>\n      <td>1.010179</td>\n    </tr>\n    <tr>\n      <th>4</th>\n      <td>4</td>\n      <td>0.001148</td>\n      <td>1.010084</td>\n      <td>0.001255</td>\n      <td>1.010183</td>\n    </tr>\n  </tbody>\n</table>\n</div>"
     },
     "execution_count": 22,
     "metadata": {},
     "output_type": "execute_result"
    }
   ],
   "source": [
    "log = pd.read_csv('four_guys.csv.log')\n",
    "log.head()"
   ]
  },
  {
   "cell_type": "code",
   "execution_count": 23,
   "id": "95feba57-2131-4888-8a11-e55a356526c8",
   "metadata": {
    "ExecuteTime": {
     "end_time": "2023-12-08T21:09:47.550965Z",
     "start_time": "2023-12-08T21:09:47.328759Z"
    }
   },
   "outputs": [
    {
     "data": {
      "text/plain": "<Figure size 1500x700 with 1 Axes>",
      "image/png": "[encoded data removed]"
     },
     "metadata": {},
     "output_type": "display_data"
    }
   ],
   "source": [
    "plt.figure(figsize=(15, 7))\n",
    "plt.plot(log.index, log.val_loss, label='val_loss')\n",
    "plt.plot(log.index, log.val_mse, label='val_mse')\n",
    "# plt.plot(log.index, log.loss, label='loss')\n",
    "# plt.plot(log.index, log.mse, label='mse')\n",
    "\n",
    "#plt.xlim((-1, 500))\n",
    "plt.yscale('log')\n",
    "plt.legend()\n",
    "plt.show()"
   ]
  },
  {
   "cell_type": "code",
   "execution_count": null,
   "id": "1efdc9c9-7ad8-48b6-a79e-2e08ae7e0a0a",
   "metadata": {},
   "outputs": [],
   "source": []
  }
 ],
 "metadata": {
  "hide_input": false,
  "kernelspec": {
   "display_name": "Python 3 (ipykernel)",
   "language": "python",
   "name": "python3"
  },
  "language_info": {
   "codemirror_mode": {
    "name": "ipython",
    "version": 3
   },
   "file_extension": ".py",
   "mimetype": "text/x-python",
   "name": "python",
   "nbconvert_exporter": "python",
   "pygments_lexer": "ipython3",
   "version": "3.11.4"
  },
  "varInspector": {
   "cols": {
    "lenName": 16,
    "lenType": 16,
    "lenVar": 40
   },
   "kernels_config": {
    "python": {
     "delete_cmd_postfix": "",
     "delete_cmd_prefix": "del ",
     "library": "var_list.py",
     "varRefreshCmd": "print(var_dic_list())"
    },
    "r": {
     "delete_cmd_postfix": ") ",
     "delete_cmd_prefix": "rm(",
     "library": "var_list.r",
     "varRefreshCmd": "cat(var_dic_list()) "
    }
   },
   "types_to_exclude": [
    "module",
    "function",
    "builtin_function_or_method",
    "instance",
    "_Feature"
   ],
   "window_display": false
  },
  "vscode": {
   "interpreter": {
    "hash": "876db32bcdd17dd4862348d8c3433074a8a31c58638b33213fce1000d94889d4"
   }
  }
 },
 "nbformat": 4,
 "nbformat_minor": 5
}
