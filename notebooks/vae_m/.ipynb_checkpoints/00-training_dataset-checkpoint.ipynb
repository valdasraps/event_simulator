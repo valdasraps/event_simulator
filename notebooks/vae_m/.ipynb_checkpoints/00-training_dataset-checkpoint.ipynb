{
 "cells": [
  {
   "cell_type": "code",
   "execution_count": 1,
   "id": "afd63094-bbae-49d3-a73c-a00dba5e81d7",
   "metadata": {
    "ExecuteTime": {
     "end_time": "2023-12-08T21:09:11.353049Z",
     "start_time": "2023-12-08T21:09:11.350115Z"
    }
   },
   "outputs": [],
   "source": [
    "import numpy as np\n",
    "import pandas as pd\n",
    "import itertools\n",
    "\n",
    "import matplotlib.pyplot as plt"
   ]
  },
  {
   "cell_type": "markdown",
   "id": "5283909b-aee4-4b01-b5c6-dff3d391ffe0",
   "metadata": {},
   "source": [
    "# Training dataset"
   ]
  },
  {
   "cell_type": "code",
   "execution_count": 2,
   "id": "0cfc1d0c-978f-4725-a2bb-c99eaea31e29",
   "metadata": {
    "ExecuteTime": {
     "end_time": "2023-12-08T21:09:12.411435Z",
     "start_time": "2023-12-08T21:09:12.365602Z"
    }
   },
   "outputs": [],
   "source": [
    "df = pd.read_csv('../../data/pp_4l_all.csv')\n",
    "cols_cont = [\n",
    "    'E1', 'p1x', 'p1y', 'p1z', \n",
    "    'E2', 'p2x', 'p2y', 'p2z',\n",
    "    'E3', 'p3x', 'p3y', 'p3z',\n",
    "    'E4', 'p4x', 'p4y', 'p4z', \n",
    "]\n",
    "cols_cat = ['pdg1', 'pdg2', 'pdg3', 'pdg4']\n",
    "\n",
    "df['schema'] = df[cols_cat].groupby(by=cols_cat).ngroup().values"
   ]
  },
  {
   "cell_type": "code",
   "execution_count": 3,
   "id": "a41a7ff4-6246-4a1d-bb6c-167bb22dffa7",
   "metadata": {
    "ExecuteTime": {
     "end_time": "2023-12-08T21:09:13.356808Z",
     "start_time": "2023-12-08T21:09:13.352386Z"
    }
   },
   "outputs": [
    {
     "data": {
      "text/html": [
       "<div>\n",
       "<style scoped>\n",
       "    .dataframe tbody tr th:only-of-type {\n",
       "        vertical-align: middle;\n",
       "    }\n",
       "\n",
       "    .dataframe tbody tr th {\n",
       "        vertical-align: top;\n",
       "    }\n",
       "\n",
       "    .dataframe thead th {\n",
       "        text-align: right;\n",
       "    }\n",
       "</style>\n",
       "<table border=\"1\" class=\"dataframe\">\n",
       "  <thead>\n",
       "    <tr style=\"text-align: right;\">\n",
       "      <th></th>\n",
       "      <th>pdg1</th>\n",
       "      <th>E1</th>\n",
       "      <th>p1x</th>\n",
       "      <th>p1y</th>\n",
       "      <th>p1z</th>\n",
       "      <th>pdg2</th>\n",
       "      <th>E2</th>\n",
       "      <th>p2x</th>\n",
       "      <th>p2y</th>\n",
       "      <th>p2z</th>\n",
       "      <th>...</th>\n",
       "      <th>E3</th>\n",
       "      <th>p3x</th>\n",
       "      <th>p3y</th>\n",
       "      <th>p3z</th>\n",
       "      <th>pdg4</th>\n",
       "      <th>E4</th>\n",
       "      <th>p4x</th>\n",
       "      <th>p4y</th>\n",
       "      <th>p4z</th>\n",
       "      <th>schema</th>\n",
       "    </tr>\n",
       "  </thead>\n",
       "  <tbody>\n",
       "    <tr>\n",
       "      <th>0</th>\n",
       "      <td>11</td>\n",
       "      <td>20.274241</td>\n",
       "      <td>13.753708</td>\n",
       "      <td>1.397849</td>\n",
       "      <td>14.829915</td>\n",
       "      <td>-11</td>\n",
       "      <td>13.459523</td>\n",
       "      <td>-13.458053</td>\n",
       "      <td>-0.178631</td>\n",
       "      <td>0.087476</td>\n",
       "      <td>...</td>\n",
       "      <td>10.726935</td>\n",
       "      <td>1.457106</td>\n",
       "      <td>-9.715445</td>\n",
       "      <td>-4.306151</td>\n",
       "      <td>-13</td>\n",
       "      <td>19.941356</td>\n",
       "      <td>-1.752761</td>\n",
       "      <td>8.496227</td>\n",
       "      <td>17.955180</td>\n",
       "      <td>1</td>\n",
       "    </tr>\n",
       "    <tr>\n",
       "      <th>1</th>\n",
       "      <td>13</td>\n",
       "      <td>152.820099</td>\n",
       "      <td>63.584427</td>\n",
       "      <td>18.996694</td>\n",
       "      <td>-137.659427</td>\n",
       "      <td>-13</td>\n",
       "      <td>164.917905</td>\n",
       "      <td>4.471840</td>\n",
       "      <td>31.646155</td>\n",
       "      <td>-161.791309</td>\n",
       "      <td>...</td>\n",
       "      <td>137.529487</td>\n",
       "      <td>-39.586901</td>\n",
       "      <td>-44.338982</td>\n",
       "      <td>-124.021291</td>\n",
       "      <td>-13</td>\n",
       "      <td>39.559938</td>\n",
       "      <td>-28.469366</td>\n",
       "      <td>-6.303867</td>\n",
       "      <td>-26.734509</td>\n",
       "      <td>2</td>\n",
       "    </tr>\n",
       "    <tr>\n",
       "      <th>2</th>\n",
       "      <td>11</td>\n",
       "      <td>51.267102</td>\n",
       "      <td>27.995380</td>\n",
       "      <td>26.039697</td>\n",
       "      <td>34.154190</td>\n",
       "      <td>-11</td>\n",
       "      <td>43.013595</td>\n",
       "      <td>-7.827488</td>\n",
       "      <td>-17.337374</td>\n",
       "      <td>-38.578689</td>\n",
       "      <td>...</td>\n",
       "      <td>123.210062</td>\n",
       "      <td>0.378806</td>\n",
       "      <td>-41.833551</td>\n",
       "      <td>115.890116</td>\n",
       "      <td>-13</td>\n",
       "      <td>46.883635</td>\n",
       "      <td>-20.546697</td>\n",
       "      <td>33.131228</td>\n",
       "      <td>26.042638</td>\n",
       "      <td>1</td>\n",
       "    </tr>\n",
       "    <tr>\n",
       "      <th>3</th>\n",
       "      <td>13</td>\n",
       "      <td>64.805282</td>\n",
       "      <td>-3.653628</td>\n",
       "      <td>46.355274</td>\n",
       "      <td>45.139262</td>\n",
       "      <td>-13</td>\n",
       "      <td>38.158727</td>\n",
       "      <td>-29.094263</td>\n",
       "      <td>-15.298609</td>\n",
       "      <td>-19.379208</td>\n",
       "      <td>...</td>\n",
       "      <td>57.805237</td>\n",
       "      <td>34.629435</td>\n",
       "      <td>10.578369</td>\n",
       "      <td>45.059234</td>\n",
       "      <td>-13</td>\n",
       "      <td>42.993259</td>\n",
       "      <td>-1.881544</td>\n",
       "      <td>-41.635034</td>\n",
       "      <td>10.554281</td>\n",
       "      <td>2</td>\n",
       "    </tr>\n",
       "    <tr>\n",
       "      <th>4</th>\n",
       "      <td>13</td>\n",
       "      <td>25.501529</td>\n",
       "      <td>17.607195</td>\n",
       "      <td>-7.617831</td>\n",
       "      <td>-16.800957</td>\n",
       "      <td>-13</td>\n",
       "      <td>22.270427</td>\n",
       "      <td>3.366801</td>\n",
       "      <td>16.786119</td>\n",
       "      <td>-14.242599</td>\n",
       "      <td>...</td>\n",
       "      <td>36.269401</td>\n",
       "      <td>-21.935459</td>\n",
       "      <td>13.187325</td>\n",
       "      <td>-25.698023</td>\n",
       "      <td>-13</td>\n",
       "      <td>47.012227</td>\n",
       "      <td>0.961463</td>\n",
       "      <td>-22.355613</td>\n",
       "      <td>-41.345380</td>\n",
       "      <td>2</td>\n",
       "    </tr>\n",
       "  </tbody>\n",
       "</table>\n",
       "<p>5 rows × 21 columns</p>\n",
       "</div>"
      ],
      "text/plain": [
       "   pdg1          E1        p1x        p1y         p1z  pdg2          E2  \\\n",
       "0    11   20.274241  13.753708   1.397849   14.829915   -11   13.459523   \n",
       "1    13  152.820099  63.584427  18.996694 -137.659427   -13  164.917905   \n",
       "2    11   51.267102  27.995380  26.039697   34.154190   -11   43.013595   \n",
       "3    13   64.805282  -3.653628  46.355274   45.139262   -13   38.158727   \n",
       "4    13   25.501529  17.607195  -7.617831  -16.800957   -13   22.270427   \n",
       "\n",
       "         p2x        p2y         p2z  ...          E3        p3x        p3y  \\\n",
       "0 -13.458053  -0.178631    0.087476  ...   10.726935   1.457106  -9.715445   \n",
       "1   4.471840  31.646155 -161.791309  ...  137.529487 -39.586901 -44.338982   \n",
       "2  -7.827488 -17.337374  -38.578689  ...  123.210062   0.378806 -41.833551   \n",
       "3 -29.094263 -15.298609  -19.379208  ...   57.805237  34.629435  10.578369   \n",
       "4   3.366801  16.786119  -14.242599  ...   36.269401 -21.935459  13.187325   \n",
       "\n",
       "          p3z  pdg4         E4        p4x        p4y        p4z  schema  \n",
       "0   -4.306151   -13  19.941356  -1.752761   8.496227  17.955180       1  \n",
       "1 -124.021291   -13  39.559938 -28.469366  -6.303867 -26.734509       2  \n",
       "2  115.890116   -13  46.883635 -20.546697  33.131228  26.042638       1  \n",
       "3   45.059234   -13  42.993259  -1.881544 -41.635034  10.554281       2  \n",
       "4  -25.698023   -13  47.012227   0.961463 -22.355613 -41.345380       2  \n",
       "\n",
       "[5 rows x 21 columns]"
      ]
     },
     "execution_count": 3,
     "metadata": {},
     "output_type": "execute_result"
    }
   ],
   "source": [
    "df.head()"
   ]
  },
  {
   "cell_type": "code",
   "execution_count": 4,
   "id": "dcd5097f-2fe4-4d07-91f1-a263574bc1f1",
   "metadata": {
    "ExecuteTime": {
     "end_time": "2023-12-08T21:09:14.887440Z",
     "start_time": "2023-12-08T21:09:14.878184Z"
    }
   },
   "outputs": [
    {
     "data": {
      "text/plain": [
       "Index(['pdg1', 'E1', 'p1x', 'p1y', 'p1z', 'pdg2', 'E2', 'p2x', 'p2y', 'p2z',\n",
       "       'pdg3', 'E3', 'p3x', 'p3y', 'p3z', 'pdg4', 'E4', 'p4x', 'p4y', 'p4z',\n",
       "       'schema'],\n",
       "      dtype='object')"
      ]
     },
     "execution_count": 4,
     "metadata": {},
     "output_type": "execute_result"
    }
   ],
   "source": [
    "df.columns"
   ]
  },
  {
   "cell_type": "code",
   "execution_count": 5,
   "id": "774bad4e-fb47-4f8d-ab08-3c96fe69d9b3",
   "metadata": {
    "ExecuteTime": {
     "end_time": "2023-12-08T21:09:16.325730Z",
     "start_time": "2023-12-08T21:09:16.319546Z"
    }
   },
   "outputs": [
    {
     "data": {
      "text/plain": [
       "[['E1', 'p1x', 'p1y', 'p1z'],\n",
       " ['E2', 'p2x', 'p2y', 'p2z'],\n",
       " ['E3', 'p3x', 'p3y', 'p3z'],\n",
       " ['E4', 'p4x', 'p4y', 'p4z']]"
      ]
     },
     "execution_count": 5,
     "metadata": {},
     "output_type": "execute_result"
    }
   ],
   "source": [
    "schemas = [['E1', 'p1x', 'p1y', 'p1z'], \n",
    "           ['E2', 'p2x', 'p2y', 'p2z'],\n",
    "           ['E3', 'p3x', 'p3y', 'p3z'], \n",
    "           ['E4', 'p4x', 'p4y', 'p4z']]\n",
    "schemas"
   ]
  },
  {
   "cell_type": "code",
   "execution_count": 6,
   "id": "4c590b14-60ba-4484-9257-0388870155dd",
   "metadata": {
    "ExecuteTime": {
     "end_time": "2023-12-08T21:09:18.236562Z",
     "start_time": "2023-12-08T21:09:18.114464Z"
    }
   },
   "outputs": [
    {
     "data": {
      "text/plain": [
       "(480000, 16)"
      ]
     },
     "execution_count": 6,
     "metadata": {},
     "output_type": "execute_result"
    }
   ],
   "source": [
    "data = None\n",
    "for c in itertools.permutations(schemas):\n",
    "    d = df[np.array(c).flatten().tolist()]\n",
    "    data = d if data is None else pd.concat([data, d], axis=0)\n",
    "data.shape"
   ]
  },
  {
   "cell_type": "code",
   "execution_count": 7,
   "id": "1bec3679-1cdf-4ff0-b214-ec0136fc8210",
   "metadata": {
    "ExecuteTime": {
     "end_time": "2023-12-08T21:09:19.485983Z",
     "start_time": "2023-12-08T21:09:19.446067Z"
    }
   },
   "outputs": [],
   "source": [
    "e_sum_sq = np.power(data['E1'] + data['E2'] + data['E3'] + data['E4'], 2)\n",
    "x_sum_sq = np.power(data['p1x'] + data['p2x'] + data['p3x'] + data['p4x'], 2)\n",
    "y_sum_sq = np.power(data['p1y'] + data['p2y'] + data['p3y'] + data['p4y'], 2)\n",
    "z_sum_sq = np.power(data['p1z'] + data['p2z'] + data['p3z'] + data['p4z'], 2)\n",
    "m_values = np.sqrt(e_sum_sq - x_sum_sq - y_sum_sq - z_sum_sq)"
   ]
  },
  {
   "cell_type": "code",
   "execution_count": 8,
   "id": "5c8617c4-22e0-48e9-bd4a-4874937f033a",
   "metadata": {
    "ExecuteTime": {
     "end_time": "2023-12-08T21:09:20.882296Z",
     "start_time": "2023-12-08T21:09:20.778446Z"
    }
   },
   "outputs": [
    {
     "data": {
      "image/png": "[encoded data removed]",
      "text/plain": [
       "<Figure size 1500x300 with 1 Axes>"
      ]
     },
     "metadata": {},
     "output_type": "display_data"
    }
   ],
   "source": [
    "plt.figure(figsize=(15, 3))\n",
    "plt.hist(m_values, bins=100, range=(0, 500), edgecolor='black')\n",
    "plt.show()"
   ]
  },
  {
   "cell_type": "code",
   "execution_count": 9,
   "id": "7facfff6-97fb-4561-9540-7d17c9712eaf",
   "metadata": {
    "ExecuteTime": {
     "end_time": "2023-12-08T21:09:27.189152Z",
     "start_time": "2023-12-08T21:09:23.517944Z"
    }
   },
   "outputs": [],
   "source": [
    "data.to_csv('four_guys.csv', header=None, sep=\" \", index=None)"
   ]
  },
  {
   "cell_type": "markdown",
   "id": "e431d296-ecec-4819-a9c7-0b2481ebcf3f",
   "metadata": {},
   "source": [
    "# Generated dataset"
   ]
  },
  {
   "cell_type": "code",
   "execution_count": 95,
   "id": "bb38ffbc-08e4-46d4-b4cb-a8f9923f3a76",
   "metadata": {
    "ExecuteTime": {
     "end_time": "2023-12-08T21:09:29.359537Z",
     "start_time": "2023-12-08T21:09:28.550790Z"
    }
   },
   "outputs": [],
   "source": [
    "gf0 = pd.read_csv('../vae/four_guys.csv.gen_events.csv', sep=\" \", header=None, names=np.array(schemas).flatten().tolist())\n",
    "gf = pd.read_csv('four_guys.csv.gen_events.csv', sep=\" \", header=None, names=np.array(schemas).flatten().tolist())"
   ]
  },
  {
   "cell_type": "code",
   "execution_count": 96,
   "id": "eeba7e41-6843-4932-b8e2-3f718e3ac81e",
   "metadata": {
    "ExecuteTime": {
     "end_time": "2023-12-08T21:09:29.368394Z",
     "start_time": "2023-12-08T21:09:29.364528Z"
    }
   },
   "outputs": [
    {
     "data": {
      "text/html": [
       "<div>\n",
       "<style scoped>\n",
       "    .dataframe tbody tr th:only-of-type {\n",
       "        vertical-align: middle;\n",
       "    }\n",
       "\n",
       "    .dataframe tbody tr th {\n",
       "        vertical-align: top;\n",
       "    }\n",
       "\n",
       "    .dataframe thead th {\n",
       "        text-align: right;\n",
       "    }\n",
       "</style>\n",
       "<table border=\"1\" class=\"dataframe\">\n",
       "  <thead>\n",
       "    <tr style=\"text-align: right;\">\n",
       "      <th></th>\n",
       "      <th>E1</th>\n",
       "      <th>p1x</th>\n",
       "      <th>p1y</th>\n",
       "      <th>p1z</th>\n",
       "      <th>E2</th>\n",
       "      <th>p2x</th>\n",
       "      <th>p2y</th>\n",
       "      <th>p2z</th>\n",
       "      <th>E3</th>\n",
       "      <th>p3x</th>\n",
       "      <th>p3y</th>\n",
       "      <th>p3z</th>\n",
       "      <th>E4</th>\n",
       "      <th>p4x</th>\n",
       "      <th>p4y</th>\n",
       "      <th>p4z</th>\n",
       "    </tr>\n",
       "  </thead>\n",
       "  <tbody>\n",
       "    <tr>\n",
       "      <th>0</th>\n",
       "      <td>175.856079</td>\n",
       "      <td>-19.807190</td>\n",
       "      <td>-20.252741</td>\n",
       "      <td>-170.635651</td>\n",
       "      <td>48.693398</td>\n",
       "      <td>21.577595</td>\n",
       "      <td>41.828693</td>\n",
       "      <td>-20.910669</td>\n",
       "      <td>199.422302</td>\n",
       "      <td>-33.192181</td>\n",
       "      <td>11.514059</td>\n",
       "      <td>-192.389099</td>\n",
       "      <td>84.912758</td>\n",
       "      <td>30.506016</td>\n",
       "      <td>-31.559603</td>\n",
       "      <td>-73.875023</td>\n",
       "    </tr>\n",
       "    <tr>\n",
       "      <th>1</th>\n",
       "      <td>52.036224</td>\n",
       "      <td>60.340828</td>\n",
       "      <td>-15.964634</td>\n",
       "      <td>-7.388012</td>\n",
       "      <td>63.815544</td>\n",
       "      <td>25.942987</td>\n",
       "      <td>11.090320</td>\n",
       "      <td>-68.870728</td>\n",
       "      <td>155.942566</td>\n",
       "      <td>-94.483940</td>\n",
       "      <td>30.216591</td>\n",
       "      <td>124.273323</td>\n",
       "      <td>38.031742</td>\n",
       "      <td>9.715786</td>\n",
       "      <td>-26.055979</td>\n",
       "      <td>30.672075</td>\n",
       "    </tr>\n",
       "    <tr>\n",
       "      <th>2</th>\n",
       "      <td>23.196493</td>\n",
       "      <td>16.620928</td>\n",
       "      <td>17.298912</td>\n",
       "      <td>5.817027</td>\n",
       "      <td>24.205963</td>\n",
       "      <td>18.407814</td>\n",
       "      <td>-8.692711</td>\n",
       "      <td>-8.713350</td>\n",
       "      <td>18.902290</td>\n",
       "      <td>-2.144140</td>\n",
       "      <td>-6.315939</td>\n",
       "      <td>13.972256</td>\n",
       "      <td>51.477520</td>\n",
       "      <td>-32.174904</td>\n",
       "      <td>-2.256218</td>\n",
       "      <td>43.648052</td>\n",
       "    </tr>\n",
       "    <tr>\n",
       "      <th>3</th>\n",
       "      <td>207.244736</td>\n",
       "      <td>67.149155</td>\n",
       "      <td>24.739752</td>\n",
       "      <td>-200.703613</td>\n",
       "      <td>30.226284</td>\n",
       "      <td>12.246349</td>\n",
       "      <td>1.695681</td>\n",
       "      <td>34.967430</td>\n",
       "      <td>163.585571</td>\n",
       "      <td>-24.516315</td>\n",
       "      <td>-22.978434</td>\n",
       "      <td>-159.064133</td>\n",
       "      <td>53.865547</td>\n",
       "      <td>-56.242001</td>\n",
       "      <td>-3.539470</td>\n",
       "      <td>-22.632744</td>\n",
       "    </tr>\n",
       "    <tr>\n",
       "      <th>4</th>\n",
       "      <td>69.367935</td>\n",
       "      <td>-57.940212</td>\n",
       "      <td>-0.940327</td>\n",
       "      <td>46.390923</td>\n",
       "      <td>77.645363</td>\n",
       "      <td>-41.967579</td>\n",
       "      <td>38.667870</td>\n",
       "      <td>-57.418503</td>\n",
       "      <td>110.812027</td>\n",
       "      <td>11.934591</td>\n",
       "      <td>-51.973717</td>\n",
       "      <td>102.684700</td>\n",
       "      <td>194.345261</td>\n",
       "      <td>86.914566</td>\n",
       "      <td>14.187761</td>\n",
       "      <td>179.581772</td>\n",
       "    </tr>\n",
       "  </tbody>\n",
       "</table>\n",
       "</div>"
      ],
      "text/plain": [
       "           E1        p1x        p1y         p1z         E2        p2x  \\\n",
       "0  175.856079 -19.807190 -20.252741 -170.635651  48.693398  21.577595   \n",
       "1   52.036224  60.340828 -15.964634   -7.388012  63.815544  25.942987   \n",
       "2   23.196493  16.620928  17.298912    5.817027  24.205963  18.407814   \n",
       "3  207.244736  67.149155  24.739752 -200.703613  30.226284  12.246349   \n",
       "4   69.367935 -57.940212  -0.940327   46.390923  77.645363 -41.967579   \n",
       "\n",
       "         p2y        p2z          E3        p3x        p3y         p3z  \\\n",
       "0  41.828693 -20.910669  199.422302 -33.192181  11.514059 -192.389099   \n",
       "1  11.090320 -68.870728  155.942566 -94.483940  30.216591  124.273323   \n",
       "2  -8.692711  -8.713350   18.902290  -2.144140  -6.315939   13.972256   \n",
       "3   1.695681  34.967430  163.585571 -24.516315 -22.978434 -159.064133   \n",
       "4  38.667870 -57.418503  110.812027  11.934591 -51.973717  102.684700   \n",
       "\n",
       "           E4        p4x        p4y         p4z  \n",
       "0   84.912758  30.506016 -31.559603  -73.875023  \n",
       "1   38.031742   9.715786 -26.055979   30.672075  \n",
       "2   51.477520 -32.174904  -2.256218   43.648052  \n",
       "3   53.865547 -56.242001  -3.539470  -22.632744  \n",
       "4  194.345261  86.914566  14.187761  179.581772  "
      ]
     },
     "execution_count": 96,
     "metadata": {},
     "output_type": "execute_result"
    }
   ],
   "source": [
    "gf.head()"
   ]
  },
  {
   "cell_type": "code",
   "execution_count": 97,
   "id": "790993f7-9ac3-4117-b3c3-f3f242871b71",
   "metadata": {},
   "outputs": [
    {
     "name": "stderr",
     "output_type": "stream",
     "text": [
      "/home/valdo/.pyenv/versions/3.11.4/envs/event_simulator/lib/python3.11/site-packages/pandas/core/arraylike.py:396: RuntimeWarning: invalid value encountered in sqrt\n",
      "  result = getattr(ufunc, method)(*inputs, **kwargs)\n"
     ]
    }
   ],
   "source": [
    "e_sum_sq_g0 = np.power(gf0['E1'] + gf0['E2'] + gf0['E3'] + gf0['E4'], 2)\n",
    "x_sum_sq_g0 = np.power(gf0['p1x'] + gf0['p2x'] + gf0['p3x'] + gf0['p4x'], 2)\n",
    "y_sum_sq_g0 = np.power(gf0['p1y'] + gf0['p2y'] + gf0['p3y'] + gf0['p4y'], 2)\n",
    "z_sum_sq_g0 = np.power(gf0['p1z'] + gf0['p2z'] + gf0['p3z'] + gf0['p4z'], 2)\n",
    "m_values_g0 = np.sqrt(e_sum_sq_g0 - x_sum_sq_g0 - y_sum_sq_g0 - z_sum_sq_g0)"
   ]
  },
  {
   "cell_type": "code",
   "execution_count": 98,
   "id": "e17c4463-6abd-45c8-8388-dff850b28506",
   "metadata": {
    "ExecuteTime": {
     "end_time": "2023-12-08T21:09:30.343624Z",
     "start_time": "2023-12-08T21:09:30.323799Z"
    }
   },
   "outputs": [],
   "source": [
    "e_sum_sq_g = np.power(gf['E1'] + gf['E2'] + gf['E3'] + gf['E4'], 2)\n",
    "x_sum_sq_g = np.power(gf['p1x'] + gf['p2x'] + gf['p3x'] + gf['p4x'], 2)\n",
    "y_sum_sq_g = np.power(gf['p1y'] + gf['p2y'] + gf['p3y'] + gf['p4y'], 2)\n",
    "z_sum_sq_g = np.power(gf['p1z'] + gf['p2z'] + gf['p3z'] + gf['p4z'], 2)\n",
    "m_values_g = np.sqrt(e_sum_sq_g - x_sum_sq_g - y_sum_sq_g - z_sum_sq_g)"
   ]
  },
  {
   "cell_type": "code",
   "execution_count": 99,
   "id": "280e21c1-e5a7-4b50-9bf0-363c93a77295",
   "metadata": {
    "ExecuteTime": {
     "end_time": "2023-12-08T21:09:40.391479Z",
     "start_time": "2023-12-08T21:09:40.271325Z"
    }
   },
   "outputs": [
    {
     "data": {
      "image/png": "[encoded data removed]",
      "text/plain": [
       "<Figure size 1500x500 with 1 Axes>"
      ]
     },
     "metadata": {},
     "output_type": "display_data"
    }
   ],
   "source": [
    "plt.figure(figsize=(15, 5))\n",
    "plt.hist([m_values, m_values_g0, m_values_g], \n",
    "         bins=200, range=(50,600), histtype='step', \n",
    "         label=['training','generated_vae','generated_vae_m'])\n",
    "plt.legend()\n",
    "plt.show()"
   ]
  },
  {
   "cell_type": "markdown",
   "id": "d042197a-adbd-4787-903d-bf7b1db9e592",
   "metadata": {},
   "source": [
    "# Training info"
   ]
  },
  {
   "cell_type": "code",
   "execution_count": 100,
   "id": "1af343b3-4b74-4752-a892-81092acdacbd",
   "metadata": {
    "ExecuteTime": {
     "end_time": "2023-12-08T21:09:45.994581Z",
     "start_time": "2023-12-08T21:09:45.987230Z"
    }
   },
   "outputs": [
    {
     "data": {
      "text/html": [
       "<div>\n",
       "<style scoped>\n",
       "    .dataframe tbody tr th:only-of-type {\n",
       "        vertical-align: middle;\n",
       "    }\n",
       "\n",
       "    .dataframe tbody tr th {\n",
       "        vertical-align: top;\n",
       "    }\n",
       "\n",
       "    .dataframe thead th {\n",
       "        text-align: right;\n",
       "    }\n",
       "</style>\n",
       "<table border=\"1\" class=\"dataframe\">\n",
       "  <thead>\n",
       "    <tr style=\"text-align: right;\">\n",
       "      <th></th>\n",
       "      <th>epoch</th>\n",
       "      <th>loss</th>\n",
       "      <th>val_loss</th>\n",
       "    </tr>\n",
       "  </thead>\n",
       "  <tbody>\n",
       "    <tr>\n",
       "      <th>0</th>\n",
       "      <td>0</td>\n",
       "      <td>0.510213</td>\n",
       "      <td>0.510416</td>\n",
       "    </tr>\n",
       "    <tr>\n",
       "      <th>1</th>\n",
       "      <td>1</td>\n",
       "      <td>0.024333</td>\n",
       "      <td>0.000890</td>\n",
       "    </tr>\n",
       "    <tr>\n",
       "      <th>2</th>\n",
       "      <td>2</td>\n",
       "      <td>0.002253</td>\n",
       "      <td>0.000357</td>\n",
       "    </tr>\n",
       "    <tr>\n",
       "      <th>3</th>\n",
       "      <td>3</td>\n",
       "      <td>0.000602</td>\n",
       "      <td>0.000292</td>\n",
       "    </tr>\n",
       "    <tr>\n",
       "      <th>4</th>\n",
       "      <td>4</td>\n",
       "      <td>0.002539</td>\n",
       "      <td>0.000239</td>\n",
       "    </tr>\n",
       "  </tbody>\n",
       "</table>\n",
       "</div>"
      ],
      "text/plain": [
       "   epoch      loss  val_loss\n",
       "0      0  0.510213  0.510416\n",
       "1      1  0.024333  0.000890\n",
       "2      2  0.002253  0.000357\n",
       "3      3  0.000602  0.000292\n",
       "4      4  0.002539  0.000239"
      ]
     },
     "execution_count": 100,
     "metadata": {},
     "output_type": "execute_result"
    }
   ],
   "source": [
    "log0 = pd.read_csv('../vae/four_guys.csv.log')\n",
    "log = pd.read_csv('four_guys.csv.log')\n",
    "log.head()"
   ]
  },
  {
   "cell_type": "code",
   "execution_count": 101,
   "id": "1fab13d4-17e2-4aa9-b082-2bcf369acc4f",
   "metadata": {},
   "outputs": [
    {
     "data": {
      "text/html": [
       "<div>\n",
       "<style scoped>\n",
       "    .dataframe tbody tr th:only-of-type {\n",
       "        vertical-align: middle;\n",
       "    }\n",
       "\n",
       "    .dataframe tbody tr th {\n",
       "        vertical-align: top;\n",
       "    }\n",
       "\n",
       "    .dataframe thead th {\n",
       "        text-align: right;\n",
       "    }\n",
       "</style>\n",
       "<table border=\"1\" class=\"dataframe\">\n",
       "  <thead>\n",
       "    <tr style=\"text-align: right;\">\n",
       "      <th></th>\n",
       "      <th>epoch</th>\n",
       "      <th>loss</th>\n",
       "      <th>mse</th>\n",
       "      <th>val_loss</th>\n",
       "      <th>val_mse</th>\n",
       "    </tr>\n",
       "  </thead>\n",
       "  <tbody>\n",
       "    <tr>\n",
       "      <th>1315</th>\n",
       "      <td>115</td>\n",
       "      <td>0.000038</td>\n",
       "      <td>0.000005</td>\n",
       "      <td>0.000038</td>\n",
       "      <td>0.000005</td>\n",
       "    </tr>\n",
       "    <tr>\n",
       "      <th>1316</th>\n",
       "      <td>116</td>\n",
       "      <td>0.000038</td>\n",
       "      <td>0.000005</td>\n",
       "      <td>0.000038</td>\n",
       "      <td>0.000005</td>\n",
       "    </tr>\n",
       "    <tr>\n",
       "      <th>1317</th>\n",
       "      <td>117</td>\n",
       "      <td>0.000038</td>\n",
       "      <td>0.000005</td>\n",
       "      <td>0.000038</td>\n",
       "      <td>0.000005</td>\n",
       "    </tr>\n",
       "    <tr>\n",
       "      <th>1318</th>\n",
       "      <td>118</td>\n",
       "      <td>0.000038</td>\n",
       "      <td>0.000005</td>\n",
       "      <td>0.000038</td>\n",
       "      <td>0.000005</td>\n",
       "    </tr>\n",
       "    <tr>\n",
       "      <th>1319</th>\n",
       "      <td>119</td>\n",
       "      <td>0.000038</td>\n",
       "      <td>0.000005</td>\n",
       "      <td>0.000038</td>\n",
       "      <td>0.000005</td>\n",
       "    </tr>\n",
       "  </tbody>\n",
       "</table>\n",
       "</div>"
      ],
      "text/plain": [
       "      epoch      loss       mse  val_loss   val_mse\n",
       "1315    115  0.000038  0.000005  0.000038  0.000005\n",
       "1316    116  0.000038  0.000005  0.000038  0.000005\n",
       "1317    117  0.000038  0.000005  0.000038  0.000005\n",
       "1318    118  0.000038  0.000005  0.000038  0.000005\n",
       "1319    119  0.000038  0.000005  0.000038  0.000005"
      ]
     },
     "execution_count": 101,
     "metadata": {},
     "output_type": "execute_result"
    }
   ],
   "source": [
    "log0.tail()"
   ]
  },
  {
   "cell_type": "code",
   "execution_count": 102,
   "id": "e72f5443-b1f4-47e1-ab51-34cc6ff52342",
   "metadata": {},
   "outputs": [
    {
     "data": {
      "text/html": [
       "<div>\n",
       "<style scoped>\n",
       "    .dataframe tbody tr th:only-of-type {\n",
       "        vertical-align: middle;\n",
       "    }\n",
       "\n",
       "    .dataframe tbody tr th {\n",
       "        vertical-align: top;\n",
       "    }\n",
       "\n",
       "    .dataframe thead th {\n",
       "        text-align: right;\n",
       "    }\n",
       "</style>\n",
       "<table border=\"1\" class=\"dataframe\">\n",
       "  <thead>\n",
       "    <tr style=\"text-align: right;\">\n",
       "      <th></th>\n",
       "      <th>epoch</th>\n",
       "      <th>loss</th>\n",
       "      <th>val_loss</th>\n",
       "    </tr>\n",
       "  </thead>\n",
       "  <tbody>\n",
       "    <tr>\n",
       "      <th>18</th>\n",
       "      <td>18</td>\n",
       "      <td>0.000152</td>\n",
       "      <td>0.000171</td>\n",
       "    </tr>\n",
       "    <tr>\n",
       "      <th>19</th>\n",
       "      <td>19</td>\n",
       "      <td>0.000149</td>\n",
       "      <td>0.000125</td>\n",
       "    </tr>\n",
       "    <tr>\n",
       "      <th>20</th>\n",
       "      <td>20</td>\n",
       "      <td>0.000143</td>\n",
       "      <td>0.000155</td>\n",
       "    </tr>\n",
       "    <tr>\n",
       "      <th>21</th>\n",
       "      <td>21</td>\n",
       "      <td>0.000136</td>\n",
       "      <td>0.000136</td>\n",
       "    </tr>\n",
       "    <tr>\n",
       "      <th>22</th>\n",
       "      <td>22</td>\n",
       "      <td>0.000129</td>\n",
       "      <td>0.000142</td>\n",
       "    </tr>\n",
       "  </tbody>\n",
       "</table>\n",
       "</div>"
      ],
      "text/plain": [
       "    epoch      loss  val_loss\n",
       "18     18  0.000152  0.000171\n",
       "19     19  0.000149  0.000125\n",
       "20     20  0.000143  0.000155\n",
       "21     21  0.000136  0.000136\n",
       "22     22  0.000129  0.000142"
      ]
     },
     "execution_count": 102,
     "metadata": {},
     "output_type": "execute_result"
    }
   ],
   "source": [
    "log.tail()"
   ]
  },
  {
   "cell_type": "code",
   "execution_count": 104,
   "id": "95feba57-2131-4888-8a11-e55a356526c8",
   "metadata": {
    "ExecuteTime": {
     "end_time": "2023-12-08T21:09:47.550965Z",
     "start_time": "2023-12-08T21:09:47.328759Z"
    }
   },
   "outputs": [
    {
     "data": {
      "image/png": "[encoded data removed]",
      "text/plain": [
       "<Figure size 1500x700 with 1 Axes>"
      ]
     },
     "metadata": {},
     "output_type": "display_data"
    }
   ],
   "source": [
    "plt.figure(figsize=(15, 7))\n",
    "plt.plot(log0.index, log0.val_loss, label='val_loss0')\n",
    "# plt.plot(log0.index, log0.val_mse, label='val_mse0')\n",
    "plt.plot(log.index, log.val_loss, label='val_loss')\n",
    "# plt.plot(log.index, log.val_mse, label='val_mse')\n",
    "# plt.plot(log.index, log.loss, label='loss')\n",
    "# plt.plot(log.index, log.mse, label='mse')\n",
    "\n",
    "#plt.xlim((-1, 400))\n",
    "plt.yscale('log')\n",
    "plt.legend()\n",
    "plt.show()"
   ]
  },
  {
   "cell_type": "code",
   "execution_count": 36,
   "id": "1efdc9c9-7ad8-48b6-a79e-2e08ae7e0a0a",
   "metadata": {},
   "outputs": [
    {
     "data": {
      "text/plain": [
       "(0.001, 7.8125e-06)"
      ]
     },
     "execution_count": 36,
     "metadata": {},
     "output_type": "execute_result"
    }
   ],
   "source": [
    "learnrate = 0.001\n",
    "iterations = 7\n",
    "lr_limit = 0.001 / (2**iterations)\n",
    "learnrate, lr_limit"
   ]
  },
  {
   "cell_type": "code",
   "execution_count": 38,
   "id": "5a2b0614-afbb-4bae-8285-3dd75ceb118f",
   "metadata": {},
   "outputs": [
    {
     "data": {
      "text/plain": [
       "100000.00000000001"
      ]
     },
     "execution_count": 38,
     "metadata": {},
     "output_type": "execute_result"
    }
   ],
   "source": [
    "0.1 / 1e-6"
   ]
  },
  {
   "cell_type": "code",
   "execution_count": 40,
   "id": "f9cc46ee-039a-4c3f-a090-74d17155c70c",
   "metadata": {},
   "outputs": [
    {
     "data": {
      "text/plain": [
       "66.66666666666667"
      ]
     },
     "execution_count": 40,
     "metadata": {},
     "output_type": "execute_result"
    }
   ],
   "source": [
    "100000 / 1500"
   ]
  },
  {
   "cell_type": "code",
   "execution_count": 81,
   "id": "7a3e041f-9367-4f6d-9921-ffee56abb2c5",
   "metadata": {},
   "outputs": [
    {
     "data": {
      "image/png": "[encoded data removed]",
      "text/plain": [
       "<Figure size 640x480 with 1 Axes>"
      ]
     },
     "metadata": {},
     "output_type": "display_data"
    }
   ],
   "source": [
    "plt.plot(range(60), [ i % 5 for i in range(60)])\n",
    "plt.show()"
   ]
  },
  {
   "cell_type": "code",
   "execution_count": null,
   "id": "c419a5d7-4a13-45b4-a88f-553d7fa8646b",
   "metadata": {},
   "outputs": [],
   "source": []
  }
 ],
 "metadata": {
  "hide_input": false,
  "kernelspec": {
   "display_name": "Python 3 (ipykernel)",
   "language": "python",
   "name": "python3"
  },
  "language_info": {
   "codemirror_mode": {
    "name": "ipython",
    "version": 3
   },
   "file_extension": ".py",
   "mimetype": "text/x-python",
   "name": "python",
   "nbconvert_exporter": "python",
   "pygments_lexer": "ipython3",
   "version": "3.11.4"
  },
  "varInspector": {
   "cols": {
    "lenName": 16,
    "lenType": 16,
    "lenVar": 40
   },
   "kernels_config": {
    "python": {
     "delete_cmd_postfix": "",
     "delete_cmd_prefix": "del ",
     "library": "var_list.py",
     "varRefreshCmd": "print(var_dic_list())"
    },
    "r": {
     "delete_cmd_postfix": ") ",
     "delete_cmd_prefix": "rm(",
     "library": "var_list.r",
     "varRefreshCmd": "cat(var_dic_list()) "
    }
   },
   "types_to_exclude": [
    "module",
    "function",
    "builtin_function_or_method",
    "instance",
    "_Feature"
   ],
   "window_display": false
  },
  "vscode": {
   "interpreter": {
    "hash": "876db32bcdd17dd4862348d8c3433074a8a31c58638b33213fce1000d94889d4"
   }
  }
 },
 "nbformat": 4,
 "nbformat_minor": 5
}
